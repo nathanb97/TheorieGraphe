{
 "cells": [
  {
   "cell_type": "markdown",
   "metadata": {},
   "source": [
    "# Implantation"
   ]
  },
  {
   "cell_type": "markdown",
   "metadata": {},
   "source": [
    "## Rappels et exemples Python sur les dictionnaires et compréhensions\n",
    "\n",
    "Suivez le tutoriel suivant: http://doc.sagemath.org/html/en/thematic_tutorials/tutorial-comprehensions.html\n",
    "\n",
    "Puis analysez les exemples suivants:"
   ]
  },
  {
   "cell_type": "code",
   "execution_count": 1,
   "metadata": {},
   "outputs": [
    {
     "data": {
      "text/plain": [
       "[9, 4, 1, 0]"
      ]
     },
     "execution_count": 1,
     "metadata": {},
     "output_type": "execute_result"
    }
   ],
   "source": [
    "l = [3,2,1,0]\n",
    "[ i**2    for i in l ]"
   ]
  },
  {
   "cell_type": "code",
   "execution_count": 2,
   "metadata": {},
   "outputs": [],
   "source": [
    "l = [\"a\", \"z\", \"b\"]\n",
    "d = {l[i] : i for i in range(len(l))}"
   ]
  },
  {
   "cell_type": "code",
   "execution_count": 3,
   "metadata": {},
   "outputs": [
    {
     "name": "stdout",
     "output_type": "stream",
     "text": [
      "a\n",
      "z\n",
      "b\n"
     ]
    }
   ],
   "source": [
    "for v in d.keys():\n",
    "    print(v)"
   ]
  },
  {
   "cell_type": "code",
   "execution_count": 4,
   "metadata": {},
   "outputs": [
    {
     "data": {
      "text/plain": [
       "[('a', 1), ('z', 1), ('b', 1)]"
      ]
     },
     "execution_count": 4,
     "metadata": {},
     "output_type": "execute_result"
    }
   ],
   "source": [
    "[(v, 1) for v in l]"
   ]
  },
  {
   "cell_type": "markdown",
   "metadata": {},
   "source": [
    "## Conversions"
   ]
  },
  {
   "cell_type": "markdown",
   "metadata": {},
   "source": [
    "**Exercice:**\n",
    "\n",
    "Choisissez une des structure de données de graphes que l'on a vu (liste d'arêtes, dictionnaire des voisins, dictionnnaire d'arête, matrice d'adjacence).\n",
    "\n",
    "Implantez des fonctions Python `from_matrix`, `from_edges`, `from_neighbor_dict`, `from_edge_dict`. La fonction `from_matrix` prendra un graphe représenté par une matrice d'adjacence et renverra le même graphe dans la structure de donnée que vous avez choisi.\n",
    "\n",
    "Testez ces fonctions sur les exemples de la fiche précédente."
   ]
  },
  {
   "cell_type": "code",
   "execution_count": 5,
   "metadata": {},
   "outputs": [],
   "source": [
    "def f(a,b,keys):\n",
    "    print(\"a\",a,\"b\",b,keys.index(a))\n",
    "    return (keys.index(a), keys.index(b))\n",
    "\n",
    "def from_neighbor_dict(g):\n",
    "    keys=sorted(g.keys())\n",
    "    size=len(keys)\n",
    "    M = [ [0]*size for i in range(size) ]\n",
    "    print(M,\"\\n\",g.items())\n",
    "    [f(a,b,keys) for a, row in g.items()]\n",
    "    for a,b in [f(a,b,keys) for a, row in g.items() for b in row]:\n",
    "         M[a][b] = 2 if (a==b) else 1\n",
    "\n",
    "    return M\n",
    "\n",
    "def from_matrix(M):\n",
    "    L=[]\n",
    "    for i in range(len(M)):\n",
    "        for j in range(len(M)):\n",
    "            if (M[i][j]!=0):\n",
    "                L.append((i,j,M[i][j]))\n",
    "    return L\n",
    "#return mat\n",
    "def from_egdes_dic(edges):\n",
    "    l=[]\n",
    "    for v1,v2,c in edges :\n",
    "        if(v1 not in l):\n",
    "            l.append(v1)\n",
    "        if(v2 not in l):\n",
    "            l.append(v2)\n",
    "\n",
    "    l=sorted(l)\n",
    "    m=[[0]*len(l)for i in range(len(l))]\n",
    "    for v1,v2,c in edges :\n",
    "        m[v1][v2]=c\n",
    "        m[v2][v1]=c\n",
    "    return m\n",
    "\n",
    "def from_egdes_dic_for_graph(edges,vertices,_vertex_indices):\n",
    "    \n",
    "    m=[[0]*len(vertices)for i in range(len(vertices))]\n",
    "    for v1,v2,c in edges :\n",
    "        m[_vertex_indices[v1]][_vertex_indices[v2]]=c\n",
    "        m[_vertex_indices[v2]][_vertex_indices[v1]]=c\n",
    "    return m\n",
    "\n",
    "\n",
    "def from_neighbor_dic(d):\n",
    "    res=[]\n",
    "    for i in d.keys():\n",
    "        for j in d[i]:\n",
    "            res.append((i,j[0],j[1]))\n",
    "    return res\n",
    "\n"
   ]
  },
  {
   "cell_type": "code",
   "execution_count": 11,
   "metadata": {},
   "outputs": [
    {
     "data": {
      "text/plain": [
       "{0: {}, 1: {}, 2: {}, 3: {}, 4: {}}"
      ]
     },
     "execution_count": 11,
     "metadata": {},
     "output_type": "execute_result"
    }
   ],
   "source": [
    "DV1 = { 5: [(4, 10)],\n",
    "        4: [(1, 10),(2, 10),(3,0)],\n",
    "       2:[(4, 2),(1, 1)],\n",
    "       3:[(1,1),(4,0)],\n",
    "       1:[(3,1),(2,1)]}\n",
    "M0 = [ [0, 10, 4],\n",
    "       [0,  0, 0],\n",
    "       [0,  0, 0]]\n",
    "\n",
    "from_matrix(M0)\n",
    "from_neighbor_dic(DV1)\n",
    "###\n",
    "from graph_networkx import Graph\n",
    "L0 = Graph(vertices=[0, 1, 2],\n",
    "              edges=[ (0,1,10), (0,2,4) ])\n",
    "L0.show()\n",
    "###\n",
    "\n",
    "M0 = [ [0, 10, 4],\n",
    "       [0,  0, 0],\n",
    "       [0,  0, 0]]\n",
    "\n",
    "\n",
    "DV1 = { 5: [(4, 10)],\n",
    "        4: [(1, 10),(2, 10),(3,0)],\n",
    "       2:[(4, 2),(1, 1)],\n",
    "       3:[(1,1),(4,0)],\n",
    "       1:[(3,1),(2,1)]}\n",
    "M1 = [ [0, 1, 1, 0, 0],\n",
    "       [1, 0, 0, 2, 0],\n",
    "       [1, 0, 0, 0, 0],\n",
    "       [0, 2, 0, 0, 3],\n",
    "       [0, 0, 0, 3, 0]]\n",
    "\n",
    "vertices=[i for i in range(0,len(M1))]\n",
    "edges=from_matrix(M1)\n",
    "\n",
    "####\n",
    "L1 = [ (1,2,1), (1,3,1), (2,4,2), (3,4,0), (4,5,3) ]\n",
    "G = Graph(vertices=[1,2,3,4,5],\n",
    "              edges=L1)\n",
    "G.show()\n",
    "\n",
    "###\n",
    "vertices,edges\n",
    "###\n",
    "L0 = Graph(vertices=vertices,\n",
    "              edges=edges)\n",
    "L0.show()\n",
    "\n",
    "###\n",
    "{u: {} for u in vertices }\n"
   ]
  },
  {
   "cell_type": "code",
   "execution_count": 12,
   "metadata": {},
   "outputs": [],
   "source": [
    "vertices=[1,2,3,4,5]\n",
    "edges=[ (1,2,1), (1,3,1), (2,4,2), (3,4,0), (4,5,3) ]"
   ]
  },
  {
   "cell_type": "code",
   "execution_count": 13,
   "metadata": {},
   "outputs": [
    {
     "name": "stdout",
     "output_type": "stream",
     "text": [
      "{1: {}, 2: {}, 3: {}, 4: {}, 5: {}}\n",
      "u 1 v 2 value 1 \n",
      "\n",
      "\n",
      "je rentre \n",
      "\n",
      "\n",
      "{1: {2: 1}, 2: {1: 1}, 3: {}, 4: {}, 5: {}} \n",
      "\n",
      "\n",
      "u 1 v 3 value 1 \n",
      "\n",
      "\n",
      "je rentre \n",
      "\n",
      "\n",
      "{1: {2: 1, 3: 1}, 2: {1: 1}, 3: {1: 1}, 4: {}, 5: {}} \n",
      "\n",
      "\n",
      "u 2 v 4 value 2 \n",
      "\n",
      "\n",
      "je rentre \n",
      "\n",
      "\n",
      "{1: {2: 1, 3: 1}, 2: {1: 1, 4: 2}, 3: {1: 1}, 4: {2: 2}, 5: {}} \n",
      "\n",
      "\n",
      "u 3 v 4 value 0 \n",
      "\n",
      "\n",
      "je rentre \n",
      "\n",
      "\n",
      "{1: {2: 1, 3: 1}, 2: {1: 1, 4: 2}, 3: {1: 1, 4: 0}, 4: {2: 2, 3: 0}, 5: {}} \n",
      "\n",
      "\n",
      "u 4 v 5 value 3 \n",
      "\n",
      "\n",
      "je rentre \n",
      "\n",
      "\n",
      "{1: {2: 1, 3: 1}, 2: {1: 1, 4: 2}, 3: {1: 1, 4: 0}, 4: {2: 2, 3: 0, 5: 3}, 5: {4: 3}} \n",
      "\n",
      "\n"
     ]
    },
    {
     "data": {
      "text/plain": [
       "{1: {2: 1, 3: 1},\n",
       " 2: {1: 1, 4: 2},\n",
       " 3: {1: 1, 4: 0},\n",
       " 4: {2: 2, 3: 0, 5: 3},\n",
       " 5: {4: 3}}"
      ]
     },
     "execution_count": 13,
     "metadata": {},
     "output_type": "execute_result"
    }
   ],
   "source": [
    "neighbors_out = {u: {} for u in vertices }\n",
    "print(neighbors_out)\n",
    "for u, v, value in edges:\n",
    "    print(\"u\",u,\"v\",v,\"value\",value,\"\\n\\n\")\n",
    "    neighbors_out[u][v] = value\n",
    "    if not False:\n",
    "        print(\"je rentre\",\"\\n\\n\")\n",
    "        neighbors_out[v][u] = value\n",
    "    print(neighbors_out,\"\\n\\n\")\n",
    "#Voisin:\n",
    "neighbors_out\n",
    "#sauvegarde\n",
    "neighbors_out"
   ]
  },
  {
   "cell_type": "code",
   "execution_count": 14,
   "metadata": {},
   "outputs": [
    {
     "data": {
      "text/plain": [
       "[(0, 1, 1),\n",
       " (0, 2, 1),\n",
       " (1, 0, 1),\n",
       " (1, 3, 2),\n",
       " (2, 0, 1),\n",
       " (3, 1, 2),\n",
       " (3, 4, 3),\n",
       " (4, 3, 3)]"
      ]
     },
     "execution_count": 14,
     "metadata": {},
     "output_type": "execute_result"
    }
   ],
   "source": [
    "M1 = [ [0, 1, 1, 0, 0],\n",
    "       [1, 0, 0, 2, 0],\n",
    "       [1, 0, 0, 0, 0],\n",
    "       [0, 2, 0, 0, 3],\n",
    "       [0, 0, 0, 3, 0]]\n",
    "\n",
    "vertices=[i for i in range(0,len(M1))]\n",
    "edges=from_matrix(M1)\n",
    "\n",
    "edges"
   ]
  },
  {
   "cell_type": "markdown",
   "metadata": {},
   "source": [
    "## Une classe graphe"
   ]
  },
  {
   "cell_type": "markdown",
   "metadata": {},
   "source": [
    "Le fichier [graph.py](grapy.py) contient un squelette de classe pour représenter des graphes. Votre mission pour la prochaine séance est de compléter les méthodes non implantées. Un certain nombre de tests sont inclus dans la documentation. N'hésitez pas à compléter tests et documentation. Pour lancer les tests vous pouvez faire:"
   ]
  },
  {
   "cell_type": "code",
   "execution_count": 33,
   "metadata": {},
   "outputs": [
    {
     "name": "stdout",
     "output_type": "stream",
     "text": [
      "je suisss sla\n"
     ]
    },
    {
     "data": {
      "application/vnd.jupyter.widget-view+json": {
       "model_id": "68bbf36e17684f08a0f0968afe18101d",
       "version_major": 2,
       "version_minor": 0
      },
      "text/plain": [
       "Figure(fig_margin={'top': 60, 'bottom': 60, 'left': 60, 'right': 60}, layout=Layout(height='600px', width='600…"
      ]
     },
     "metadata": {},
     "output_type": "display_data"
    }
   ],
   "source": [
    "G = Graph((1,2,3,4))\n",
    "G = examples.cours_1_reseau()\n",
    "G.show()\n",
    "G."
   ]
  },
  {
   "cell_type": "code",
   "execution_count": 34,
   "metadata": {},
   "outputs": [],
   "source": [
    "from graph_examples import examples"
   ]
  },
  {
   "cell_type": "code",
   "execution_count": 37,
   "metadata": {},
   "outputs": [
    {
     "name": "stdout",
     "output_type": "stream",
     "text": [
      "\u001b[1m============================= test session starts ==============================\u001b[0m\n",
      "platform linux -- Python 3.7.6, pytest-5.4.3, py-1.8.1, pluggy-0.13.1\n",
      "rootdir: /home/jovyan/Algorithme_Avancee/TP1/1-StructuresDeDonnees\n",
      "collected 5 items                                                              \u001b[0m\n",
      "\n",
      "graph.py \u001b[32m.\u001b[0m\u001b[32m.\u001b[0m\u001b[32m.\u001b[0m\u001b[32m.\u001b[0m\u001b[32m.\u001b[0m\u001b[32m                                                           [100%]\u001b[0m\n",
      "\n",
      "\u001b[32m============================== \u001b[32m\u001b[1m5 passed\u001b[0m\u001b[32m in 0.49s\u001b[0m\u001b[32m ===============================\u001b[0m\n"
     ]
    }
   ],
   "source": [
    "!pytest --doctest-modules"
   ]
  },
  {
   "cell_type": "markdown",
   "metadata": {},
   "source": [
    "Vous pouvez aussi lancer la commande ci-dessus (sans le `!`) dans un terminal."
   ]
  },
  {
   "cell_type": "code",
   "execution_count": null,
   "metadata": {},
   "outputs": [],
   "source": []
  },
  {
   "cell_type": "code",
   "execution_count": null,
   "metadata": {},
   "outputs": [],
   "source": []
  },
  {
   "cell_type": "code",
   "execution_count": null,
   "metadata": {},
   "outputs": [],
   "source": []
  },
  {
   "cell_type": "code",
   "execution_count": null,
   "metadata": {},
   "outputs": [],
   "source": []
  },
  {
   "cell_type": "code",
   "execution_count": null,
   "metadata": {},
   "outputs": [],
   "source": []
  },
  {
   "cell_type": "code",
   "execution_count": null,
   "metadata": {},
   "outputs": [],
   "source": []
  },
  {
   "cell_type": "code",
   "execution_count": null,
   "metadata": {},
   "outputs": [],
   "source": []
  },
  {
   "cell_type": "code",
   "execution_count": null,
   "metadata": {},
   "outputs": [],
   "source": []
  },
  {
   "cell_type": "code",
   "execution_count": null,
   "metadata": {},
   "outputs": [],
   "source": []
  },
  {
   "cell_type": "code",
   "execution_count": null,
   "metadata": {},
   "outputs": [],
   "source": []
  },
  {
   "cell_type": "code",
   "execution_count": null,
   "metadata": {},
   "outputs": [],
   "source": []
  },
  {
   "cell_type": "code",
   "execution_count": null,
   "metadata": {},
   "outputs": [],
   "source": []
  },
  {
   "cell_type": "code",
   "execution_count": null,
   "metadata": {},
   "outputs": [],
   "source": []
  },
  {
   "cell_type": "code",
   "execution_count": null,
   "metadata": {},
   "outputs": [],
   "source": []
  },
  {
   "cell_type": "code",
   "execution_count": null,
   "metadata": {},
   "outputs": [],
   "source": []
  }
 ],
 "metadata": {
  "kernelspec": {
   "display_name": "Python 3",
   "language": "python",
   "name": "python3"
  },
  "language_info": {
   "codemirror_mode": {
    "name": "ipython",
    "version": 3
   },
   "file_extension": ".py",
   "mimetype": "text/x-python",
   "name": "python",
   "nbconvert_exporter": "python",
   "pygments_lexer": "ipython3",
   "version": "3.7.6"
  },
  "toc": {
   "base_numbering": 1,
   "nav_menu": {},
   "number_sections": true,
   "sideBar": true,
   "skip_h1_title": false,
   "title_cell": "Table of Contents",
   "title_sidebar": "Contents",
   "toc_cell": false,
   "toc_position": {},
   "toc_section_display": true,
   "toc_window_display": false
  },
  "varInspector": {
   "cols": {
    "lenName": 16,
    "lenType": 16,
    "lenVar": 40
   },
   "kernels_config": {
    "python": {
     "delete_cmd_postfix": "",
     "delete_cmd_prefix": "del ",
     "library": "var_list.py",
     "varRefreshCmd": "print(var_dic_list())"
    },
    "r": {
     "delete_cmd_postfix": ") ",
     "delete_cmd_prefix": "rm(",
     "library": "var_list.r",
     "varRefreshCmd": "cat(var_dic_list()) "
    }
   },
   "types_to_exclude": [
    "module",
    "function",
    "builtin_function_or_method",
    "instance",
    "_Feature"
   ],
   "window_display": false
  }
 },
 "nbformat": 4,
 "nbformat_minor": 2
}
