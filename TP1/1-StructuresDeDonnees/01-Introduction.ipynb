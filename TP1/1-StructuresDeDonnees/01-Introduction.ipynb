{
 "cells": [
  {
   "cell_type": "markdown",
   "metadata": {
    "slideshow": {
     "slide_type": "slide"
    }
   },
   "source": [
    "## Graphes: quelques définitions"
   ]
  },
  {
   "cell_type": "markdown",
   "metadata": {},
   "source": [
    "Qu'y a t'il de commun entre tous nos problèmes?\n",
    "<!--TODO: figure!-->"
   ]
  },
  {
   "cell_type": "markdown",
   "metadata": {},
   "source": [
    "Dans chacun d'entre eux, la résolution se ramènera à étudier comment certains objets sont reliés entre eux.\n",
    "Autrement dit, le problème va pouvoir être **modélisé à l'aide d'un graphe**.\n",
    "\n",
    "\n",
    "Informellement: un **graphe** est la donnée d'un ensemble de **sommets** reliés par des **arêtes**.\n",
    "Voilà un exemple avec neuf sommets. Les sommets 0 et 2 y sont reliés entre eux. Mais pas 0 et 6:"
   ]
  },
  {
   "cell_type": "code",
   "execution_count": 14,
   "metadata": {},
   "outputs": [
    {
     "data": {
      "application/vnd.jupyter.widget-view+json": {
       "model_id": "0bb96805929c4fe0ae574dc4d842b74a",
       "version_major": 2,
       "version_minor": 0
      },
      "text/plain": [
       "Figure(fig_margin={'top': 60, 'bottom': 60, 'left': 60, 'right': 60}, layout=Layout(height='600px', width='600…"
      ]
     },
     "metadata": {},
     "output_type": "display_data"
    }
   ],
   "source": [
    "from graph_networkx import Graph\n",
    "G = Graph(vertices=[1, 2, 3, 4, 5],\n",
    "              edges=[ (1,2), (1,3), (2,4), (3,4), (4,5) ])\n",
    "G.show()"
   ]
  },
  {
   "cell_type": "markdown",
   "metadata": {},
   "source": [
    "La définition formelle la plus simple est la suivante:\n",
    "\n",
    "Un **graphe** est une paire $G:=(V,A)$ où $V$ est un ensemble et $A$ et un ensemble de paires $\\{v_1,v_2\\}$ d'éléments de $V$."
   ]
  },
  {
   "cell_type": "markdown",
   "metadata": {},
   "source": [
    "Dans notre exemple, $G=(V,A)$, où $V = \\{1,2,3,4,5\\}$ et $A = \\{\\{1,2\\}, \\{1,3\\}, \\{2,4\\}, \\{3,4\\}, \\{4,5\\}, \\{5,6\\}\\}$."
   ]
  },
  {
   "cell_type": "markdown",
   "metadata": {},
   "source": [
    "Remarque: dans la définition donnée, une arête est un ensemble à deux éléments:\n",
    "- le graphe n'est **pas orienté**: si $s$ est relié à $t$ alors $t$ est relié à $s$;\n",
    "- il n'y a pas de **boucle**, c'est à dire une arête reliant un sommet à lui-même;\n",
    "- ni d'**arête multiple**, c'est-à-dire plusieurs arêtes reliant les mêmes sommets;\n",
    "\n",
    "On parle de **graphe simple**."
   ]
  },
  {
   "cell_type": "markdown",
   "metadata": {
    "slideshow": {
     "slide_type": "slide"
    }
   },
   "source": [
    "## Graphes: Variantes\n",
    "\n",
    "Le plus souvent, cette information de base est enrichie d'informations supplémentaires: étiquettes sur les sommets, valuations sur les arêtes, orientation des arêtes, ...\n",
    "\n",
    "On remplace la paire $\\{v_1,v_2\\}$ par un couple $(v_1,v_2)$:\n",
    "- On a en plus: orientation, boucle...\n",
    "\n",
    "On ajoute un nombre à la paire $(v_1, v_2, c)$:\n",
    "- On a en plus: arête multiple, coût, capacité ...\n"
   ]
  },
  {
   "cell_type": "markdown",
   "metadata": {
    "slideshow": {
     "slide_type": "slide"
    }
   },
   "source": [
    "## Quelques structures de données pour les graphes\n",
    "\n",
    "Pour étudier un graphe à l'aide d'un ordinateur, il va falloir le représenter, c'est-à-dire choisir une structure de données. Comme le champ d'application des graphes et large, il y a beaucoup d'algorithmes différents, avec des besoins différents en terme de performance des opérations élémentaires. Tel algorithme va demander d'avoir un accès très performant aux voisins d'un sommet; tel autre parcourir les arêtes, etc. De ce fait, il existe de nombreuses structures de données possibles que nous allons explorer maintenant.\n",
    "\n",
    "On s'intéressera dans cette séance aux graphes orientés où chaque arête aura une capacité `c` qui sera un nombre."
   ]
  },
  {
   "cell_type": "markdown",
   "metadata": {},
   "source": [
    "### Liste d'arêtes\n",
    "\n",
    "Ici, on représentera un graphe par une liste de triplets `(v1,v2,c)`, chacun d'entre eux spécifiant qu'il y a une arête reliant $v_1$ à $v_2$ de capacité $c$."
   ]
  },
  {
   "cell_type": "markdown",
   "metadata": {},
   "source": [
    "Ci-dessous, nous donnons la structure de données `L0` d'un graphe $G_0$ avec trois sommets, $0,1,2$, et deux arêtes; la première relie $0$ à $1$ avec une capacité de $10$ et la deuxième relie $0$ à $2$ avec une capacité de $4$."
   ]
  },
  {
   "cell_type": "code",
   "execution_count": 15,
   "metadata": {},
   "outputs": [],
   "source": [
    "L0 = [ (0,2,10), (0,5,4) ]"
   ]
  },
  {
   "cell_type": "code",
   "execution_count": 16,
   "metadata": {},
   "outputs": [
    {
     "data": {
      "application/vnd.jupyter.widget-view+json": {
       "model_id": "c7e4fdc98f5f454ea35fd94046adccc0",
       "version_major": 2,
       "version_minor": 0
      },
      "text/plain": [
       "Figure(fig_margin={'top': 60, 'bottom': 60, 'left': 60, 'right': 60}, layout=Layout(height='600px', width='600…"
      ]
     },
     "metadata": {},
     "output_type": "display_data"
    }
   ],
   "source": [
    "G = Graph(vertices=[0,1,2],\n",
    "              edges=[ (0,1,10), (0,2,4) ])\n",
    "G.show()"
   ]
  },
  {
   "cell_type": "markdown",
   "metadata": {},
   "source": [
    "Voici la structure de donnée pour un autre graphe $G_1$:"
   ]
  },
  {
   "cell_type": "code",
   "execution_count": 17,
   "metadata": {},
   "outputs": [],
   "source": [
    "L1 = [ (1,2,1), (1,3,1), (2,4,2), (3,4,0), (4,5,3) ]"
   ]
  },
  {
   "cell_type": "code",
   "execution_count": 18,
   "metadata": {},
   "outputs": [
    {
     "data": {
      "application/vnd.jupyter.widget-view+json": {
       "model_id": "33946607fc274bc2b6a6b8a9bc9861bb",
       "version_major": 2,
       "version_minor": 0
      },
      "text/plain": [
       "Figure(fig_margin={'top': 60, 'bottom': 60, 'left': 60, 'right': 60}, layout=Layout(height='600px', width='600…"
      ]
     },
     "metadata": {},
     "output_type": "display_data"
    }
   ],
   "source": [
    "G = Graph(vertices=[1,2,3,4,5],\n",
    "              edges=L1)\n",
    "G.show()"
   ]
  },
  {
   "cell_type": "markdown",
   "metadata": {},
   "source": [
    "**Exercice**\n",
    "- Dessiner les graphes `G_0` et `G_1`, en mettant sur chaque arête sa capacité."
   ]
  },
  {
   "cell_type": "markdown",
   "metadata": {},
   "source": [
    "## Rappel: dictionnaires Python"
   ]
  },
  {
   "cell_type": "markdown",
   "metadata": {},
   "source": [
    "Un *dictionnaire* en Python est une structure de donnée permettant d'associer à une valeur à une clé. Comme un dictionnnaire de français qui associe une définition à un mot, ou un annuaire qui associe un numéro de téléphone à une personne. Voici un dictionnaire qui associe la valeur `1` à la clé `\"bla\"`, la valeur `3` à la clé `\"ble\"` et la valeur `\"pi\"` à la clé `3.13`:"
   ]
  },
  {
   "cell_type": "code",
   "execution_count": 19,
   "metadata": {},
   "outputs": [],
   "source": [
    "t = {\"bla\": 1, \"ble\": 3, 3.14: \"pi\"}"
   ]
  },
  {
   "cell_type": "code",
   "execution_count": 20,
   "metadata": {},
   "outputs": [
    {
     "data": {
      "text/plain": [
       "[(1, 2, 1), (1, 3, 1), (2, 4, 2), (3, 4, 0), (4, 5, 3)]"
      ]
     },
     "execution_count": 20,
     "metadata": {},
     "output_type": "execute_result"
    }
   ],
   "source": [
    "L1"
   ]
  },
  {
   "cell_type": "markdown",
   "metadata": {},
   "source": [
    "On peut accéder à une valeur à partir de sa clé avec l'opération suivante:"
   ]
  },
  {
   "cell_type": "code",
   "execution_count": 21,
   "metadata": {},
   "outputs": [
    {
     "data": {
      "text/plain": [
       "'pi'"
      ]
     },
     "execution_count": 21,
     "metadata": {},
     "output_type": "execute_result"
    }
   ],
   "source": [
    "t[3.14]"
   ]
  },
  {
   "cell_type": "markdown",
   "metadata": {},
   "source": [
    "On notera la similitude avec l'accès aux éléments d'un tableau. On peut voir un tableau de taille `l` comme un dictionnaire associant des valeurs à des clés entre `0` et `l-1`"
   ]
  },
  {
   "cell_type": "markdown",
   "metadata": {},
   "source": [
    "### Dictionnaire des voisins"
   ]
  },
  {
   "cell_type": "markdown",
   "metadata": {},
   "source": [
    "Un sommet $v_2$ est un voisin sortant d'un sommet $v_1$ s'il y a une arête reliant $v_1$ à $v_2$.\n",
    "\n",
    "On peut représenter un graphe à l'aide d'un *dictionaire des voisins* qui à chaque sommet associe la liste de ses voisins. Comme on veut représenter des capacités, la valeur associée à la clé `v1` sera un liste de paires `(v2,c)` où $v_2$ sera le voisin et `c` la capacité de l'arête reliant $v_1$ à $v_2$. "
   ]
  },
  {
   "cell_type": "markdown",
   "metadata": {},
   "source": [
    "Voici le dictionnaire des voisins pour $G_0$:"
   ]
  },
  {
   "cell_type": "code",
   "execution_count": 22,
   "metadata": {},
   "outputs": [],
   "source": [
    "DV0 = { 0: [(1, 10), (2, 4) ] }"
   ]
  },
  {
   "cell_type": "markdown",
   "metadata": {},
   "source": [
    "**Exercice**\n",
    "Donner le dictionnaire des voisins pour $G_1$:"
   ]
  },
  {
   "cell_type": "code",
   "execution_count": 23,
   "metadata": {},
   "outputs": [],
   "source": [
    "### BEGIN CORRECTION\n",
    "DV1 = { 5: [(4, 10)],\n",
    "        4: [(1, 10),(2, 10),(3,0)],\n",
    "       2:[(4, 2),(1, 1)],\n",
    "       3:[(1,1),(4,0)],\n",
    "       1:[(3,1),(2,1)],\n",
    "       \n",
    "       \n",
    "     }\n",
    "### END CORRECTION"
   ]
  },
  {
   "cell_type": "markdown",
   "metadata": {},
   "source": [
    "Note: si les sommets du graphe sont étiquetés par $0,1,\\ldots$, on peut utiliser une liste au lien d'un dictionnnaire:"
   ]
  },
  {
   "cell_type": "code",
   "execution_count": 24,
   "metadata": {},
   "outputs": [],
   "source": [
    "# Avec un tableau (graphe etiquete par 0,1,...)\n",
    "DV0 = [ [(0,10), (2,4)] ]"
   ]
  },
  {
   "cell_type": "markdown",
   "metadata": {
    "slideshow": {
     "slide_type": "slide"
    }
   },
   "source": [
    "### Dictionnaire d'arêtes"
   ]
  },
  {
   "cell_type": "markdown",
   "metadata": {},
   "source": [
    "Utilisons maintenant un *dictionnaire d'arêtes* pour représenter `G_1`: il associera à chaque paire `(u1,v1)` reliés par une arête la capacité de cette arrête.\n",
    "Voici le dictionnaire pour $G_0$:"
   ]
  },
  {
   "cell_type": "code",
   "execution_count": 25,
   "metadata": {},
   "outputs": [],
   "source": [
    "DA0 = { (0,1): 10,\n",
    "        (0,2): 4\n",
    "      }"
   ]
  },
  {
   "cell_type": "markdown",
   "metadata": {},
   "source": [
    "**Exercice**\n",
    "Donner le dictionnaire d'arêtes pour $G_1$:"
   ]
  },
  {
   "cell_type": "code",
   "execution_count": 26,
   "metadata": {},
   "outputs": [
    {
     "data": {
      "application/vnd.jupyter.widget-view+json": {
       "model_id": "91444e8c983c471ebaf5856680d84a52",
       "version_major": 2,
       "version_minor": 0
      },
      "text/plain": [
       "Figure(fig_margin={'top': 60, 'bottom': 60, 'left': 60, 'right': 60}, layout=Layout(height='600px', width='600…"
      ]
     },
     "metadata": {},
     "output_type": "display_data"
    }
   ],
   "source": [
    "G = Graph(vertices=[1,2,3,4,5],\n",
    "              edges=L1)\n",
    "G.add_edge(1,2,weight=0.5)\n",
    "G.show()"
   ]
  },
  {
   "cell_type": "code",
   "execution_count": 28,
   "metadata": {},
   "outputs": [
    {
     "data": {
      "text/plain": [
       "{1: {}, 2: {}, 3: {}, 4: {}, 5: {}}"
      ]
     },
     "execution_count": 28,
     "metadata": {},
     "output_type": "execute_result"
    }
   ],
   "source": [
    "vertices=[1,2,3,4,5]\n",
    "{u: {} for u in vertices }"
   ]
  },
  {
   "cell_type": "code",
   "execution_count": 9,
   "metadata": {},
   "outputs": [],
   "source": [
    "DA1 = { (0,1): 10,\n",
    "        (1, 2):1,\n",
    "       (1, 3): 1,\n",
    "       (2, 4): 2,\n",
    "       (3, 4): 0,\n",
    "       (4, 5): 3,\n",
    "\n",
    "      }"
   ]
  },
  {
   "cell_type": "markdown",
   "metadata": {},
   "source": [
    "## Matrice d'adjacence\n",
    "La matrice d'adjacence d'un graphe est un tableau (ou matrice) à deux dimensions `M` tel que `M[v1,v2]` est la capacité `c` de l'arête reliant $v_1$ à $v_2$ ou $0$ s'il n'y a pas d'arête."
   ]
  },
  {
   "cell_type": "code",
   "execution_count": 10,
   "metadata": {},
   "outputs": [],
   "source": [
    "M0 = [ [0, 10, 4],\n",
    "       [0,  0, 0],\n",
    "       [0,  0, 0]]\n",
    "M1 = [ [0, 1, 1, 0, 0],\n",
    "       [1, 0, 0, 2, 0],\n",
    "       [1, 0, 0, 0, 0],\n",
    "       [0, 2, 0, 0, 3],\n",
    "       [0, 0, 0, 3, 0]]\n"
   ]
  },
  {
   "cell_type": "markdown",
   "metadata": {},
   "source": [
    "**Exercice**\n",
    "Donner la matrice des voisins pour $G_1$.\n",
    "\n",
    "Indication: Vous rajouterez un sommet $0$."
   ]
  },
  {
   "cell_type": "markdown",
   "metadata": {
    "slideshow": {
     "slide_type": "slide"
    }
   },
   "source": [
    "## Notes de Programmation Python"
   ]
  },
  {
   "cell_type": "markdown",
   "metadata": {
    "slideshow": {
     "slide_type": "slide"
    }
   },
   "source": []
  },
  {
   "cell_type": "code",
   "execution_count": null,
   "metadata": {},
   "outputs": [],
   "source": []
  },
  {
   "cell_type": "code",
   "execution_count": null,
   "metadata": {},
   "outputs": [],
   "source": []
  },
  {
   "cell_type": "code",
   "execution_count": null,
   "metadata": {},
   "outputs": [],
   "source": []
  },
  {
   "cell_type": "code",
   "execution_count": null,
   "metadata": {},
   "outputs": [],
   "source": []
  },
  {
   "cell_type": "code",
   "execution_count": null,
   "metadata": {},
   "outputs": [],
   "source": []
  },
  {
   "cell_type": "code",
   "execution_count": null,
   "metadata": {},
   "outputs": [],
   "source": []
  },
  {
   "cell_type": "code",
   "execution_count": null,
   "metadata": {},
   "outputs": [],
   "source": []
  },
  {
   "cell_type": "code",
   "execution_count": null,
   "metadata": {},
   "outputs": [],
   "source": []
  },
  {
   "cell_type": "code",
   "execution_count": null,
   "metadata": {},
   "outputs": [],
   "source": []
  }
 ],
 "metadata": {
  "kernelspec": {
   "display_name": "Python 3",
   "language": "python",
   "name": "python3"
  },
  "language_info": {
   "codemirror_mode": {
    "name": "ipython",
    "version": 3
   },
   "file_extension": ".py",
   "mimetype": "text/x-python",
   "name": "python",
   "nbconvert_exporter": "python",
   "pygments_lexer": "ipython3",
   "version": "3.7.6"
  },
  "livereveal": {
   "auto_select": "first",
   "autolaunch": false,
   "scroll": "true",
   "start_slideshow_at": "selected",
   "transition": "none"
  },
  "toc": {
   "base_numbering": 1,
   "nav_menu": {},
   "number_sections": true,
   "sideBar": true,
   "skip_h1_title": false,
   "title_cell": "Table of Contents",
   "title_sidebar": "Contents",
   "toc_cell": false,
   "toc_position": {},
   "toc_section_display": true,
   "toc_window_display": false
  },
  "varInspector": {
   "cols": {
    "lenName": 16,
    "lenType": 16,
    "lenVar": 40
   },
   "kernels_config": {
    "python": {
     "delete_cmd_postfix": "",
     "delete_cmd_prefix": "del ",
     "library": "var_list.py",
     "varRefreshCmd": "print(var_dic_list())"
    },
    "r": {
     "delete_cmd_postfix": ") ",
     "delete_cmd_prefix": "rm(",
     "library": "var_list.r",
     "varRefreshCmd": "cat(var_dic_list()) "
    }
   },
   "types_to_exclude": [
    "module",
    "function",
    "builtin_function_or_method",
    "instance",
    "_Feature"
   ],
   "window_display": false
  }
 },
 "nbformat": 4,
 "nbformat_minor": 2
}
