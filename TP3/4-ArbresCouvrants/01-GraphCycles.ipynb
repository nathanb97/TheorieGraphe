{
 "cells": [
  {
   "cell_type": "markdown",
   "metadata": {
    "deletable": false,
    "editable": false,
    "nbgrader": {
     "cell_type": "markdown",
     "checksum": "16d0a56f68f894d7c947de4ecd9b5b20",
     "grade": false,
     "grade_id": "cell-68eba619d9b857d3",
     "locked": true,
     "schema_version": 3,
     "solution": false,
     "task": false
    },
    "slideshow": {
     "slide_type": "slide"
    }
   },
   "source": [
    "# Les cycles d'un graphe"
   ]
  },
  {
   "cell_type": "markdown",
   "metadata": {
    "deletable": false,
    "editable": false,
    "nbgrader": {
     "cell_type": "markdown",
     "checksum": "94e4046f22e24e927a01b707cd23a725",
     "grade": false,
     "grade_id": "cell-b17f3a066ba71230",
     "locked": true,
     "schema_version": 3,
     "solution": false,
     "task": false
    },
    "slideshow": {
     "slide_type": "slide"
    }
   },
   "source": [
    "## Motivation : routage dans un réseau\n",
    "\n",
    "https://en.wikipedia.org/wiki/Spanning_Tree_Protocol\n",
    "\n",
    "\n",
    "**\"broadcast\"** : un noeud quelconque du réseau émet une information qui doit être **retransmise** à tous les noeuds du réseau"
   ]
  },
  {
   "cell_type": "markdown",
   "metadata": {
    "deletable": false,
    "editable": false,
    "nbgrader": {
     "cell_type": "markdown",
     "checksum": "f4662e489e3437f400e2538a85d8d04b",
     "grade": false,
     "grade_id": "cell-95feb3f163a0601d",
     "locked": true,
     "schema_version": 3,
     "solution": false,
     "task": false
    },
    "slideshow": {
     "slide_type": "fragment"
    }
   },
   "source": [
    "- N'est possible que si le graphe est connexe !"
   ]
  },
  {
   "cell_type": "markdown",
   "metadata": {
    "deletable": false,
    "editable": false,
    "nbgrader": {
     "cell_type": "markdown",
     "checksum": "90550c280440149050ba6769f292dde3",
     "grade": false,
     "grade_id": "cell-3491e727ef649d20",
     "locked": true,
     "schema_version": 3,
     "solution": false,
     "task": false
    },
    "slideshow": {
     "slide_type": "slide"
    }
   },
   "source": [
    "Proposition d'algorithme : \n",
    "\n",
    "- Chaque noeud qui reçoit l'information la retransmet à ses voisins sauf à celui duquel il l'a reçu."
   ]
  },
  {
   "cell_type": "markdown",
   "metadata": {
    "deletable": false,
    "editable": false,
    "nbgrader": {
     "cell_type": "markdown",
     "checksum": "f773a309b48b6933867ffe19c786bcb9",
     "grade": false,
     "grade_id": "cell-ca289dabaaed6f67",
     "locked": true,
     "schema_version": 3,
     "solution": false,
     "task": false
    },
    "slideshow": {
     "slide_type": "fragment"
    }
   },
   "source": [
    "- **Problème** : Si il y a un cycle dans le réseau, l'information va tourner indéfiniment le long du cycle. En réalité, la situation est même bien pire car certain noeud du réseau vont dupliquer l'information (\"**broadcast storm**\")."
   ]
  },
  {
   "cell_type": "markdown",
   "metadata": {
    "deletable": false,
    "editable": false,
    "nbgrader": {
     "cell_type": "markdown",
     "checksum": "95dfaddf6482aac31332e11cef4cb0bb",
     "grade": false,
     "grade_id": "cell-7bdc5fdc12fbfaee",
     "locked": true,
     "schema_version": 3,
     "solution": false,
     "task": false
    },
    "slideshow": {
     "slide_type": "slide"
    }
   },
   "source": [
    "## Définition formelle\n",
    "\n",
    "**Définition** : Un *cycle* d'un graphe $G = (V, E)$ est une liste $C = (c_0, \\dots, c_{k-1})$ de sommets telle que\n",
    "- $k > 2$ : on interdit en particulier les allez-retours\n",
    "- les $c_i$ sont distincts \n",
    "- pour tout $i$ entier, $(c_i, c_{i+1})$ est une arrête de $G$ où $i$ est compris modulo $k$ (c'est-à-dire que $(c_{k-1}, c_0)$ est aussi une arête)\n",
    "\n",
    "**Note** : Dans le cas des graphes orienté, la notion de cycle ne tient pas compte du sens des arêtes. Si l'on suit  toujours les arêtes dans leurs sens, on parle de *circuit*."
   ]
  },
  {
   "cell_type": "markdown",
   "metadata": {
    "deletable": false,
    "editable": false,
    "nbgrader": {
     "cell_type": "markdown",
     "checksum": "1668f32cd0a191ca3d6a41e0fec463ee",
     "grade": false,
     "grade_id": "cell-90ad9fd030f79c26",
     "locked": true,
     "schema_version": 3,
     "solution": false,
     "task": false
    },
    "slideshow": {
     "slide_type": "subslide"
    }
   },
   "source": [
    "<img src=\"media/arb-001bis.jpg\" width=\"400\" height=\"400\" />"
   ]
  },
  {
   "cell_type": "markdown",
   "metadata": {
    "deletable": false,
    "editable": false,
    "nbgrader": {
     "cell_type": "markdown",
     "checksum": "6909923ca8d1a7b3e76e1a49a7dd48d4",
     "grade": false,
     "grade_id": "cell-315a92e6a4e09676",
     "locked": true,
     "schema_version": 3,
     "solution": false,
     "task": false
    },
    "slideshow": {
     "slide_type": "fragment"
    }
   },
   "source": [
    "Exemple de cycles dans le graphe précédent: $(1, 2, 13)$ et $(4, 7, 12, 2, 1)$.\n",
    "\n",
    "Contre-exemple de cycle :\n",
    "- $(11, 22, 12, 8, 9, 10, 13)$ : passe deux fois par le noeud $10$;\n",
    "- $(11, 12, 7)$ : $7 - 11$ n'est pas une arête."
   ]
  },
  {
   "cell_type": "code",
   "execution_count": 1,
   "metadata": {},
   "outputs": [],
   "source": [
    "from graph import Graph, examples\n"
   ]
  },
  {
   "cell_type": "code",
   "execution_count": 2,
   "metadata": {},
   "outputs": [
    {
     "data": {
      "application/vnd.jupyter.widget-view+json": {
       "model_id": "e1b5983f82b44c67a6d2c15a712be736",
       "version_major": 2,
       "version_minor": 0
      },
      "text/plain": [
       "Figure(fig_margin={'top': 60, 'bottom': 60, 'left': 60, 'right': 60}, layout=Layout(height='400px', width='400…"
      ]
     },
     "metadata": {},
     "output_type": "display_data"
    }
   ],
   "source": [
    "A,B,C,D,E,F,G,H = vertices = \"A\", \"B\", \"C\", \"D\", \"E\", \"F\", \"G\", \"H\"\n",
    "g=Graph(vertices,\n",
    "             edges=((A,B,3), (A,G,2), (A,F,4),\n",
    "                    (B,C,1), (B,G,1),\n",
    "                    (C,D,4), (C,G,5), (C,H,2),\n",
    "                    (D,H,6),\n",
    "                    (H,F,6),\n",
    "                    (E,F,3), (E,G,2), (E,H,3),\n",
    "                    (F,G,1),\n",
    "                    (G,H,4)), directed=True)\n",
    "g.show()"
   ]
  },
  {
   "cell_type": "code",
   "execution_count": 3,
   "metadata": {},
   "outputs": [
    {
     "data": {
      "application/vnd.jupyter.widget-view+json": {
       "model_id": "0ab5fdb1d18d4029a72e5ca3d7d90efc",
       "version_major": 2,
       "version_minor": 0
      },
      "text/plain": [
       "Figure(fig_margin={'top': 60, 'bottom': 60, 'left': 60, 'right': 60}, layout=Layout(height='400px', width='400…"
      ]
     },
     "metadata": {},
     "output_type": "display_data"
    }
   ],
   "source": [
    "G = examples.disconnected()\n",
    "G.show()\n"
   ]
  },
  {
   "cell_type": "markdown",
   "metadata": {
    "deletable": false,
    "editable": false,
    "nbgrader": {
     "cell_type": "markdown",
     "checksum": "6b48f5d220d0c1c691eed875201ae842",
     "grade": false,
     "grade_id": "cell-cdbb90eae1d08ad6",
     "locked": true,
     "schema_version": 3,
     "solution": false,
     "task": false
    },
    "slideshow": {
     "slide_type": "notes"
    }
   },
   "source": [
    "À faire:\n",
    "- remplacer le ficher `graph.py` par le votre après y avoir copier et coller la partie suivant le commentaire\n",
    "    \n",
    "     `# Partie sur les cycles dans un graphe à copier dans votre solution`\n",
    "\n",
    "\n",
    "- Implanter et tester la méthode `is_cycle`\n",
    "\n",
    "**Note** : pour toutes les méthodes à compléter, on pourra toujours les écrire dans le notebook sous la forme d'une fonction avant de les mettre dans la classe graphe."
   ]
  },
  {
   "cell_type": "markdown",
   "metadata": {
    "deletable": false,
    "editable": false,
    "nbgrader": {
     "cell_type": "markdown",
     "checksum": "5e9fd50f0d00f2ba8c4c176ddb6b2a1e",
     "grade": false,
     "grade_id": "cell-f07673bd946c3b8d",
     "locked": true,
     "points": 1,
     "schema_version": 3,
     "solution": false,
     "task": true
    },
    "slideshow": {
     "slide_type": "notes"
    }
   },
   "source": []
  },
  {
   "cell_type": "markdown",
   "metadata": {
    "deletable": false,
    "editable": false,
    "nbgrader": {
     "cell_type": "markdown",
     "checksum": "3cdb5d467c22de9ab4b9e67f279a8beb",
     "grade": false,
     "grade_id": "cell-e8aedc37bed526fe",
     "locked": true,
     "schema_version": 3,
     "solution": false,
     "task": false
    },
    "slideshow": {
     "slide_type": "slide"
    }
   },
   "source": [
    "## Problème de la recherche de cycles dans un graphe\n",
    "\n",
    "Questions étant donné un graphe $G$:\n",
    "\n",
    "- le chemin $s$ est-il un cycle de G ? Méthode `G.is_cycle(s)`\n",
    "- $G$ a-t-il un cycle ?  Méthode `G.is_acyclic()`\n",
    "- touver un cycle de $G$: Méthode `G.find_cycle()`"
   ]
  },
  {
   "cell_type": "code",
   "execution_count": 4,
   "metadata": {},
   "outputs": [
    {
     "name": "stdout",
     "output_type": "stream",
     "text": [
      "True False False\n"
     ]
    },
    {
     "data": {
      "text/plain": [
       "(False, True, ['A', 'B', 'F', 'I', 'J', 'E'])"
      ]
     },
     "execution_count": 4,
     "metadata": {},
     "output_type": "execute_result"
    }
   ],
   "source": [
    "#is_acyclic(G),is_cyclic(G),find_cycle(G)\n",
    "G = examples.disconnected()\n",
    "G.show()\n",
    "\n",
    "G.Analysis_cycle()\n",
    "print(G.is_acyclic(),G.is_cyclic(),G.find_cycle())\n",
    "G = examples.dijkstra()\n",
    "G.is_acyclic(),G.is_cyclic(),G.find_cycle()\n"
   ]
  },
  {
   "cell_type": "markdown",
   "metadata": {
    "deletable": false,
    "editable": false,
    "nbgrader": {
     "cell_type": "markdown",
     "checksum": "7407f3234323bf10088c2ec290cc66b0",
     "grade": false,
     "grade_id": "cell-cb82a470c9e55f58",
     "locked": true,
     "schema_version": 3,
     "solution": false,
     "task": false
    },
    "slideshow": {
     "slide_type": "fragment"
    }
   },
   "source": [
    "**Note** : il n'est pas forcément nécessaire de trouver un cycle pour savoir qu'un graphe contient un cycle."
   ]
  },
  {
   "cell_type": "markdown",
   "metadata": {
    "deletable": false,
    "editable": false,
    "nbgrader": {
     "cell_type": "markdown",
     "checksum": "bbe6042ab52023f262afa0ee09bbfaa1",
     "grade": false,
     "grade_id": "cell-14286f3d89bb5f3a",
     "locked": true,
     "schema_version": 3,
     "solution": false,
     "task": false
    },
    "slideshow": {
     "slide_type": "slide"
    }
   },
   "source": [
    "### Lemme fondamental des cycles dans un graphe\n",
    "\n",
    "**Lemme 1 :** Soit $G$ un graphe (simple, non orienté). Soient $u, v$ deux sommets de $G$ tel que $u - v$ n'est pas  une arête de $G$. Soit $G'$ le graphe ontenu en ajoutant $u-v$ à $G$. Alors, de deux choses l'une :\n",
    "- soit $u$ et $v$ sont dans la même composante connexe de $G$, et il y a un cycle dans $G'$ de la forme $(u, \\dots, v)$;\n",
    "- soit $u$ et $v$ ne sont pas dans la même composante connexe de $G$ et alors $G'$ possège une composante connexe de moins que $G$."
   ]
  },
  {
   "cell_type": "markdown",
   "metadata": {
    "deletable": false,
    "editable": false,
    "nbgrader": {
     "cell_type": "markdown",
     "checksum": "c8e20212ea2794618d115072e03bad4c",
     "grade": false,
     "grade_id": "cell-54bb31cc1819cc50",
     "locked": true,
     "schema_version": 3,
     "solution": false,
     "task": false
    },
    "slideshow": {
     "slide_type": "notes"
    }
   },
   "source": [
    "À faire : justifier le lemme précédent"
   ]
  },
  {
   "cell_type": "markdown",
   "metadata": {
    "deletable": false,
    "nbgrader": {
     "cell_type": "markdown",
     "checksum": "783bd03a790355b5716429605548ca0c",
     "grade": true,
     "grade_id": "cell-b8c645bedfca6c46",
     "locked": false,
     "points": 1,
     "schema_version": 3,
     "solution": true,
     "task": false
    },
    "slideshow": {
     "slide_type": "notes"
    }
   },
   "source": [
    "#### 1°)\n",
    "Soit G un graphe contenant une composante connexe qui lui meme contient u et v qui ne sont pas connecté par une arrete <br>\n",
    "Alors le rajout d'une arrete entre u et v aura pour consequence de creer un cycle car par definition une composante connexe a déjè tous ses sommets reliées.<br>\n",
    "Donc en rajouter un, aura pour consequence de rajouter un deuxieme chemin entre u et v ce qui créera un cycle\n",
    "\n",
    "#### 2°)\n",
    "Soit G un graphe u et v qui sont dans deux composante connexe distinctes alors rajouter une arrete entre u et v fusionnera les deux composante connex en une seul et le graphe sera diminuer d'une composante connexe <br>\n"
   ]
  },
  {
   "cell_type": "markdown",
   "metadata": {
    "deletable": false,
    "editable": false,
    "nbgrader": {
     "cell_type": "markdown",
     "checksum": "fd78833f7576a18bdaa406bf3a994120",
     "grade": false,
     "grade_id": "cell-c49df494e00766b2",
     "locked": true,
     "schema_version": 3,
     "solution": false,
     "task": false
    },
    "slideshow": {
     "slide_type": "slide"
    }
   },
   "source": [
    "### Nombre d'arcs dans un graphe et cycles\n",
    "\n",
    "**Proposition 2** : Soit $G = (V;E)$ un graphe. Alors:\n",
    "1. Si $G$ est connexe, alors $|E| \\geq |V| - 1$.\n",
    "2. Si $G$ est sans cycle, alors $|E|\\leq |V| - 1$."
   ]
  },
  {
   "cell_type": "markdown",
   "metadata": {
    "deletable": false,
    "editable": false,
    "nbgrader": {
     "cell_type": "markdown",
     "checksum": "de2c41591d7f9e0b8f985560bc3a9a78",
     "grade": false,
     "grade_id": "cell-3f5c6ce945bdbd7e",
     "locked": true,
     "schema_version": 3,
     "solution": false,
     "task": false
    },
    "slideshow": {
     "slide_type": "subslide"
    }
   },
   "source": [
    "**Preuve** : On va partir du graphe $(V, \\emptyset)$ et l'on va rajouter une à une les arêtes de $G$. On remarque qu'au départ le nombre de composantes connexes est $|V|$ et qu'il y aura $|E|$ étapes où l'on rajoute une arête.\n",
    "\n",
    "1. Comme à chaque étape le nombre de composantes connexes diminue au plus de $1$, il faut au moins $|V| - 1$ étapes pour que le graphe devienne connexe (une composante connexe).\n",
    "2. Quand on a créé un cycle, rajouter des arêtes en plus le conserve. Si à la fin $G$ est sans cycles, on a donc jamais créé de cycles. Le nombre de composant connexe a donc diminué exactement de $1$ à chaque étape.  "
   ]
  },
  {
   "cell_type": "markdown",
   "metadata": {
    "deletable": false,
    "editable": false,
    "nbgrader": {
     "cell_type": "markdown",
     "checksum": "a7a6f38e1137ad38819bb796e4396066",
     "grade": false,
     "grade_id": "cell-a4b0ade63fc55292",
     "locked": true,
     "schema_version": 3,
     "solution": false,
     "task": false
    },
    "slideshow": {
     "slide_type": "fragment"
    }
   },
   "source": [
    "Dans la preuve du point 2, on a en fait prouvé le résultat plus fort suivant:\n",
    "\n",
    "**Proposition 3** : Un graphe $G=(V;E)$ est **sans cycle** si et seulement si $$|V| = k + |E|$$ où\n",
    "$k$ est le nombre de composantes connexes."
   ]
  },
  {
   "cell_type": "markdown",
   "metadata": {
    "deletable": false,
    "editable": false,
    "nbgrader": {
     "cell_type": "markdown",
     "checksum": "91325810b44781b6e2c828b1d4aab490",
     "grade": false,
     "grade_id": "cell-728ca95754c313f4",
     "locked": true,
     "schema_version": 3,
     "solution": false,
     "task": false
    },
    "slideshow": {
     "slide_type": "subslide"
    }
   },
   "source": [
    "- Algorithme `is_acyclic(G)` : on fait un parcours de graphe pour compter les composantes connexes\n"
   ]
  },
  {
   "cell_type": "markdown",
   "metadata": {
    "deletable": false,
    "editable": false,
    "nbgrader": {
     "cell_type": "markdown",
     "checksum": "2cae07c647e9976185d27ee6467eeedb",
     "grade": false,
     "grade_id": "cell-6a5a5fb3345f128b",
     "locked": true,
     "schema_version": 3,
     "solution": false,
     "task": false
    },
    "slideshow": {
     "slide_type": "notes"
    }
   },
   "source": [
    "Implanter les méthodes suivantes dans la classe `Graphe`:\n",
    "\n",
    "- `connected_components`\n",
    "- `is_connected`\n",
    "- `is_acyclic`\n",
    "\n",
    "Pour chacune des méthodes, on donnera ci-dessous où dans le code la complexité dans le cas le pire."
   ]
  },
  {
   "cell_type": "code",
   "execution_count": 5,
   "metadata": {},
   "outputs": [
    {
     "data": {
      "text/plain": [
       "(True, [{'A', 'B', 'C', 'D', 'E', 'F', 'G', 'H', 'I', 'J'}])"
      ]
     },
     "execution_count": 5,
     "metadata": {},
     "output_type": "execute_result"
    }
   ],
   "source": [
    "def is_connected(self):\n",
    "    return self.edge_number() >= self.vertex_number()-1 and len(connected_components(self))==1\n",
    "def connected_components(self):\n",
    "    res = []\n",
    "    rest = self.vertices()\n",
    "\n",
    "    while rest:\n",
    "        s = rest[0]\n",
    "        visited = {s} # L'ensemble des sommets déjà rencontrés\n",
    "        todo = {s} # L'ensemble des sommets non traités\n",
    "\n",
    "        while todo:\n",
    "            v = todo.pop()\n",
    "            for w in self.neighbors_out(v):\n",
    "                if w not in visited:\n",
    "                    visited.add(w)\n",
    "                    todo.add(w)\n",
    "        res.append(visited)\n",
    "        rest = [s for s in rest if s not in visited]\n",
    "    return res\n",
    "\n",
    "G.is_connected(),G.connected_components()"
   ]
  },
  {
   "cell_type": "code",
   "execution_count": null,
   "metadata": {},
   "outputs": [],
   "source": []
  },
  {
   "cell_type": "markdown",
   "metadata": {
    "deletable": false,
    "editable": false,
    "nbgrader": {
     "cell_type": "markdown",
     "checksum": "bb23138a89b893d483ccfdcbe50041f2",
     "grade": false,
     "grade_id": "cell-0cb967c56b5a30b8",
     "locked": true,
     "points": 2,
     "schema_version": 3,
     "solution": false,
     "task": true
    },
    "slideshow": {
     "slide_type": "notes"
    }
   },
   "source": []
  },
  {
   "cell_type": "markdown",
   "metadata": {
    "deletable": false,
    "editable": false,
    "nbgrader": {
     "cell_type": "markdown",
     "checksum": "f12c96f7d8590aab8637d67a9987bc58",
     "grade": false,
     "grade_id": "cell-efe1daf473bddbe4",
     "locked": true,
     "schema_version": 3,
     "solution": false,
     "task": false
    },
    "slideshow": {
     "slide_type": "fragment"
    }
   },
   "source": [
    "- Algorithme `find_cycle(G)` : on fait un parcours en profondeur de graphe en partant d'un noeud et en notant pour chaque noeuds traversés comment on l'a atteint. Si l'on atteint deux fois un noeuds, on a trouvé un cycle.\n"
   ]
  },
  {
   "cell_type": "markdown",
   "metadata": {
    "deletable": false,
    "editable": false,
    "nbgrader": {
     "cell_type": "markdown",
     "checksum": "398b216b19fe2100035856ff7a8fde7c",
     "grade": false,
     "grade_id": "cell-ef8f8c250ec7449f",
     "locked": true,
     "schema_version": 3,
     "solution": false,
     "task": false
    },
    "slideshow": {
     "slide_type": "notes"
    }
   },
   "source": [
    "Implanter la méthode `find_cycle(G)` et donner sa complexité."
   ]
  },
  {
   "cell_type": "markdown",
   "metadata": {
    "deletable": false,
    "editable": false,
    "nbgrader": {
     "cell_type": "markdown",
     "checksum": "e90ed5b8f4bd40b71e2a6f6c8dda3089",
     "grade": false,
     "grade_id": "cell-0cfa4e2354be3021",
     "locked": true,
     "points": 2,
     "schema_version": 3,
     "solution": false,
     "task": true
    },
    "slideshow": {
     "slide_type": "notes"
    }
   },
   "source": []
  },
  {
   "cell_type": "markdown",
   "metadata": {
    "deletable": false,
    "editable": false,
    "nbgrader": {
     "cell_type": "markdown",
     "checksum": "1327e71697fe22d2f488b67718c8a69f",
     "grade": false,
     "grade_id": "cell-8cefc69aeac6f8c5",
     "locked": true,
     "schema_version": 3,
     "solution": false,
     "task": false
    },
    "slideshow": {
     "slide_type": "slide"
    }
   },
   "source": [
    "## Notion d'arbre\n",
    "\n",
    "**Définition** : Un *arbre* est un graphe **connexe** et **sans cycle** (on dit aussi **acyclique**)"
   ]
  },
  {
   "cell_type": "markdown",
   "metadata": {
    "deletable": false,
    "editable": false,
    "nbgrader": {
     "cell_type": "markdown",
     "checksum": "711b168af333cecbd4b2b30e46b23c88",
     "grade": false,
     "grade_id": "cell-2ac8a30c5769191d",
     "locked": true,
     "schema_version": 3,
     "solution": false,
     "task": false
    },
    "slideshow": {
     "slide_type": "fragment"
    }
   },
   "source": [
    "Dans un arbre, on a pas de problème pour le routage:\n",
    "\n",
    "**Proposition 4.** $G$ est un arbre si et seulement si, pour tout couple de sommets $s$ et $t$, il existe un **unique chemin simple** (qui ne repasse jamais deux fois par le même sommet) de $s$ à $t$."
   ]
  },
  {
   "cell_type": "markdown",
   "metadata": {
    "deletable": false,
    "editable": false,
    "nbgrader": {
     "cell_type": "markdown",
     "checksum": "f3b8c78767a86d64b08bca0998c8c8d6",
     "grade": false,
     "grade_id": "cell-e0692e3110fd2b82",
     "locked": true,
     "schema_version": 3,
     "solution": false,
     "task": false
    },
    "slideshow": {
     "slide_type": "subslide"
    }
   },
   "source": [
    "**Proposition 5. (Caractérisations d'un Arbre)** :\n",
    "Pour un graphe $T$ à $n$ sommets, il y a équivalence entre les propriétés :\n",
    "\n",
    "1. $T$ est un arbre\n",
    "- $T$ est un graphe connexe à $n-1$ arêtes\n",
    "- $T$ est acyclique à $n-1$ arêtes\n",
    "- $T$ est connexe, et la suppression de toute arête le déconnecte\n",
    "- $T$ est acyclique et l'ajout de toute arête le rend cyclique.\n"
   ]
  },
  {
   "cell_type": "markdown",
   "metadata": {
    "deletable": false,
    "editable": false,
    "nbgrader": {
     "cell_type": "markdown",
     "checksum": "f0cbfcb67174d64cbeb01d94c713fcf7",
     "grade": false,
     "grade_id": "cell-02d619cc8f54a195",
     "locked": true,
     "schema_version": 3,
     "solution": false,
     "task": false
    },
    "slideshow": {
     "slide_type": "slide"
    }
   },
   "source": [
    "**Preuve** : \n",
    "- $1.\\Rightarrow 2.$ et $1.\\Rightarrow 3.$ sont des conséquence immédiate de la proposition 2\n",
    "- $2.\\Rightarrow 1.$ et $3.\\Rightarrow 1.$ sont des conséquence de la proposition 3."
   ]
  },
  {
   "cell_type": "markdown",
   "metadata": {
    "deletable": false,
    "editable": false,
    "nbgrader": {
     "cell_type": "markdown",
     "checksum": "1700267a2fb8f45b12ccff62a2eab85d",
     "grade": false,
     "grade_id": "cell-e8126e20942fe988",
     "locked": true,
     "schema_version": 3,
     "solution": false,
     "task": false
    },
    "slideshow": {
     "slide_type": "notes"
    }
   },
   "source": [
    "À faire : justifier ci-dessous les équivalences des points 4. et 5. "
   ]
  },
  {
   "cell_type": "markdown",
   "metadata": {
    "deletable": false,
    "nbgrader": {
     "cell_type": "markdown",
     "checksum": "7fea310978f67997c0118d8439fccdf7",
     "grade": true,
     "grade_id": "cell-cf39f55293529705",
     "locked": false,
     "points": 1,
     "schema_version": 3,
     "solution": true,
     "task": false
    },
    "slideshow": {
     "slide_type": "notes"
    }
   },
   "source": [
    "4.\n",
    "D'après 2, T est un graphe connexe à 𝑛−1 arêtes<br>\n",
    "Donc la suppression de toute arête le déconnecte.<br>\n",
    "\n",
    "Car d'après la propriété si $T$ est connexe, alors $|E|\\geq |V|-1$<br>\n",
    "Après la suppression d'une arête le graphe  $|E|=|V|-2$ donc par la propriétés sera déconnecté\n",
    "\n",
    "5.\n",
    "Si $T$ est sans cycle, alors $|E|\\leq|V|-1$<br>\n",
    "Par 2 T possede  $n-1$ arêtes après l'ajout de toute arête, on a $|E|=|V|$.<br>\n",
    "Par definition le graphe devient donc cyclique.\n",
    "\n",
    "\n",
    "\n"
   ]
  },
  {
   "cell_type": "markdown",
   "metadata": {
    "deletable": false,
    "editable": false,
    "nbgrader": {
     "cell_type": "markdown",
     "checksum": "5466a9713f040492e90e4ddd2bacae3a",
     "grade": false,
     "grade_id": "cell-c7919bbbd597c3a8",
     "locked": true,
     "schema_version": 3,
     "solution": false,
     "task": false
    },
    "slideshow": {
     "slide_type": "notes"
    }
   },
   "source": [
    "Implanter la méthode `G.is_tree()` et donner sa complexité."
   ]
  },
  {
   "cell_type": "code",
   "execution_count": 6,
   "metadata": {
    "deletable": false,
    "nbgrader": {
     "cell_type": "markdown",
     "checksum": "1e187197886565970907095b9ed09f42",
     "grade": true,
     "grade_id": "cell-ac6af1f2d5bb0abf",
     "locked": false,
     "points": 1,
     "schema_version": 3,
     "solution": true,
     "task": false
    },
    "slideshow": {
     "slide_type": "notes"
    }
   },
   "outputs": [],
   "source": [
    "def is_tree(self):\n",
    "    # Un arbre est un graphe connexe et sans cycle (on dit aussi acyclique)\n",
    "    return is_acyclic(self) and  is_connected(self)\n",
    "\n"
   ]
  },
  {
   "cell_type": "code",
   "execution_count": 7,
   "metadata": {},
   "outputs": [
    {
     "data": {
      "text/plain": [
       "False"
      ]
     },
     "execution_count": 7,
     "metadata": {},
     "output_type": "execute_result"
    }
   ],
   "source": [
    "G=examples.dijkstra()\n",
    "G.is_tree()"
   ]
  },
  {
   "cell_type": "code",
   "execution_count": null,
   "metadata": {},
   "outputs": [],
   "source": []
  },
  {
   "cell_type": "code",
   "execution_count": null,
   "metadata": {},
   "outputs": [],
   "source": []
  },
  {
   "cell_type": "code",
   "execution_count": null,
   "metadata": {},
   "outputs": [],
   "source": []
  }
 ],
 "metadata": {
  "kernelspec": {
   "display_name": "Python 3",
   "language": "python",
   "name": "python3"
  },
  "language_info": {
   "codemirror_mode": {
    "name": "ipython",
    "version": 3
   },
   "file_extension": ".py",
   "mimetype": "text/x-python",
   "name": "python",
   "nbconvert_exporter": "python",
   "pygments_lexer": "ipython3",
   "version": "3.7.6"
  },
  "livereveal": {
   "scroll": true,
   "transition": "none"
  }
 },
 "nbformat": 4,
 "nbformat_minor": 2
}
