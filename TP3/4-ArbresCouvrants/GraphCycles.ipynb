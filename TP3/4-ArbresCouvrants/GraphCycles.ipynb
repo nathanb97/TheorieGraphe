{
 "cells": [
  {
   "cell_type": "markdown",
   "metadata": {
    "slideshow": {
     "slide_type": "slide"
    }
   },
   "source": [
    "# Les cycles d'un graphe"
   ]
  },
  {
   "cell_type": "markdown",
   "metadata": {
    "slideshow": {
     "slide_type": "slide"
    }
   },
   "source": [
    "## Motivation : routage dans un réseau\n",
    "\n",
    "https://en.wikipedia.org/wiki/Spanning_Tree_Protocol\n",
    "\n",
    "\n",
    "**\"broadcast\"** : un noeud quelconque du réseau émet une information qui doit être **retransmise** à tous les noeuds du réseau"
   ]
  },
  {
   "cell_type": "markdown",
   "metadata": {
    "slideshow": {
     "slide_type": "fragment"
    }
   },
   "source": [
    "- N'est possible que si le graphe est connexe !"
   ]
  },
  {
   "cell_type": "markdown",
   "metadata": {
    "slideshow": {
     "slide_type": "slide"
    }
   },
   "source": [
    "Proposition d'algorithme : \n",
    "\n",
    "- Chaque noeud qui reçoit l'information la retransmet à ses voisin sauf à celui duquel il l'a reçu."
   ]
  },
  {
   "cell_type": "markdown",
   "metadata": {
    "slideshow": {
     "slide_type": "fragment"
    }
   },
   "source": [
    "- **Problème** : Si il y a un cycle dans le réseau, l'information va tourner indéfiniment le long du cycle. En réalité, la situation est même bien pire car certain noeud du réseau vont dupliquer l'information (\"**broadcast storm**\")."
   ]
  },
  {
   "cell_type": "markdown",
   "metadata": {
    "slideshow": {
     "slide_type": "slide"
    }
   },
   "source": [
    "## Définition formelle\n",
    "\n",
    "**Définition** : Un *cycle* d'un graphe $G = (V, E)$ est une liste $C = (c_0, \\dots, c_{k-1})$ de sommets telle que\n",
    "- les $c_i$ sont distincts (on interdit en particulier les allez-retours)\n",
    "- pour tout $i$ entier, $(c_i, c_{i+1})$ est une arrête de $G$ où $i$ est compris modulo $k$ (c'est-à-dire que $(c_{k-1}, c_0)$ est aussi une arête)\n",
    "\n",
    "**Note** : Dans le cas des graphes orienté, la notion de cycle ne tient pas compte du sens des arêtes. Si l'on suit  toujours les arêtes dans leurs sens, on parle de *circuit*."
   ]
  },
  {
   "cell_type": "markdown",
   "metadata": {
    "slideshow": {
     "slide_type": "subslide"
    }
   },
   "source": [
    "<img src=\"../media/arb-001bis.jpg\" width=\"400\" height=\"400\" />"
   ]
  },
  {
   "cell_type": "markdown",
   "metadata": {
    "slideshow": {
     "slide_type": "fragment"
    }
   },
   "source": [
    "Exemple de cycles $(1, 2, 13)$ et $(4, 7, 12, 2, 1)$.\n",
    "\n",
    "Contre-exemple de cycle :\n",
    "- $(11, 22, 12, 8, 9, 10, 13)$ : passe deux fois par le noeud $10$;\n",
    "- $(11, 12, 7)$ : $7 - 11$ n'est pas une arête."
   ]
  },
  {
   "cell_type": "markdown",
   "metadata": {
    "slideshow": {
     "slide_type": "slide"
    }
   },
   "source": [
    "## Problème de la recherche de cycles dans un graphe\n",
    "\n",
    "Questions étant donné un graphe $G$:\n",
    "\n",
    "- le chemin $s$ est-il un cycle de G ? Méthode `G.is_cycle(s)`\n",
    "- $G$ a-t-il un cycle ?  Méthode `G.is_acyclic()`\n",
    "- touver un cycle de $G$: Méthode `G.find_cycle()`"
   ]
  },
  {
   "cell_type": "markdown",
   "metadata": {
    "slideshow": {
     "slide_type": "fragment"
    }
   },
   "source": [
    "Note: il n'est pas forcément nécessaire de trouver un cycle pour savoir qu'un graphe est acyclique."
   ]
  },
  {
   "cell_type": "markdown",
   "metadata": {
    "slideshow": {
     "slide_type": "slide"
    }
   },
   "source": [
    "### Lemme fondamental des cycles dans un graphe\n",
    "\n",
    "**Lemme 1 :** Soit $G$ un graphe (simple, non orienté). Soient $u, v$ deux sommets de $G$ tel que $u - v$ n'est pas  une arête de $G$. Soit $G'$ le graphe ontenu en ajoutant $u-v$ à $G$. Alors de deux choses l'une:\n",
    "- soit $u$ et $v$ sont dans la même composante connexe de $G$, et il y a un cycle dans $G'$ de la forme $(u, \\dots, v)$;\n",
    "- soit $u$ et $v$ ne sont pas dans la même composante connexe de $G$ et alors $G'$ possège une composante connexe de moins que $G$."
   ]
  },
  {
   "cell_type": "markdown",
   "metadata": {
    "slideshow": {
     "slide_type": "notes"
    }
   },
   "source": [
    "À faire : justifier brièvement le lemme précédent"
   ]
  },
  {
   "cell_type": "markdown",
   "metadata": {
    "slideshow": {
     "slide_type": "slide"
    }
   },
   "source": [
    "### Nombre d'arcs dans un graphe et cycles\n",
    "\n",
    "**Proposition 2** : Soit $G = (V;E)$ un graphe. Alors:\n",
    "1. Si $G$ est connexe, alors $|E| \\geq |V| - 1$.\n",
    "2. Si $G$ est sans cycle, alors $|E|\\leq |V| - 1$."
   ]
  },
  {
   "cell_type": "markdown",
   "metadata": {
    "slideshow": {
     "slide_type": "subslide"
    }
   },
   "source": [
    "**Preuve** : On va partir du graphe $(V, \\emptyset)$ et l'on va rajouter une à une les arêtes de $G$. On remarque qu'au départ le nombre de composantes connexes est $|V|$ et qu'il y aura $|E|$ étapes où l'on rajoute une arête.\n",
    "\n",
    "1. Comme à chaque étape le nombre de composantes connexes diminue au plus de $1$, il faut au moins $|V| - 1$ étapes pour que le graphe devienne connexe (une composante connexe).\n",
    "2. Quand on a créé un cycle, rajouter les arêtes le conserve. Si à la fin $G$ est sans cycles, on a sonc jamais créé de cycles. Le nombre de composant connexe a donc diminué de $1$ à chaque étape.  "
   ]
  },
  {
   "cell_type": "markdown",
   "metadata": {
    "slideshow": {
     "slide_type": "fragment"
    }
   },
   "source": [
    "Dans la preuve du point 2, on a en fait prouvé le résultat plus fort suivant:\n",
    "\n",
    "**Proposition 3** : Un graphe $G=(V;E)$ est **sans cycle** si et seulement si $$|V| = k + |E|$$ où\n",
    "$k$ est le nombre de composantes connexes."
   ]
  },
  {
   "cell_type": "markdown",
   "metadata": {
    "slideshow": {
     "slide_type": "subslide"
    }
   },
   "source": [
    "- Algorithme `is_acyclic(G)` : on fait un parcours de graphe pour compter les composantes connexes\n"
   ]
  },
  {
   "cell_type": "markdown",
   "metadata": {
    "slideshow": {
     "slide_type": "fragment"
    }
   },
   "source": [
    "- Algorithme `find_cycle(G)` : on fait un parcours en profondeur de graphe en partant d'un noeud et en notant pour chaque noeuds traversés comment on l'a atteint. Si l'on atteint deux fois un noeuds, on a trouvé un cycle."
   ]
  },
  {
   "cell_type": "markdown",
   "metadata": {
    "slideshow": {
     "slide_type": "slide"
    }
   },
   "source": [
    "## Notion d'arbre\n",
    "\n",
    "**Définition** : Un *arbre* est un graphe **connexe** et **sans cycle** (on dit aussi **acyclique**)"
   ]
  },
  {
   "cell_type": "markdown",
   "metadata": {
    "slideshow": {
     "slide_type": "fragment"
    }
   },
   "source": [
    "Dans un arbre, on a pas de problème pour le routage:\n",
    "\n",
    "**Proposition** : $G$ est un arbre si et seulement si, pour tout couple de sommets $s$ et $t$, il existe un **unique chemin simple** (qui ne repasse jamais deux fois par le même sommet) de $s$ à $t$."
   ]
  },
  {
   "cell_type": "markdown",
   "metadata": {
    "slideshow": {
     "slide_type": "subslide"
    }
   },
   "source": [
    "**Proposition 4. (Caractérisations d'un Arbre)** :\n",
    "Pour un graphe $T$ à $n$ sommets, il y a équivalence entre les propriétés :\n",
    "\n",
    "1. $T$ est un arbre\n",
    "- $T$ est un graphe connexe à $n-1$ arêtes\n",
    "- $T$ est acyclique à $n-1$ arêtes\n",
    "- $T$ est connexe, et la suppression de toute arête le déconnecte\n",
    "- $T$ est acyclique et l'ajout de toute arête le rend cyclique.\n"
   ]
  },
  {
   "cell_type": "markdown",
   "metadata": {
    "slideshow": {
     "slide_type": "slide"
    }
   },
   "source": [
    "**Preuve** : \n",
    "- $1.\\Rightarrow 2.$ et $1.\\Rightarrow 3.$ sont des conséquence immédiate de la proposition 2\n",
    "- $2.\\Rightarrow 1.$ et $3.\\Rightarrow 1.$ sont des conséquence de la proposition 3."
   ]
  },
  {
   "cell_type": "markdown",
   "metadata": {
    "slideshow": {
     "slide_type": "notes"
    }
   },
   "source": [
    "À faire : justifier les équivalences des points 4. et 5. "
   ]
  },
  {
   "cell_type": "markdown",
   "metadata": {
    "slideshow": {
     "slide_type": "slide"
    }
   },
   "source": [
    "## Notion d'arbre couvrant\n",
    "\n",
    "**Définition** Étant donné un graphe $G=(V;E)$, on appelle **arbre couvrant** de $G$ un graphe $T=(V;F)$ tel que\n",
    "- $T$ est un arbre\n",
    "- $T$ est un graphe partiel de $G$ (c'est à dire même sommets et $T=(V, F)$ où $F\\subset E$).\n",
    "\n",
    "Intuitivement: $T$ est construit avec les arêtes $U$ de $G$ en connectant (\"couvre\") tous les sommets de $V$. \n"
   ]
  },
  {
   "cell_type": "markdown",
   "metadata": {
    "slideshow": {
     "slide_type": "subslide"
    }
   },
   "source": [
    "<img src=\"../media/4x4_grid_spanning_tree.svg\" width=\"400\" height=\"400\" />"
   ]
  },
  {
   "cell_type": "markdown",
   "metadata": {
    "slideshow": {
     "slide_type": "subslide"
    }
   },
   "source": [
    "<img src=\"../media/Minimum_spanning_tree.svg\" width=\"600\" height=\"600\" />"
   ]
  },
  {
   "cell_type": "markdown",
   "metadata": {
    "slideshow": {
     "slide_type": "subslide"
    }
   },
   "source": [
    "**Proposition 5.** : Un graphe $G=(V;E)$ admet un *arbre couvrant* si et seulement si il est *connexe*"
   ]
  },
  {
   "cell_type": "markdown",
   "metadata": {
    "slideshow": {
     "slide_type": "fragment"
    }
   },
   "source": [
    "**Preuve** : Le sens direct est évident, si $G$ admet un graphe partiel connexe alors $G$ est connexe. \n",
    "\n",
    "On prouve la réciproque avec l'algorithme suivant:\n",
    "\n",
    "    on pose T := G\n",
    "    tant que que T admet un cycle C\n",
    "        // Invariant : T est un graphe partiel connexe de G\n",
    "        supprimer dans T une arête du cycle C\n",
    "    renvoyer T\n",
    "En effet, supprimer une arête d'un cycle d'un graphe, ne change pas sa connexité (pourquoi ?). En conséquence quand ou sort de la boucle, `T` contient un graphe partiel connexe et dans cycle de G.  "
   ]
  },
  {
   "cell_type": "markdown",
   "metadata": {
    "slideshow": {
     "slide_type": "fragment"
    }
   },
   "source": [
    "**Note** : L'algorithme ci dessus n'est pas efficace. On verra ci-dessous deux algorithmes plus efficaces, dû à Kruskal et Prim."
   ]
  },
  {
   "cell_type": "markdown",
   "metadata": {
    "slideshow": {
     "slide_type": "fragment"
    }
   },
   "source": [
    "## Arbre couvrant de poids minimum\n",
    "\n",
    "Le problème de l'**arbre couvrant de poids minimum** consiste à trouver un arbre couvrant\n",
    "dont la somme des poids $c(e)$ des arêtes est minimum.\n"
   ]
  },
  {
   "cell_type": "markdown",
   "metadata": {
    "slideshow": {
     "slide_type": "subslide"
    }
   },
   "source": [
    "#### Ne pas confondre:\n",
    "- arbre couvrant de poids minimum (MST, Minimum Spanning Tree) : minimise la somme\n",
    "des poids des arêtes\n",
    " \n",
    "- arbre des plus courts chemins (SPT, Shortest Paths Tree) construit par exemple\n",
    "par BFS (Breadth First Search) ou Dijsktra : minimise la distance de la racine à chaque sommet\n"
   ]
  },
  {
   "cell_type": "markdown",
   "metadata": {
    "slideshow": {
     "slide_type": "slide"
    }
   },
   "source": [
    "<div style=\"text-align: center\">\n",
    "<img style=\"float : left; height : 300px\" src=\"../media/tree-022.jpg\"><img style=\"float: left; height : 300px\" src=\"../media/tree-023.jpg\">\n",
    "</div>"
   ]
  },
  {
   "cell_type": "markdown",
   "metadata": {
    "slideshow": {
     "slide_type": "slide"
    }
   },
   "source": [
    "**Idée** : On part du graphe $T=(V, \\emptyset)$ et on ajoute tour à tour la nouvelle arête de plus petit poids qui ne crée pas de cycles (i.e. qui connecte deux composantes connexes différentes).\n",
    "\n",
    "**Invariant** : À l'étape $i$, le graphe $T$ est acyclique avec $i$ arêtes de poids minimal\n",
    "\n",
    "- [Algorithme de Kruskal](https://fr.wikipedia.org/wiki/Algorithme_de_Kruskal)\n",
    "- [Union Find](https://fr.wikipedia.org/wiki/Union-find)"
   ]
  },
  {
   "cell_type": "markdown",
   "metadata": {
    "slideshow": {
     "slide_type": "slide"
    }
   },
   "source": [
    "**Idée** : On choisi un noeuds $n$ part du graphe $T=(\\{n\\}, \\emptyset)$ et on ajoute tour à tour un nouveau noeud en le connectant autre en choisissant l'arête de poids minimum parmis.\n",
    "\n",
    "**Invariant** : Le graphe $T=(U,F)$ est toujours l'arbre convrant de poids minimal sur $U\\subset V$.\n",
    "\n",
    "- [Algoritme de Prim](https://fr.wikipedia.org/wiki/Algorithme_de_Prim)\n",
    "- [File de priorité](https://fr.wikipedia.org/wiki/File_de_priorit%C3%A9)"
   ]
  },
  {
   "cell_type": "code",
   "execution_count": null,
   "metadata": {},
   "outputs": [],
   "source": []
  }
 ],
 "metadata": {
  "kernelspec": {
   "display_name": "Python 3",
   "language": "python",
   "name": "python3"
  },
  "language_info": {
   "codemirror_mode": {
    "name": "ipython",
    "version": 2
   },
   "file_extension": ".py",
   "mimetype": "text/x-python",
   "name": "python",
   "nbconvert_exporter": "python",
   "pygments_lexer": "ipython2",
   "version": "2.7.17"
  },
  "livereveal": {
   "scroll": true,
   "transition": "none"
  }
 },
 "nbformat": 4,
 "nbformat_minor": 2
}
