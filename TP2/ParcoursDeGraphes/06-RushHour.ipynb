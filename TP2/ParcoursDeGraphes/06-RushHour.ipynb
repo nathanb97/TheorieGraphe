{
 "cells": [
  {
   "cell_type": "markdown",
   "metadata": {
    "deletable": false,
    "editable": false,
    "nbgrader": {
     "cell_type": "markdown",
     "checksum": "32f52ed37f9a69f044daf5ade7c354d8",
     "grade": false,
     "grade_id": "cell-8b116a662ca39c34",
     "locked": true,
     "schema_version": 3,
     "solution": false,
     "task": false
    }
   },
   "source": [
    "# Problème 2: [Rush Hour](http://www.thinkfun.com/products/rush-hour/)\n",
    "\n",
    "La voiture rouge est coincée dans un embouteillage; comment déplacer les véhicules pour la faire sortir?\n",
    "Ci-dessous le défi 1.\n",
    "<center><img src=\"rush_hour.gif\" width=\"30%\"></center>"
   ]
  },
  {
   "cell_type": "markdown",
   "metadata": {
    "deletable": false,
    "editable": false,
    "nbgrader": {
     "cell_type": "markdown",
     "checksum": "dd86af124d161966e5d603450c9023fa",
     "grade": false,
     "grade_id": "cell-0ae0519f05fd16cf",
     "locked": true,
     "schema_version": 3,
     "solution": false,
     "task": false
    }
   },
   "source": [
    "Quel rapport avec les parcours de graphes? Saurez-vous faire résoudre par l'ordinateur le défi 40 en un nombre minimum du coups?"
   ]
  },
  {
   "cell_type": "markdown",
   "metadata": {
    "deletable": false,
    "editable": false,
    "nbgrader": {
     "cell_type": "markdown",
     "checksum": "fdccfc6d88cc1cf2f33c9c504a50e993",
     "grade": false,
     "grade_id": "cell-b58143ef6a52abc7",
     "locked": true,
     "schema_version": 3,
     "solution": false,
     "task": false
    }
   },
   "source": [
    "Dans cette feuille, vous découvrirez le modèle et deux mini applications interactives pour le jeu RushHour qui vous sont fournis. Il ne restera «plus qu'à» implanter l'«Intelligence Artificielle» pour résoudre le jeu."
   ]
  },
  {
   "cell_type": "markdown",
   "metadata": {
    "deletable": false,
    "editable": false,
    "nbgrader": {
     "cell_type": "markdown",
     "checksum": "dd6d1a7d539f86f939d8e01062d2b173",
     "grade": false,
     "grade_id": "cell-e95fbc428f5dc7f7",
     "locked": true,
     "schema_version": 3,
     "solution": false,
     "task": false
    }
   },
   "source": [
    "## Un modèle pour RushHour"
   ]
  },
  {
   "cell_type": "markdown",
   "metadata": {
    "deletable": false,
    "editable": false,
    "nbgrader": {
     "cell_type": "markdown",
     "checksum": "02e58cbb8a11a7abecf9c2a5ec3a4395",
     "grade": false,
     "grade_id": "cell-c46ec613d70afce3",
     "locked": true,
     "schema_version": 3,
     "solution": false,
     "task": false
    }
   },
   "source": [
    "### Quelques exemple d'utilisation programmatique"
   ]
  },
  {
   "cell_type": "code",
   "execution_count": 1,
   "metadata": {
    "deletable": false,
    "editable": false,
    "nbgrader": {
     "cell_type": "code",
     "checksum": "319cb7837eac7044bd0f3a79f593ca5c",
     "grade": false,
     "grade_id": "cell-092550ae4c9bb258",
     "locked": true,
     "schema_version": 3,
     "solution": false,
     "task": false
    }
   },
   "outputs": [],
   "source": [
    "from rush_hour import Plateau"
   ]
  },
  {
   "cell_type": "code",
   "execution_count": 2,
   "metadata": {},
   "outputs": [
    {
     "data": {
      "text/plain": [
       "+------+\n",
       "|AA   O|\n",
       "|P  Q O|\n",
       "|PXXQ O \n",
       "|P  Q  |\n",
       "|B   CC|\n",
       "|B RRR |\n",
       "+------+"
      ]
     },
     "execution_count": 2,
     "metadata": {},
     "output_type": "execute_result"
    }
   ],
   "source": [
    "plateau = Plateau(['A2R00','X2R21','C2R44','R3R52','O3D05','P3D10','Q3D13','B2D40']); plateau"
   ]
  },
  {
   "cell_type": "code",
   "execution_count": 3,
   "metadata": {},
   "outputs": [
    {
     "data": {
      "text/plain": [
       "+------+\n",
       "|AA   O|\n",
       "|P  Q O|\n",
       "|PXXQ O \n",
       "|P  Q  |\n",
       "|B   CC|\n",
       "|BRRR  |\n",
       "+------+"
      ]
     },
     "execution_count": 3,
     "metadata": {},
     "output_type": "execute_result"
    }
   ],
   "source": [
    "plateau.recule(\"R\")"
   ]
  },
  {
   "cell_type": "code",
   "execution_count": 4,
   "metadata": {},
   "outputs": [
    {
     "data": {
      "text/plain": [
       "False"
      ]
     },
     "execution_count": 4,
     "metadata": {},
     "output_type": "execute_result"
    }
   ],
   "source": [
    "plateau.est_gagnant()"
   ]
  },
  {
   "cell_type": "markdown",
   "metadata": {
    "deletable": false,
    "editable": false,
    "nbgrader": {
     "cell_type": "markdown",
     "checksum": "0f47a25d5a1c1d31107a8f98efe4bd50",
     "grade": false,
     "grade_id": "cell-147551e49db8aa71",
     "locked": true,
     "schema_version": 3,
     "solution": false,
     "task": false
    }
   },
   "source": [
    "Chargement du 40ème défi de RushHour (voir les fichiers dans <a href=\"RushHourDefis/\">RushHourDefis/</a>):"
   ]
  },
  {
   "cell_type": "code",
   "execution_count": 5,
   "metadata": {},
   "outputs": [
    {
     "data": {
      "text/plain": [
       "+------+\n",
       "|AA   O|\n",
       "|P  Q O|\n",
       "|PXXQ O \n",
       "|P  Q  |\n",
       "|B   CC|\n",
       "|B RRR |\n",
       "+------+"
      ]
     },
     "execution_count": 5,
     "metadata": {},
     "output_type": "execute_result"
    }
   ],
   "source": [
    "Plateau(1)"
   ]
  },
  {
   "cell_type": "code",
   "execution_count": 6,
   "metadata": {},
   "outputs": [],
   "source": [
    "    def solution(niveau, return_graph=False, verbeux=False):\n",
    "        '''\n",
    "        Renvoie une solution optimale pour ce niveau\n",
    "\n",
    "            >>> RushHour.solution(1) # doctest: +SKIP\n",
    "            ['AR1', 'CL3', 'OD3', 'PU1', 'BU1', 'RL2', 'QD2', 'XR3']\n",
    "        '''\n",
    "        ### BEGIN SOLUTION\n",
    "        if verbeux:\n",
    "            progressbar = tqdm.tqdm() # tqdm.tqdm_notebook()\n",
    "        plateau = Plateau(niveau)\n",
    "        afaire = deque([(plateau, 0)])\n",
    "        predecesseurs = {plateau: None}\n",
    "        if plateau.est_gagnant():\n",
    "            return []\n",
    "        olddist = 0\n",
    "        while afaire:\n",
    "            sommet, dist = afaire.popleft()\n",
    "            for label, voisin in sommet.voisins().items():\n",
    "                if voisin in predecesseurs:\n",
    "                    continue\n",
    "                if verbeux:\n",
    "                    progressbar.update()\n",
    "                    progressbar.set_postfix({'afaire': len(afaire)})\n",
    "                predecesseurs[voisin] = label, sommet\n",
    "                afaire.append((voisin, dist+1))\n",
    "                if voisin.est_gagnant():\n",
    "                    if return_graph:\n",
    "                        return predecesseurs\n",
    "                    sommet = voisin\n",
    "                    chemin = []\n",
    "                    while predecesseurs[sommet] != None:\n",
    "                        label, sommet = predecesseurs[sommet]\n",
    "                        chemin.append(label)\n",
    "                    chemin.reverse()\n",
    "                    return chemin\n",
    "            if dist != olddist:\n",
    "                olddist = dist\n",
    "        if return_graph:\n",
    "            return predecesseurs\n",
    "        return None\n",
    "        ### END SOLUTION\n"
   ]
  },
  {
   "cell_type": "code",
   "execution_count": 7,
   "metadata": {},
   "outputs": [],
   "source": [
    "def parcours_en_largeur(plateau, u):\n",
    "    \"\"\"\n",
    "    INPUT:\n",
    "    - 'G' - un graphe\n",
    "    - 'u' - un sommet du graphe\n",
    "    \n",
    "    OUTPUT: un dictionnaire associant à chaque sommet `v` accessible depuis `u` sa distance depuis `u`\n",
    "    \"\"\"\n",
    "    distances = {u: 0} # L'ensemble des sommets déjà rencontrés\n",
    "    todo      = [u]    # Une liste de sommets à traiter\n",
    "\n",
    "    while todo:\n",
    "                \n",
    "        v = todo.pop()\n",
    "        plateau=plateau.deplace(v)\n",
    "        possible=plateau.voisins()\n",
    "        for w in possible:\n",
    "            if w not in distances:\n",
    "                distances[w] = distances[v] + 1\n",
    "                todo.append(w)\n",
    "\n",
    "        # Invariants:\n",
    "        # - Si `v` est dans `distance`, alors il y a un chemin de `u` à `v`,\n",
    "        #   et distance[v] contient la distance de `u` à `v`;\n",
    "        # - Si `v` est dans `distance` et pas dans `todo`\n",
    "        #   alors tous les voisins de `v` sont dans dans `distance`\n",
    "        # YOUR CODE HERE\n",
    "    return distances"
   ]
  },
  {
   "cell_type": "markdown",
   "metadata": {
    "deletable": false,
    "editable": false,
    "nbgrader": {
     "cell_type": "markdown",
     "checksum": "3853d37844247ef9bc2a7c8a10eefab7",
     "grade": false,
     "grade_id": "cell-5b6cd6d6f9b71716",
     "locked": true,
     "schema_version": 3,
     "solution": false,
     "task": false
    }
   },
   "source": [
    "### Un exemple d'interface utilisateur minimale"
   ]
  },
  {
   "cell_type": "code",
   "execution_count": 8,
   "metadata": {
    "deletable": false,
    "editable": false,
    "nbgrader": {
     "cell_type": "code",
     "checksum": "a4423dba29b42ee0c9edf432ff5ce134",
     "grade": false,
     "grade_id": "cell-925594bf10241f01",
     "locked": true,
     "schema_version": 3,
     "solution": false,
     "task": false
    }
   },
   "outputs": [
    {
     "data": {
      "application/vnd.jupyter.widget-view+json": {
       "model_id": "f579bf9441d3463e96ea6c97164eef94",
       "version_major": 2,
       "version_minor": 0
      },
      "text/plain": [
       "interactive(children=(Dropdown(description='voiture', options=('A', 'X', 'C', 'R', 'O', 'P', 'Q', 'B'), value=…"
      ]
     },
     "metadata": {},
     "output_type": "display_data"
    }
   ],
   "source": [
    "from ipywidgets import interact_manual\n",
    "from rush_hour import Plateau\n",
    "plateau = Plateau(['A2R00','X2R21','C2R44','R3R52','O3D05','P3D10','Q3D13','B2D40']); plateau\n",
    "@interact_manual\n",
    "def step(voiture=plateau.voitures.keys(), distance=[0,-1,1]):\n",
    "    global plateau\n",
    "    plateau2 = plateau.avance(voiture, distance)\n",
    "    if plateau2:\n",
    "        plateau = plateau2\n",
    "    return plateau"
   ]
  },
  {
   "cell_type": "markdown",
   "metadata": {
    "deletable": false,
    "editable": false,
    "nbgrader": {
     "cell_type": "markdown",
     "checksum": "c37f849df45a599d3724eadc1cd872e3",
     "grade": false,
     "grade_id": "cell-e658e589337e3977",
     "locked": true,
     "schema_version": 3,
     "solution": false,
     "task": false
    }
   },
   "source": [
    "## Une application graphique basée sur les widgets de Jupyter"
   ]
  },
  {
   "cell_type": "code",
   "execution_count": 9,
   "metadata": {
    "deletable": false,
    "editable": false,
    "nbgrader": {
     "cell_type": "code",
     "checksum": "67f816654091fea456827676c27ba6e3",
     "grade": false,
     "grade_id": "cell-a493f5ab9537f103",
     "locked": true,
     "schema_version": 3,
     "solution": false,
     "task": false
    }
   },
   "outputs": [
    {
     "data": {
      "application/vnd.jupyter.widget-view+json": {
       "model_id": "3aa82ab332dd47ad8f953108b80c2fad",
       "version_major": 2,
       "version_minor": 0
      },
      "text/plain": [
       "RushHourApplication(children=(HBox(children=(Dropdown(options=(('Niveau 1', 1), ('Niveau 3', 3), ('Niveau 7', …"
      ]
     },
     "metadata": {},
     "output_type": "display_data"
    }
   ],
   "source": [
    "from rush_hour_application import RushHourApplication\n",
    "A = RushHourApplication()\n",
    "A"
   ]
  },
  {
   "cell_type": "markdown",
   "metadata": {
    "deletable": false,
    "editable": false,
    "nbgrader": {
     "cell_type": "markdown",
     "checksum": "f76e325e5dd473d0bcfc5ce9c3e7a6c0",
     "grade": false,
     "grade_id": "cell-3b27d02803493741",
     "locked": true,
     "schema_version": 3,
     "solution": false,
     "task": false
    }
   },
   "source": [
    "## À vous de jouer!"
   ]
  },
  {
   "cell_type": "markdown",
   "metadata": {
    "deletable": false,
    "editable": false,
    "nbgrader": {
     "cell_type": "markdown",
     "checksum": "5e515bf8aab5bead52abcc5915e28511",
     "grade": false,
     "grade_id": "cell-0ea3514426195c6e",
     "locked": true,
     "points": 0,
     "schema_version": 3,
     "solution": false,
     "task": true
    }
   },
   "source": [
    "Implantez la méthode `solution` dans la class [`RushHour`](rush_hour.py) pour déterminer une séquence minimale de coup permettant de résoudre un défi, puis utilisez la ci-dessous pour résoudre le défi 40 de Rush Hour.\n",
    "\n",
    "**Indication**: considérez le graphe dont les sommets sont les états possibles du plateau et les arêtes les déplacements de voiture!"
   ]
  },
  {
   "cell_type": "code",
   "execution_count": 13,
   "metadata": {
    "deletable": false,
    "editable": false,
    "nbgrader": {
     "cell_type": "code",
     "checksum": "c1f7852bda69f01c6cba316de822ebe0",
     "grade": false,
     "grade_id": "cell-0fac0ad8915bba3b",
     "locked": true,
     "schema_version": 3,
     "solution": false,
     "task": false
    }
   },
   "outputs": [],
   "source": [
    "from rush_hour import RushHour\n",
    "solution = RushHour.solution(40)"
   ]
  },
  {
   "cell_type": "code",
   "execution_count": 14,
   "metadata": {
    "deletable": false,
    "editable": false,
    "nbgrader": {
     "cell_type": "code",
     "checksum": "6e719eb4d18cad6d476f14af9edaa8d0",
     "grade": true,
     "grade_id": "cell-38c9c48e258b9fd9",
     "locked": true,
     "points": 2,
     "schema_version": 3,
     "solution": false,
     "task": false
    }
   },
   "outputs": [],
   "source": [
    "assert RushHour.est_solution(40, solution)"
   ]
  },
  {
   "cell_type": "code",
   "execution_count": 15,
   "metadata": {},
   "outputs": [
    {
     "data": {
      "text/plain": [
       "True"
      ]
     },
     "execution_count": 15,
     "metadata": {},
     "output_type": "execute_result"
    }
   ],
   "source": [
    "RushHour.est_solution(40, solution)"
   ]
  },
  {
   "cell_type": "code",
   "execution_count": null,
   "metadata": {},
   "outputs": [],
   "source": []
  }
 ],
 "metadata": {
  "kernelspec": {
   "display_name": "Python 3",
   "language": "python",
   "name": "python3"
  },
  "language_info": {
   "codemirror_mode": {
    "name": "ipython",
    "version": 3
   },
   "file_extension": ".py",
   "mimetype": "text/x-python",
   "name": "python",
   "nbconvert_exporter": "python",
   "pygments_lexer": "ipython3",
   "version": "3.7.6"
  },
  "toc": {
   "base_numbering": 1,
   "nav_menu": {},
   "number_sections": true,
   "sideBar": true,
   "skip_h1_title": false,
   "title_cell": "Table of Contents",
   "title_sidebar": "Contents",
   "toc_cell": false,
   "toc_position": {},
   "toc_section_display": true,
   "toc_window_display": false
  },
  "varInspector": {
   "cols": {
    "lenName": 16,
    "lenType": 16,
    "lenVar": 40
   },
   "kernels_config": {
    "python": {
     "delete_cmd_postfix": "",
     "delete_cmd_prefix": "del ",
     "library": "var_list.py",
     "varRefreshCmd": "print(var_dic_list())"
    },
    "r": {
     "delete_cmd_postfix": ") ",
     "delete_cmd_prefix": "rm(",
     "library": "var_list.r",
     "varRefreshCmd": "cat(var_dic_list()) "
    }
   },
   "types_to_exclude": [
    "module",
    "function",
    "builtin_function_or_method",
    "instance",
    "_Feature"
   ],
   "window_display": false
  }
 },
 "nbformat": 4,
 "nbformat_minor": 4
}
