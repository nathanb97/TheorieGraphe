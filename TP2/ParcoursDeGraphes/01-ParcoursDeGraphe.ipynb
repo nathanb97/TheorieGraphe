{
 "cells": [
  {
   "cell_type": "markdown",
   "metadata": {
    "deletable": false,
    "editable": false,
    "nbgrader": {
     "cell_type": "markdown",
     "checksum": "c14fa6ffbe6888e2a21ff1746454ce8f",
     "grade": false,
     "grade_id": "cell-ccee3dfdd5a11682",
     "locked": true,
     "schema_version": 3,
     "solution": false,
     "task": false
    },
    "slideshow": {
     "slide_type": "slide"
    }
   },
   "source": [
    "# Étude d'un algorithme de parcours de graphes"
   ]
  },
  {
   "cell_type": "markdown",
   "metadata": {
    "deletable": false,
    "editable": false,
    "nbgrader": {
     "cell_type": "markdown",
     "checksum": "e9d9816b4f4a5eefebded09fcc1dc801",
     "grade": false,
     "grade_id": "cell-ed2d68bc54d324e9",
     "locked": true,
     "schema_version": 3,
     "solution": false,
     "task": false
    },
    "slideshow": {
     "slide_type": "fragment"
    }
   },
   "source": [
    "## Définitions"
   ]
  },
  {
   "cell_type": "markdown",
   "metadata": {
    "deletable": false,
    "editable": false,
    "nbgrader": {
     "cell_type": "markdown",
     "checksum": "996c72640d2709706ad02ad5d34b6c20",
     "grade": false,
     "grade_id": "cell-aae8364f24aec79f",
     "locked": true,
     "schema_version": 3,
     "solution": false,
     "task": false
    },
    "slideshow": {
     "slide_type": "fragment"
    }
   },
   "source": [
    "Soit $G$ un graphe."
   ]
  },
  {
   "cell_type": "markdown",
   "metadata": {
    "deletable": false,
    "editable": false,
    "nbgrader": {
     "cell_type": "markdown",
     "checksum": "5ac5ff84490aec2d6bae32488c9df2f7",
     "grade": false,
     "grade_id": "cell-6eb93809ad94640a",
     "locked": true,
     "schema_version": 3,
     "solution": false,
     "task": false
    },
    "slideshow": {
     "slide_type": "fragment"
    }
   },
   "source": [
    "- un *chemin* est une suite de sommets `(v_0, v_1, v_2, ...)` tel qu'il existe une arête entre chaque paire de sommets `v_i` et `v_{i+1}`"
   ]
  },
  {
   "cell_type": "markdown",
   "metadata": {
    "deletable": false,
    "editable": false,
    "nbgrader": {
     "cell_type": "markdown",
     "checksum": "8911e275bed3f693cf525c3a27f9be96",
     "grade": false,
     "grade_id": "cell-48f1ea9573bd68a6",
     "locked": true,
     "schema_version": 3,
     "solution": false,
     "task": false
    },
    "slideshow": {
     "slide_type": "fragment"
    }
   },
   "source": [
    "- la *distance* entre deux sommets `u` et `v` est la longueur du plus court chemin entre `u` et `v` (ou la somme des poids des arêtes)."
   ]
  },
  {
   "cell_type": "markdown",
   "metadata": {
    "deletable": false,
    "editable": false,
    "nbgrader": {
     "cell_type": "markdown",
     "checksum": "f2d1b8db563a8abd43d424bcee024db3",
     "grade": false,
     "grade_id": "cell-fa06e6c7cc8c3ed4",
     "locked": true,
     "schema_version": 3,
     "solution": false,
     "task": false
    },
    "slideshow": {
     "slide_type": "fragment"
    }
   },
   "source": [
    "- On suppose ici que $G$ est non orienté. La *composante connexe* d'un sommet $u$ de $G$ est l'ensemble des sommets atteignables depuis $u$ en suivant un chemin dans $G$."
   ]
  },
  {
   "cell_type": "markdown",
   "metadata": {
    "deletable": false,
    "editable": false,
    "nbgrader": {
     "cell_type": "markdown",
     "checksum": "4a7cadae2d36929c140856b8cba2ec0c",
     "grade": false,
     "grade_id": "cell-ac97467184074185",
     "locked": true,
     "schema_version": 3,
     "solution": false,
     "task": false
    },
    "slideshow": {
     "slide_type": "slide"
    }
   },
   "source": [
    "## L'algorithme"
   ]
  },
  {
   "cell_type": "markdown",
   "metadata": {
    "deletable": false,
    "editable": false,
    "nbgrader": {
     "cell_type": "markdown",
     "checksum": "22f8853504757d641ee4f535c65519cf",
     "grade": false,
     "grade_id": "cell-ef9eaf0a20c498d9",
     "locked": true,
     "schema_version": 3,
     "solution": false,
     "task": false
    },
    "slideshow": {
     "slide_type": "slide"
    }
   },
   "source": [
    "L'objectif de cette feuille est d'étudier l'algorithme suivant:"
   ]
  },
  {
   "cell_type": "code",
   "execution_count": 1,
   "metadata": {
    "deletable": false,
    "editable": false,
    "nbgrader": {
     "cell_type": "code",
     "checksum": "509c5ed7f54d0e1fc372d26c55b0ac2c",
     "grade": false,
     "grade_id": "cell-73c37b70b97f28a5",
     "locked": true,
     "schema_version": 3,
     "solution": false,
     "task": false
    },
    "slideshow": {
     "slide_type": "fragment"
    }
   },
   "outputs": [],
   "source": [
    "def parcours(G, u):\n",
    "    \"\"\"\n",
    "    INPUT:\n",
    "    - 'G' - un graphe\n",
    "    - 'u' - un sommet du graphe\n",
    "    \n",
    "    OUTPUT: la liste des sommets `v` de `G`\n",
    "            tels qu'il existe un chemin de `u` à `v`\n",
    "    \"\"\"\n",
    "    marked = {u} # L'ensemble des sommets déjà rencontrés\n",
    "    todo   = {u} # L'ensemble des sommets déjà rencontrés, mais pas encore traités\n",
    "    \n",
    "    while todo:\n",
    "        # Invariants:\n",
    "        # - Si `v` est dans `marked`, alors il y a un chemin de `u` à `v`\n",
    "        # - Si `v` est dans `marked` et pas dans `todo`\n",
    "        #   alors tous les voisins de `v` sont dans dans `marked`\n",
    "        v = todo.pop()\n",
    "        for w in G.neighbors_out(v):\n",
    "            if w not in marked:\n",
    "                marked.add(w)\n",
    "                todo.add(w)\n",
    "    return marked"
   ]
  },
  {
   "cell_type": "markdown",
   "metadata": {
    "deletable": false,
    "editable": false,
    "nbgrader": {
     "cell_type": "markdown",
     "checksum": "1ac61f51f6732d9b72392248026abe44",
     "grade": false,
     "grade_id": "cell-17deab189916256c",
     "locked": true,
     "schema_version": 3,
     "solution": false,
     "task": false
    },
    "slideshow": {
     "slide_type": "subslide"
    }
   },
   "source": [
    "## Étude sur un exemple\n",
    "Nous allons commencer par étudier le comportement de cet algorithme sur le graphe suivant:"
   ]
  },
  {
   "cell_type": "code",
   "execution_count": 3,
   "metadata": {
    "slideshow": {
     "slide_type": "subslide"
    }
   },
   "outputs": [
    {
     "data": {
      "application/vnd.jupyter.widget-view+json": {
       "model_id": "31d41b6109284f32be3392760ca1c231",
       "version_major": 2,
       "version_minor": 0
      },
      "text/plain": [
       "Figure(fig_margin={'top': 60, 'bottom': 60, 'left': 60, 'right': 60}, layout=Layout(height='400px', width='400…"
      ]
     },
     "metadata": {},
     "output_type": "display_data"
    }
   ],
   "source": [
    "from graph import examples\n",
    "G = examples.parcours_directed()\n",
    "G.show()"
   ]
  },
  {
   "cell_type": "markdown",
   "metadata": {
    "deletable": false,
    "editable": false,
    "nbgrader": {
     "cell_type": "markdown",
     "checksum": "b1ea36d98505f33eb88ba2e7ad1eda7f",
     "grade": false,
     "grade_id": "cell-f767fd72662d19e5",
     "locked": true,
     "schema_version": 3,
     "solution": false,
     "task": false
    },
    "slideshow": {
     "slide_type": "subslide"
    }
   },
   "source": [
    "**Note:** Si votre classe `Graph` n'est pas au point, remplacez `graph` par `graph_networkx` ci-dessus."
   ]
  },
  {
   "cell_type": "markdown",
   "metadata": {
    "deletable": false,
    "editable": false,
    "nbgrader": {
     "cell_type": "markdown",
     "checksum": "2510daff28ad241fdd7b725b91bab848",
     "grade": false,
     "grade_id": "cell-2af874cc82c7b754",
     "locked": true,
     "schema_version": 3,
     "solution": false,
     "task": false
    }
   },
   "source": [
    "**Exercice**\n",
    "- Copiez le graphe ci-dessus sur une feuille de papier;\n",
    "- Uniquement en consultant la documentation, prédire quel devrait être le résultat de l'algorithme appliqué au graphe ci-dessus avec `u=\"D\"`;\n",
    "- Vérifiez en exécutant la fonction `parcours` ci-dessous."
   ]
  },
  {
   "cell_type": "code",
   "execution_count": 4,
   "metadata": {
    "deletable": false,
    "nbgrader": {
     "cell_type": "code",
     "checksum": "8668fef1a0e67775472ab4a2a601c252",
     "grade": false,
     "grade_id": "cell-c7f16a80382e4274",
     "locked": false,
     "schema_version": 3,
     "solution": true,
     "task": false
    }
   },
   "outputs": [
    {
     "name": "stdout",
     "output_type": "stream",
     "text": [
      "{'G', 'F', 'D', 'H'}\n"
     ]
    }
   ],
   "source": [
    "# YOUR CODE HERE\n",
    "print(parcours(G=G, u=\"D\"))\n",
    "assert parcours(G, u=\"D\") == {'D', 'F', 'G', 'H'} "
   ]
  },
  {
   "cell_type": "markdown",
   "metadata": {
    "deletable": false,
    "editable": false,
    "nbgrader": {
     "cell_type": "markdown",
     "checksum": "23f08ea4d3a014533fdeca2a55540507",
     "grade": false,
     "grade_id": "cell-ac67e0e2dfff3530",
     "locked": true,
     "schema_version": 3,
     "solution": false,
     "task": false
    }
   },
   "source": [
    "## Tests"
   ]
  },
  {
   "cell_type": "code",
   "execution_count": 5,
   "metadata": {
    "deletable": false,
    "editable": false,
    "nbgrader": {
     "cell_type": "code",
     "checksum": "94b5c9cef807a4709ceb61c2b0fd87e0",
     "grade": false,
     "grade_id": "cell-459565fce15f98c2",
     "locked": true,
     "schema_version": 3,
     "solution": false,
     "task": false
    }
   },
   "outputs": [],
   "source": [
    "H = examples.cours_1_reseau()\n",
    "assert parcours(G, \"A\") == {'A', 'B', 'C', 'D', 'F', 'G', 'H'}"
   ]
  },
  {
   "cell_type": "code",
   "execution_count": 6,
   "metadata": {
    "deletable": false,
    "editable": false,
    "nbgrader": {
     "cell_type": "code",
     "checksum": "8044c6c71570754ff3af4073116cd098",
     "grade": false,
     "grade_id": "cell-667069433f962551",
     "locked": true,
     "schema_version": 3,
     "solution": false,
     "task": false
    }
   },
   "outputs": [],
   "source": [
    "assert parcours(G, \"B\") == {'B', 'C', 'D', 'F', 'G', 'H'}"
   ]
  },
  {
   "cell_type": "code",
   "execution_count": 7,
   "metadata": {
    "deletable": false,
    "editable": false,
    "nbgrader": {
     "cell_type": "code",
     "checksum": "ad874ad53d3a90a731b8293fda1deefb",
     "grade": false,
     "grade_id": "cell-e65408844acff6a6",
     "locked": true,
     "schema_version": 3,
     "solution": false,
     "task": false
    }
   },
   "outputs": [],
   "source": [
    "H = examples.cours_1_G()\n",
    "assert sorted(parcours(H, 3)) == [0, 1, 2, 3, 4, 5]"
   ]
  },
  {
   "cell_type": "code",
   "execution_count": 8,
   "metadata": {
    "deletable": false,
    "editable": false,
    "nbgrader": {
     "cell_type": "code",
     "checksum": "cbe78e82f9cb0a189ee9715f443e62d8",
     "grade": false,
     "grade_id": "cell-b0cdb8ca938b180d",
     "locked": true,
     "schema_version": 3,
     "solution": false,
     "task": false
    }
   },
   "outputs": [],
   "source": [
    "H = examples.disconnected()\n",
    "assert sorted(parcours(H, 1)) == [1, 2, 5]\n",
    "assert sorted(parcours(H, 3)) == [3, 4]"
   ]
  },
  {
   "cell_type": "markdown",
   "metadata": {
    "deletable": false,
    "editable": false,
    "nbgrader": {
     "cell_type": "markdown",
     "checksum": "95ddbf8666b4f4e3011330e272b39812",
     "grade": false,
     "grade_id": "cell-59f5a82baa8c62f1",
     "locked": true,
     "schema_version": 3,
     "solution": false,
     "task": false
    }
   },
   "source": [
    "## Visualisation"
   ]
  },
  {
   "cell_type": "markdown",
   "metadata": {
    "deletable": false,
    "editable": false,
    "nbgrader": {
     "cell_type": "markdown",
     "checksum": "65c8b2182c5a4fb8a8b9341e4014cd46",
     "grade": false,
     "grade_id": "cell-398990d2b682d2a7",
     "locked": true,
     "schema_version": 3,
     "solution": false,
     "task": false
    }
   },
   "source": [
    "Nous allons maintenant visualiser l'exécution de notre algorithme. Pour cela, nous allons:\n",
    "1. instrumenter le code en insérant des observations des variables locales aux endroits clé (comme lorsque l'on débogue avec `print`)\n",
    "2. définir une visualisation de ses variables locales\n",
    "\n",
    "Exécutez les cellules ci-dessous, jusqu'à l'appel à la fonction `parcours`, puis jouez avec la «télécommande» pour exécuter le code pas à pas, revenir en arrière, etc.\n",
    "\n",
    "Note: il y a encore deux boggues: la marche arrière en continu ne fonctionne pas et les valeurs ne sont mises à jour que en pas à pas."
   ]
  },
  {
   "cell_type": "code",
   "execution_count": 9,
   "metadata": {
    "deletable": false,
    "editable": false,
    "nbgrader": {
     "cell_type": "code",
     "checksum": "ed1b4237738970526272ef3a1f41a64d",
     "grade": false,
     "grade_id": "cell-4d1d8a9f934d9313",
     "locked": true,
     "schema_version": 3,
     "solution": false,
     "task": false
    }
   },
   "outputs": [],
   "source": [
    "import copy"
   ]
  },
  {
   "cell_type": "code",
   "execution_count": 10,
   "metadata": {
    "deletable": false,
    "editable": false,
    "nbgrader": {
     "cell_type": "code",
     "checksum": "8e4ce145bcf10901ce26511a8c9c9f58",
     "grade": false,
     "grade_id": "cell-b77ea9ac5df0a877",
     "locked": true,
     "schema_version": 3,
     "solution": false,
     "task": false
    }
   },
   "outputs": [],
   "source": [
    "def parcours_visualisation(G, u):\n",
    "    \"\"\"\n",
    "    INPUT:\n",
    "    - 'G' - un graphe\n",
    "    - 'u' - un sommet du graphe\n",
    "    \n",
    "    OUTPUT: la liste des sommets `v` de `G`\n",
    "            tels qu'il existe un chemin de `u` à `v`\n",
    "    \"\"\"\n",
    "    marked = {u} # L'ensemble des sommets déjà rencontrés\n",
    "    todo   = {u} # L'ensemble des sommets déjà rencontrés, mais pas encore traités\n",
    "    \n",
    "    player.player.reset(copy.deepcopy(locals()))\n",
    "    \n",
    "    while todo:\n",
    "        # Invariants:\n",
    "        # - Si `v` est dans `marked`, alors il y a un chemin de `u` à `v`\n",
    "        # - Si `v` est dans `marked` et pas dans `todo`\n",
    "        #   alors tous les voisins de `v` sont dans dans `marked`\n",
    "        v = todo.pop()\n",
    "        # Observation des variables locales\n",
    "        player.set_value(copy.deepcopy(locals()))\n",
    "        for w in G.neighbors_out(v):\n",
    "            if w not in marked:\n",
    "                marked.add(w)\n",
    "                todo.add(w)\n",
    "                # Observation des variables locales\n",
    "                player.set_value(copy.deepcopy(locals()))\n",
    "        v = None\n",
    "        # Observation des variables locales\n",
    "        player.set_value(copy.deepcopy(locals()))\n",
    "    return marked"
   ]
  },
  {
   "cell_type": "code",
   "execution_count": 11,
   "metadata": {
    "deletable": false,
    "editable": false,
    "nbgrader": {
     "cell_type": "code",
     "checksum": "069e84e107311db09e8f3e951b7d60f7",
     "grade": false,
     "grade_id": "cell-ddf0b04bb2d33451",
     "locked": true,
     "schema_version": 3,
     "solution": false,
     "task": false
    }
   },
   "outputs": [
    {
     "data": {
      "application/vnd.jupyter.widget-view+json": {
       "model_id": "dc53246117fd411f8e6c8e1e30288f70",
       "version_major": 2,
       "version_minor": 0
      },
      "text/plain": [
       "PlayerView(children=(GraphAlgorithmView(children=(Figure(fig_margin={'top': 60, 'bottom': 60, 'left': 60, 'rig…"
      ]
     },
     "metadata": {},
     "output_type": "display_data"
    }
   ],
   "source": [
    "import graph_algorithm_player\n",
    "variables = [{'name':'marked', 'type':'list', 'color': 'green'},\n",
    "             {'name':'todo',   'type':'list', 'color': 'red'},\n",
    "             {'name':'v',      'type':'node', 'color': 'yellow'}]\n",
    "player = graph_algorithm_player.GraphAlgorithmPlayer(G, variables=variables)\n",
    "player"
   ]
  },
  {
   "cell_type": "code",
   "execution_count": 12,
   "metadata": {
    "deletable": false,
    "editable": false,
    "nbgrader": {
     "cell_type": "code",
     "checksum": "ca2c268c3c60b85ad9cb6be13d9d2f17",
     "grade": false,
     "grade_id": "cell-c53b8540b921c69e",
     "locked": true,
     "schema_version": 3,
     "solution": false,
     "task": false
    }
   },
   "outputs": [
    {
     "data": {
      "text/plain": [
       "{'A', 'B', 'C', 'D', 'F', 'G', 'H'}"
      ]
     },
     "execution_count": 12,
     "metadata": {},
     "output_type": "execute_result"
    }
   ],
   "source": [
    "parcours_visualisation(G, \"A\")"
   ]
  },
  {
   "cell_type": "markdown",
   "metadata": {
    "deletable": false,
    "editable": false,
    "nbgrader": {
     "cell_type": "markdown",
     "checksum": "dd81e5ab696b5a001b8e808fa9f76574",
     "grade": false,
     "grade_id": "cell-13cd85307a1b10d3",
     "locked": true,
     "schema_version": 3,
     "solution": false,
     "task": false
    }
   },
   "source": [
    "## Analyse théorique et invariants"
   ]
  },
  {
   "cell_type": "markdown",
   "metadata": {
    "deletable": false,
    "editable": false,
    "nbgrader": {
     "cell_type": "markdown",
     "checksum": "53d29c0fbd5fd410c9b80df26dfbac1c",
     "grade": false,
     "grade_id": "cell-1de49020d90d7772",
     "locked": true,
     "schema_version": 3,
     "solution": false,
     "task": false
    }
   },
   "source": [
    "**Exercice**: Complexité\n",
    "\n",
    "Majorer la complexité de l'algorithme. Pour cela, choisir un *modèle de complexité*: opération(s) élémentaires et métrique(s) pour la taille des données en entrée. Puis considérer combien de fois chaque sommet est manipulé, combien de fois chaque arête est manipulée. Donner votre réponse ci-dessous."
   ]
  },
  {
   "cell_type": "markdown",
   "metadata": {
    "deletable": false,
    "nbgrader": {
     "cell_type": "markdown",
     "checksum": "30e1f17b6ca5a7052c51b651fe7c5130",
     "grade": true,
     "grade_id": "cell-9b0cbefe30ca5009",
     "locked": false,
     "points": 2,
     "schema_version": 3,
     "solution": true,
     "task": false
    }
   },
   "source": [
    "`un`=nombre de sommet u\n",
    "<br>\n",
    "`vn`=nombre d'arc \n",
    "<br>\n",
    "`G`=graphe donné en parametre\n",
    "<br>\n",
    "`SO`=sommet original est le sommet donné en argument duquel nous cherchons la liste des sommets `v` de `G`\n",
    "            tels qu'il existe un chemin de `SO` à `v`\n",
    "<br>\n",
    "`todo`=Les sommets courants sont les sommets auquel nous verifions tous les voisins\n",
    "<br>\n",
    "`C1`=Condition :Tant que tous les sommets ne sont pas marqués\n",
    "<br>\n",
    "Calculons $O(n)=$ complexité du pire cas\n",
    "<br>\n",
    "Tant que tous les sommets ne sont pas marqués :  dans le pire cas $O(un)$ (car un sommet est marqué au plus une fois):\n",
    "<br>\n",
    "    <li>nous supprimons le sommet courant de la liste : $O(1)$</li>\n",
    "    <li>nous parcourons tous les sommets voisins du sommet courant excepter les voisins déjà visité (+1 car dans le premier cas, dans le pire des cas nous visitons tous les voisins sans qu'aucun autre sommet ne soit marqué):  dans le pire cas $O(vn/un+1)$</li>\n",
    "    <li>Nous marquons tous les sommets voisins non marqué $O(1)$</li>\n",
    "    <li>Nous ajoutons tous les sommets voisins non marqué a `todo`$O(1)$</li>\n",
    "<br>\n",
    "donc nous avons pour complexité $n=un*(1*((vn/un)+1)*(1+1))$ d'ou $O(n)=vn+un$"
   ]
  },
  {
   "cell_type": "markdown",
   "metadata": {
    "deletable": false,
    "editable": false,
    "nbgrader": {
     "cell_type": "markdown",
     "checksum": "f44466e794a1d2a62d9dc7f141a26b5b",
     "grade": false,
     "grade_id": "cell-471de1d0f2917ac8",
     "locked": true,
     "schema_version": 3,
     "solution": false,
     "task": false
    }
   },
   "source": [
    "L'exercice précédent a confirmé qu'il s'agissait bien d'un algorithme: il termine en un temps fini. Il reste à démontrer qu'il est correct."
   ]
  },
  {
   "cell_type": "markdown",
   "metadata": {
    "deletable": false,
    "editable": false,
    "nbgrader": {
     "cell_type": "markdown",
     "checksum": "e78ac27a52498e02e075112c8ab7857e",
     "grade": false,
     "grade_id": "cell-08521a9de48faa86",
     "locked": true,
     "schema_version": 3,
     "solution": false,
     "task": false
    }
   },
   "source": [
    "Vous avez remarqué les *invariants* marqués en commentaires dans le code. Ce sont des propriétés qui sont sensées être vérifiées à toutes les itérations de la boucle."
   ]
  },
  {
   "cell_type": "markdown",
   "metadata": {
    "deletable": false,
    "editable": false,
    "nbgrader": {
     "cell_type": "markdown",
     "checksum": "0ab6dfb3a518fad813ba871a58b15443",
     "grade": false,
     "grade_id": "cell-f7a916021445d22e",
     "locked": true,
     "schema_version": 3,
     "solution": false,
     "task": false
    }
   },
   "source": [
    "**Exercice** Preuve de correction\n",
    "\n",
    "1. Vérifiez que les invariants sont respectés à l'initialisation\n",
    "2. Vérifiez que, à chaque itération de la boucle while, si les invariants sont respectés au début de l'itération, alors ils le sont encore à la fin\n",
    "3. Qu'en déduisez vous par récurence?\n",
    "4. Concluez en montrant que, s'il y a un chemin de `u` à `v`, alors `v` est dans `marked` à la fin de l'exécution de l'algorithme"
   ]
  },
  {
   "cell_type": "markdown",
   "metadata": {
    "deletable": false,
    "nbgrader": {
     "cell_type": "markdown",
     "checksum": "aace9e633846a9bdfb99563c4e6331a1",
     "grade": true,
     "grade_id": "cell-ec7a47d5d820e1fb",
     "locked": false,
     "points": 0,
     "schema_version": 3,
     "solution": true,
     "task": false
    }
   },
   "source": [
    "### Initialisation\n",
    "`ix`=invariant Si `v` est dans `marked`, alors il y a un chemin de `S0` à `v`\n",
    "<br>\n",
    "`iy`=invariant Si `v` est dans `marked` et pas dans `todo` alors tous les voisins de `v` sont dans `marked`\n",
    "<br>\n",
    "Soit `n=1` le premier tour de boucle\n",
    "Verifions pour `n=1` `ix` et `iy`<br>\n",
    "So=u(0)<br>\n",
    "Enlevons `u(0)` de `todo`<br>\n",
    "Rajoutons tous les voisins de `u0` dans `marked`<br>\n",
    "Soit `vi` un voisin quelconque de u est donc dans marked : par definition il y a un chemin de `u0` à `v` d'ou `ix(1)` vrai <br>\n",
    "Algorithmiquement u n'est plus present dans Marked et tous ses voisins sont dans Marked donc `iy(1)` vrai\n",
    "`ix(1)`,`iy(1)` vrai pour i=1 admettons que `ix(n)`et`iy(n)` soit vrai pour un certain n montrons `ix(n+1)`et`iy(n+1)` vrai pour n'importe quel n<br>\n",
    "### Recurence\n",
    "Soit le `n` ème tour de boucle <br>`u(n)` le sommet au tour n<br>\n",
    "\n",
    "Enlevons `u(n)` de `todo`<br>\n",
    "Rajoutons tous les voisins de `u(n)` dans `marked`<br>\n",
    "Soit `vi` un voisin quelconque de u(n) est donc dans marked :par definition il y a un chemin de `u(n)` à `vi` et par hypothese de recurrence il y a un chemin de `S0` à `u(n)` donc il y a un chemin de `S0` à `v(i)` donc `ix(n+1)` vrai<br>\n",
    "Algorithmiquement `u(n)` n'est plus present dans Marked et tous ses voisins sont dans Marked et par hypothese de recurrence `iy(n)` est vrai pour tous les u(j) pour $j = {1...n-1}$ donc `iy(n+1)` vrai<br>\n",
    "\n",
    "### Conclusion\n",
    "Nous avons demontrer par recurrence `iy` vrai et  nous avons donc montré que si un sommet est dans marqued il ne peut donc pas etre dans todo. Donc notre notre algorithme se termine bien avec une compléxité de $O(un+vn)$<br>\n",
    "De plus a travers la démonstration de `ix` nous avons bien montrer que notre algorithme renvoie bien la liste des sommets `v` de `G`\n",
    "            tels qu'il existe un chemin de `S0` à `v`"
   ]
  },
  {
   "cell_type": "markdown",
   "metadata": {
    "deletable": false,
    "editable": false,
    "nbgrader": {
     "cell_type": "markdown",
     "checksum": "04f85af3f7f5049e3906244e22c67247",
     "grade": false,
     "grade_id": "cell-5dbfbfd82f6bfb1a",
     "locked": true,
     "schema_version": 3,
     "solution": false,
     "task": false
    }
   },
   "source": [
    "## Conclusion\n",
    "\n",
    "Dans cette feuille, nous avons étudié un algorithme au moyen de deux outils:\n",
    "- L'instrumentation du code pour observer visuellement son exécution\n",
    "- Les invariants pour démontrer la correction de l'algorithme\n",
    "\n",
    "Nous utiliserons systématiquement ces outils dans la suite du cours.\n",
    "\n",
    "Les invariants sont des outils très puissants pour le programmeur. Ils jouent le même rôle que les hypothèses de récurences dans les démonstrations. Ils permettent de se convaincre après coup que les programmes sont corrects. Au moins aussi important, ce sont des guides précieux sur lesquels s'appuyer au moment de la programmation elle même. En fait, bien souvent, une fois que l'on a choisis ses invariants, l'écriture du programme est quasiment imposée.\n",
    "\n",
    "**Recommandations**:\n",
    "- Écrivez vos programmes dans l'ordre suivant: documentation, tests, invariants, puis seulement code.\n",
    "\n",
    "  C'est l'analogue exact de la démarche en mathématiques: énoncé du théorème, exemples, hypothèse de récurence, reste de la preuve.\n",
    "\n",
    "- Dans l'exemple ci-dessus, les invariants étaient écrits dans des commentaires. Lisibles par l'homme, donc, mais inexploitable par la machine. Chaque fois que possible, exprimez vos invariants sous une forme *exécutable* tout en restant *lisible*. Cela se fait typiquement avec:\n",
    "\n",
    "      assert ...\n",
    "    \n",
    "  Dans la phase de mise au point, cette forme permet de vérifier systématiquement les invariants, et d'arêter l'exécution du programme le plus tôt possible en cas de problème. Lors de la mise en production, il est possible de désactiver la vérification des asserts (option -O en Python) pour ne pas pénaliser la vitesse d'exécution."
   ]
  },
  {
   "cell_type": "code",
   "execution_count": null,
   "metadata": {},
   "outputs": [],
   "source": []
  }
 ],
 "metadata": {
  "kernelspec": {
   "display_name": "Python 3",
   "language": "python",
   "name": "python3"
  },
  "language_info": {
   "codemirror_mode": {
    "name": "ipython",
    "version": 3
   },
   "file_extension": ".py",
   "mimetype": "text/x-python",
   "name": "python",
   "nbconvert_exporter": "python",
   "pygments_lexer": "ipython3",
   "version": "3.7.6"
  },
  "toc": {
   "base_numbering": 1,
   "nav_menu": {},
   "number_sections": true,
   "sideBar": true,
   "skip_h1_title": false,
   "title_cell": "Table of Contents",
   "title_sidebar": "Contents",
   "toc_cell": false,
   "toc_position": {},
   "toc_section_display": true,
   "toc_window_display": false
  },
  "varInspector": {
   "cols": {
    "lenName": 16,
    "lenType": 16,
    "lenVar": 40
   },
   "kernels_config": {
    "python": {
     "delete_cmd_postfix": "",
     "delete_cmd_prefix": "del ",
     "library": "var_list.py",
     "varRefreshCmd": "print(var_dic_list())"
    },
    "r": {
     "delete_cmd_postfix": ") ",
     "delete_cmd_prefix": "rm(",
     "library": "var_list.r",
     "varRefreshCmd": "cat(var_dic_list()) "
    }
   },
   "types_to_exclude": [
    "module",
    "function",
    "builtin_function_or_method",
    "instance",
    "_Feature"
   ],
   "window_display": false
  }
 },
 "nbformat": 4,
 "nbformat_minor": 4
}
