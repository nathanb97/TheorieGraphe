{
 "cells": [
  {
   "cell_type": "markdown",
   "metadata": {
    "deletable": false,
    "editable": false,
    "nbgrader": {
     "cell_type": "markdown",
     "checksum": "a84fb7d1b2d4a6f3086408711c0ebf40",
     "grade": false,
     "grade_id": "cell-7d6651504215e0ca",
     "locked": true,
     "schema_version": 3,
     "solution": false,
     "task": false
    }
   },
   "source": [
    "# Bibliothèque de graphes\n",
    "\n",
    "Le fichier [graph.py](./graph.py) contient le squelette de la classe Graph que vous avez implanté la séance dernière. Nous y avons depuis ajouté des tests. Éditez ce squelette pour y insérer le code de chacune des méthodes. Veillez à bien conserver tous les tests fournis! N'hésitez pas à compléter ces tests.\n",
    "Essayez votre classe:"
   ]
  },
  {
   "cell_type": "code",
   "execution_count": 1,
   "metadata": {
    "deletable": false,
    "editable": false,
    "nbgrader": {
     "cell_type": "code",
     "checksum": "32376a32a898fc5daf418c095603b6fa",
     "grade": false,
     "grade_id": "cell-dc4476c6cd597199",
     "locked": true,
     "schema_version": 3,
     "solution": false,
     "task": false
    }
   },
   "outputs": [],
   "source": [
    "from graph import Graph, examples"
   ]
  },
  {
   "cell_type": "code",
   "execution_count": 2,
   "metadata": {
    "deletable": false,
    "editable": false,
    "nbgrader": {
     "cell_type": "code",
     "checksum": "7eaa4c147ddef1e9deae1f19740724de",
     "grade": true,
     "grade_id": "cell-1dd035627b5d7b54",
     "locked": true,
     "points": 1,
     "schema_version": 3,
     "solution": false,
     "task": false
    }
   },
   "outputs": [],
   "source": [
    "G = Graph([1,2,3], edges=[(1,2,\"12\"),(2,3,\"23\")])"
   ]
  },
  {
   "cell_type": "code",
   "execution_count": 3,
   "metadata": {
    "deletable": false,
    "editable": false,
    "nbgrader": {
     "cell_type": "code",
     "checksum": "4f87e98eec3b26f5c0e005b56ef7f5a6",
     "grade": true,
     "grade_id": "cell-f32bdde5da338aed",
     "locked": true,
     "points": 1,
     "schema_version": 3,
     "solution": false,
     "task": false
    }
   },
   "outputs": [],
   "source": [
    "assert G.edges() == ((1, 2, '12'), (2, 1, '12'), (2, 3, '23'), (3, 2, '23'))"
   ]
  },
  {
   "cell_type": "code",
   "execution_count": 4,
   "metadata": {
    "deletable": false,
    "editable": false,
    "nbgrader": {
     "cell_type": "code",
     "checksum": "d54fc39aaa557469524100c26963ad60",
     "grade": true,
     "grade_id": "cell-50e1b14caae52140",
     "locked": true,
     "points": 1,
     "schema_version": 3,
     "solution": false,
     "task": false
    }
   },
   "outputs": [
    {
     "data": {
      "application/vnd.jupyter.widget-view+json": {
       "model_id": "442b6cdd006741f9a3109c9e6eb717cd",
       "version_major": 2,
       "version_minor": 0
      },
      "text/plain": [
       "Figure(fig_margin={'top': 60, 'bottom': 60, 'left': 60, 'right': 60}, layout=Layout(height='400px', width='400…"
      ]
     },
     "metadata": {},
     "output_type": "display_data"
    }
   ],
   "source": [
    "G.show()"
   ]
  },
  {
   "cell_type": "code",
   "execution_count": 5,
   "metadata": {
    "deletable": false,
    "editable": false,
    "nbgrader": {
     "cell_type": "code",
     "checksum": "27e03a198c29be287e56ac7948e7af62",
     "grade": true,
     "grade_id": "cell-d181f9b9b27b9a76",
     "locked": true,
     "points": 1,
     "schema_version": 3,
     "solution": false,
     "task": false
    }
   },
   "outputs": [
    {
     "data": {
      "text/plain": [
       "((0, 2, 1),\n",
       " (1, 2, 1),\n",
       " (1, 5, 1),\n",
       " (2, 0, 1),\n",
       " (2, 1, 1),\n",
       " (2, 3, 1),\n",
       " (3, 2, 1),\n",
       " (3, 5, 1),\n",
       " (3, 4, 1),\n",
       " (4, 3, 1),\n",
       " (5, 1, 1),\n",
       " (5, 3, 1))"
      ]
     },
     "execution_count": 5,
     "metadata": {},
     "output_type": "execute_result"
    }
   ],
   "source": [
    "G = examples.cours_1_G()\n",
    "G.edges()"
   ]
  },
  {
   "cell_type": "code",
   "execution_count": 6,
   "metadata": {
    "deletable": false,
    "editable": false,
    "nbgrader": {
     "cell_type": "code",
     "checksum": "9ce9bde0024b3a83969c74fa044c6ae0",
     "grade": true,
     "grade_id": "cell-120e2364a899a12b",
     "locked": true,
     "points": 1,
     "schema_version": 3,
     "solution": false,
     "task": false
    }
   },
   "outputs": [],
   "source": [
    "assert G.vertex_number() == 6"
   ]
  },
  {
   "cell_type": "code",
   "execution_count": 7,
   "metadata": {},
   "outputs": [
    {
     "data": {
      "text/plain": [
       "((0, 2, 1),\n",
       " (1, 2, 1),\n",
       " (1, 5, 1),\n",
       " (2, 0, 1),\n",
       " (2, 1, 1),\n",
       " (2, 3, 1),\n",
       " (3, 2, 1),\n",
       " (3, 5, 1),\n",
       " (3, 4, 1),\n",
       " (4, 3, 1),\n",
       " (5, 1, 1),\n",
       " (5, 3, 1))"
      ]
     },
     "execution_count": 7,
     "metadata": {},
     "output_type": "execute_result"
    }
   ],
   "source": [
    "G.edges()"
   ]
  },
  {
   "cell_type": "markdown",
   "metadata": {
    "deletable": false,
    "editable": false,
    "nbgrader": {
     "cell_type": "markdown",
     "checksum": "705fb1637d5a94e9199195fa2b8dd6fc",
     "grade": false,
     "grade_id": "cell-27c1b6c455cc76fd",
     "locked": true,
     "schema_version": 3,
     "solution": false,
     "task": false
    }
   },
   "source": [
    "Maintenant, lancez tous les tests inclus dans la documentation des fonctions:"
   ]
  },
  {
   "cell_type": "code",
   "execution_count": 12,
   "metadata": {
    "deletable": false,
    "editable": false,
    "nbgrader": {
     "cell_type": "code",
     "checksum": "c03986b1d18f0060b7e4638c4da7e402",
     "grade": false,
     "grade_id": "cell-78ca9cf736b9443b",
     "locked": true,
     "schema_version": 3,
     "solution": false,
     "task": false
    }
   },
   "outputs": [
    {
     "name": "stdout",
     "output_type": "stream",
     "text": [
      "\u001b[1m============================= test session starts ==============================\u001b[0m\n",
      "platform linux -- Python 3.7.6, pytest-5.4.3, py-1.8.1, pluggy-0.13.1\n",
      "rootdir: /home/jovyan/Algorithme_Avancee/TP2/ParcoursDeGraphes\n",
      "collected 6 items                                                              \u001b[0m\n",
      "\n",
      "graph.py \u001b[32m.\u001b[0m\u001b[32m.\u001b[0m\u001b[32m.\u001b[0m\u001b[32m.\u001b[0m\u001b[32m.\u001b[0m\u001b[32m.\u001b[0m\u001b[32m                                                          [100%]\u001b[0m\n",
      "\n",
      "\u001b[32m============================== \u001b[32m\u001b[1m6 passed\u001b[0m\u001b[32m in 0.04s\u001b[0m\u001b[32m ===============================\u001b[0m\n"
     ]
    }
   ],
   "source": [
    "!pytest --doctest-modules graph.py"
   ]
  },
  {
   "cell_type": "code",
   "execution_count": 13,
   "metadata": {},
   "outputs": [
    {
     "data": {
      "text/plain": [
       "[(1, 2, 12), (1, 4, 12), (2, 3, 23)]"
      ]
     },
     "execution_count": 13,
     "metadata": {},
     "output_type": "execute_result"
    }
   ],
   "source": [
    "G = examples.directed()\n",
    "sorted(G.edges())"
   ]
  },
  {
   "cell_type": "code",
   "execution_count": 14,
   "metadata": {},
   "outputs": [
    {
     "data": {
      "text/plain": [
       "[[0, 12, 0, 12], [0, 0, 23, 0], [0, 0, 0, 0], [0, 0, 0, 0]]"
      ]
     },
     "execution_count": 14,
     "metadata": {},
     "output_type": "execute_result"
    }
   ],
   "source": [
    "G.matrix()"
   ]
  },
  {
   "cell_type": "code",
   "execution_count": null,
   "metadata": {},
   "outputs": [],
   "source": []
  }
 ],
 "metadata": {
  "kernelspec": {
   "display_name": "Python 3",
   "language": "python",
   "name": "python3"
  },
  "language_info": {
   "codemirror_mode": {
    "name": "ipython",
    "version": 3
   },
   "file_extension": ".py",
   "mimetype": "text/x-python",
   "name": "python",
   "nbconvert_exporter": "python",
   "pygments_lexer": "ipython3",
   "version": "3.7.6"
  },
  "toc": {
   "base_numbering": 1,
   "nav_menu": {},
   "number_sections": true,
   "sideBar": true,
   "skip_h1_title": false,
   "title_cell": "Table of Contents",
   "title_sidebar": "Contents",
   "toc_cell": false,
   "toc_position": {},
   "toc_section_display": true,
   "toc_window_display": false
  },
  "varInspector": {
   "cols": {
    "lenName": 16,
    "lenType": 16,
    "lenVar": 40
   },
   "kernels_config": {
    "python": {
     "delete_cmd_postfix": "",
     "delete_cmd_prefix": "del ",
     "library": "var_list.py",
     "varRefreshCmd": "print(var_dic_list())"
    },
    "r": {
     "delete_cmd_postfix": ") ",
     "delete_cmd_prefix": "rm(",
     "library": "var_list.r",
     "varRefreshCmd": "cat(var_dic_list()) "
    }
   },
   "types_to_exclude": [
    "module",
    "function",
    "builtin_function_or_method",
    "instance",
    "_Feature"
   ],
   "window_display": false
  }
 },
 "nbformat": 4,
 "nbformat_minor": 4
}
