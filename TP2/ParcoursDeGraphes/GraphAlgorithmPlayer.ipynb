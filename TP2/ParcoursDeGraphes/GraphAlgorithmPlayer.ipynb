{
 "cells": [
  {
   "cell_type": "markdown",
   "metadata": {},
   "source": [
    "# GraphAlgorithm Player demo"
   ]
  },
  {
   "cell_type": "code",
   "execution_count": null,
   "metadata": {},
   "outputs": [],
   "source": [
    "import copy\n",
    "import graph_algorithm_player\n",
    "import graph_networkx\n",
    "import graph_examples\n",
    "examples = graph_examples.Examples(graph_networkx.Graph)"
   ]
  },
  {
   "cell_type": "code",
   "execution_count": null,
   "metadata": {},
   "outputs": [],
   "source": [
    "G = examples.cours_1_G()"
   ]
  },
  {
   "cell_type": "code",
   "execution_count": null,
   "metadata": {},
   "outputs": [],
   "source": [
    "variables = [{'name':'marked', 'type':'list', 'color': 'green'},\n",
    "             {'name':'todo', 'type':'list', 'color': 'red'},\n",
    "             {'name':'v', 'type':'node', 'color': 'yellow'}]\n",
    "player = graph_algorithm_player.GraphAlgorithmPlayer(G, variables=variables)"
   ]
  },
  {
   "cell_type": "code",
   "execution_count": null,
   "metadata": {},
   "outputs": [],
   "source": [
    "def parcours(G, u):\n",
    "    \"\"\"\n",
    "    INPUT:\n",
    "    - 'G' - un graphe\n",
    "    - 'u' - un sommet du graphe\n",
    "    \n",
    "    OUTPUT: la liste des sommets `v` de `G` tel qu'il existe un chemin de `u` à `v`\n",
    "    \"\"\"\n",
    "    # Invariants:\n",
    "    #  - `marked`: l'ensemble des sommets déjà rencontrés\n",
    "    #  - `todo`: l'ensemble des sommets déjà rencontrés, mais pas encore traités\n",
    "    marked = {u}\n",
    "    todo = {u}\n",
    "\n",
    "    player.player.reset(copy.deepcopy(locals()))\n",
    "    \n",
    "    while todo:\n",
    "        v = todo.pop()\n",
    "        player.set_value(copy.deepcopy(locals()))\n",
    "        for w in G.neighbors(v):\n",
    "            if w not in marked:\n",
    "                marked.add(w)\n",
    "                todo.add(w)\n",
    "                player.set_value(copy.deepcopy(locals()))\n",
    "        v = None\n",
    "        player.set_value(copy.deepcopy(locals()))\n",
    "    return marked"
   ]
  },
  {
   "cell_type": "code",
   "execution_count": null,
   "metadata": {},
   "outputs": [],
   "source": [
    "player"
   ]
  },
  {
   "cell_type": "code",
   "execution_count": null,
   "metadata": {},
   "outputs": [],
   "source": [
    "parcours(G, 1)"
   ]
  },
  {
   "cell_type": "code",
   "execution_count": null,
   "metadata": {},
   "outputs": [],
   "source": []
  }
 ],
 "metadata": {
  "kernelspec": {
   "display_name": "Python 3",
   "language": "python",
   "name": "python3"
  },
  "language_info": {
   "codemirror_mode": {
    "name": "ipython",
    "version": 3
   },
   "file_extension": ".py",
   "mimetype": "text/x-python",
   "name": "python",
   "nbconvert_exporter": "python",
   "pygments_lexer": "ipython3",
   "version": "3.8.2"
  },
  "toc": {
   "base_numbering": 1,
   "nav_menu": {},
   "number_sections": true,
   "sideBar": true,
   "skip_h1_title": false,
   "title_cell": "Table of Contents",
   "title_sidebar": "Contents",
   "toc_cell": false,
   "toc_position": {},
   "toc_section_display": true,
   "toc_window_display": false
  },
  "varInspector": {
   "cols": {
    "lenName": 16,
    "lenType": 16,
    "lenVar": 40
   },
   "kernels_config": {
    "python": {
     "delete_cmd_postfix": "",
     "delete_cmd_prefix": "del ",
     "library": "var_list.py",
     "varRefreshCmd": "print(var_dic_list())"
    },
    "r": {
     "delete_cmd_postfix": ") ",
     "delete_cmd_prefix": "rm(",
     "library": "var_list.r",
     "varRefreshCmd": "cat(var_dic_list()) "
    }
   },
   "types_to_exclude": [
    "module",
    "function",
    "builtin_function_or_method",
    "instance",
    "_Feature"
   ],
   "window_display": false
  }
 },
 "nbformat": 4,
 "nbformat_minor": 4
}
