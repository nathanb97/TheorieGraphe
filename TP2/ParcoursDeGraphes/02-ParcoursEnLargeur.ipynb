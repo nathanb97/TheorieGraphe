{
 "cells": [
  {
   "cell_type": "markdown",
   "metadata": {
    "deletable": false,
    "editable": false,
    "nbgrader": {
     "cell_type": "markdown",
     "checksum": "33a2cd94bb9b18265ce4bfdf738aa23f",
     "grade": false,
     "grade_id": "cell-f831ac926c595e4c",
     "locked": true,
     "schema_version": 3,
     "solution": false,
     "task": false
    },
    "slideshow": {
     "slide_type": "slide"
    }
   },
   "source": [
    "## [Parcours en largeur](https://fr.wikipedia.org/wiki/Algorithme_de_parcours_en_largeur) et calcul de distance"
   ]
  },
  {
   "cell_type": "markdown",
   "metadata": {
    "deletable": false,
    "editable": false,
    "nbgrader": {
     "cell_type": "markdown",
     "checksum": "f528ae733886b67bd7f1895374a1995c",
     "grade": false,
     "grade_id": "cell-05263ea2cabe0edb",
     "locked": true,
     "schema_version": 3,
     "solution": false,
     "task": false
    },
    "slideshow": {
     "slide_type": "fragment"
    }
   },
   "source": [
    "Dans cette feuille, nous allons rafiner l'agorithme de parcours de graphe vu précédemment, pour calculer des *distances simples* entre sommets d'un graphe, ne tenant pas compte des poids des arêtes. Nous suivrons la même démarche que pour notre premier algorithme: invariants, test sur des exemples, visualisation, complexité, preuve de correction."
   ]
  },
  {
   "cell_type": "markdown",
   "metadata": {
    "deletable": false,
    "editable": false,
    "nbgrader": {
     "cell_type": "markdown",
     "checksum": "4efbb504e190d0eed1d5f3f5e4f2b133",
     "grade": false,
     "grade_id": "cell-214af97aa4f0777b",
     "locked": true,
     "schema_version": 3,
     "solution": false,
     "task": false
    }
   },
   "source": [
    "**Définition** *distance simple* dans un graphe\n",
    "\n",
    "La *distance* entre deux sommets $u$ et $v$ d'un graphe $G$ est le plus petit entier $l$ tel qu'il existe un chemin avec $l$ arêtes allant de $u$ à $v$. S'il n'y a pas de tel chemin, alors la distance est $\\infty$."
   ]
  },
  {
   "cell_type": "markdown",
   "metadata": {
    "deletable": false,
    "editable": false,
    "nbgrader": {
     "cell_type": "markdown",
     "checksum": "bfa7b695e373cb1d5d66936307ce3b26",
     "grade": false,
     "grade_id": "cell-a29ce09f98694e4c",
     "locked": true,
     "schema_version": 3,
     "solution": false,
     "task": false
    }
   },
   "source": [
    "**Exercice**"
   ]
  },
  {
   "cell_type": "markdown",
   "metadata": {
    "deletable": false,
    "editable": false,
    "nbgrader": {
     "cell_type": "markdown",
     "checksum": "e2e1d64996179ee2dabfb01ff32e2b0d",
     "grade": false,
     "grade_id": "cell-5c625fc342cbb86c",
     "locked": true,
     "schema_version": 3,
     "solution": false,
     "task": false
    },
    "slideshow": {
     "slide_type": "fragment"
    }
   },
   "source": [
    "1. Complétez la fonction suivante qui implante un parcours en largeur, en vous laissant guider par les invariants fournis"
   ]
  },
  {
   "cell_type": "code",
   "execution_count": 1,
   "metadata": {
    "deletable": false,
    "nbgrader": {
     "cell_type": "code",
     "checksum": "34edc455f1eabc739decffc527453ade",
     "grade": false,
     "grade_id": "cell-fa2ebcc093dd410e",
     "locked": false,
     "schema_version": 3,
     "solution": true,
     "task": false
    },
    "slideshow": {
     "slide_type": "fragment"
    }
   },
   "outputs": [],
   "source": [
    "def parcours_en_largeur(G, u):\n",
    "    \"\"\"\n",
    "    INPUT:\n",
    "    - 'G' - un graphe\n",
    "    - 'u' - un sommet du graphe\n",
    "    \n",
    "    OUTPUT: un dictionnaire associant à chaque sommet `v` accessible depuis `u` sa distance depuis `u`\n",
    "    \"\"\"\n",
    "    distances = {u: 0} # L'ensemble des sommets déjà rencontrés\n",
    "    todo      = [u]    # Une liste de sommets à traiter\n",
    "\n",
    "    while todo:\n",
    "                \n",
    "        v = todo.pop()\n",
    "        for w in G.neighbors_out(v):\n",
    "            if w not in distances:\n",
    "                distances[w] = distances[v] + 1\n",
    "                todo.append(w)\n",
    "\n",
    "        # Invariants:\n",
    "        # - Si `v` est dans `distance`, alors il y a un chemin de `u` à `v`,\n",
    "        #   et distance[v] contient la distance de `u` à `v`;\n",
    "        # - Si `v` est dans `distance` et pas dans `todo`\n",
    "        #   alors tous les voisins de `v` sont dans dans `distance`\n",
    "        # YOUR CODE HERE\n",
    "    return distances"
   ]
  },
  {
   "cell_type": "markdown",
   "metadata": {
    "deletable": false,
    "editable": false,
    "nbgrader": {
     "cell_type": "markdown",
     "checksum": "3612102c95e833752e01db933ea14075",
     "grade": false,
     "grade_id": "cell-5deaa43c0e1f7147",
     "locked": true,
     "schema_version": 3,
     "solution": false,
     "task": false
    }
   },
   "source": [
    "2. Testez que votre fonction est correcte sur les exemples suivants:"
   ]
  },
  {
   "cell_type": "code",
   "execution_count": 2,
   "metadata": {
    "deletable": false,
    "editable": false,
    "nbgrader": {
     "cell_type": "code",
     "checksum": "951cbf527b66f2f1e2ef4c4dc627a817",
     "grade": false,
     "grade_id": "cell-f22a5fce9c1128ba",
     "locked": true,
     "schema_version": 3,
     "solution": false,
     "task": false
    }
   },
   "outputs": [],
   "source": [
    "from graph import Graph, examples"
   ]
  },
  {
   "cell_type": "code",
   "execution_count": 4,
   "metadata": {
    "deletable": false,
    "editable": false,
    "nbgrader": {
     "cell_type": "code",
     "checksum": "7480702ba4ed85933fb8758081ab2ee1",
     "grade": false,
     "grade_id": "cell-f22a5fce9c1128bb",
     "locked": true,
     "schema_version": 3,
     "solution": false,
     "task": false
    }
   },
   "outputs": [
    {
     "data": {
      "text/plain": [
       "((0, 1, 1), (1, 2, 1), (2, 0, 1))"
      ]
     },
     "execution_count": 4,
     "metadata": {},
     "output_type": "execute_result"
    }
   ],
   "source": [
    "C3 = examples.C3()\n",
    "C3.edges()"
   ]
  },
  {
   "cell_type": "code",
   "execution_count": 5,
   "metadata": {},
   "outputs": [
    {
     "data": {
      "text/plain": [
       "{0: 0, 1: 1, 2: 2}"
      ]
     },
     "execution_count": 5,
     "metadata": {},
     "output_type": "execute_result"
    }
   ],
   "source": [
    "parcours_en_largeur(C3, 0)"
   ]
  },
  {
   "cell_type": "code",
   "execution_count": 6,
   "metadata": {
    "deletable": false,
    "editable": false,
    "nbgrader": {
     "cell_type": "code",
     "checksum": "93935616489bffbe57b12b2d7dd6a04a",
     "grade": true,
     "grade_id": "cell-e31ac5a2ec1ca694",
     "locked": true,
     "points": 1,
     "schema_version": 3,
     "solution": false,
     "task": false
    }
   },
   "outputs": [],
   "source": [
    "assert parcours_en_largeur(C3, 0) == {0: 0, 1: 1, 2: 2}"
   ]
  },
  {
   "cell_type": "code",
   "execution_count": 7,
   "metadata": {
    "deletable": false,
    "editable": false,
    "nbgrader": {
     "cell_type": "code",
     "checksum": "c67e08465d3ad8bd8bf9e16433708f63",
     "grade": false,
     "grade_id": "cell-f22a5fce9c1128bd",
     "locked": true,
     "schema_version": 3,
     "solution": false,
     "task": false
    }
   },
   "outputs": [
    {
     "data": {
      "text/plain": [
       "((0, 1, 1), (0, 2, 1), (1, 2, 1))"
      ]
     },
     "execution_count": 7,
     "metadata": {},
     "output_type": "execute_result"
    }
   ],
   "source": [
    "T3 = examples.T3()\n",
    "T3.edges()"
   ]
  },
  {
   "cell_type": "code",
   "execution_count": 8,
   "metadata": {
    "deletable": false,
    "editable": false,
    "nbgrader": {
     "cell_type": "code",
     "checksum": "b099bafd3e1b5c19579a359b2d30902c",
     "grade": true,
     "grade_id": "cell-2a1fe26cce698ead",
     "locked": true,
     "points": 1,
     "schema_version": 3,
     "solution": false,
     "task": false
    }
   },
   "outputs": [],
   "source": [
    "assert parcours_en_largeur(T3, 0) == {0: 0, 1: 1, 2: 1}"
   ]
  },
  {
   "cell_type": "code",
   "execution_count": 9,
   "metadata": {
    "deletable": false,
    "editable": false,
    "nbgrader": {
     "cell_type": "code",
     "checksum": "599bf832c16be88d6e1ac088b61f273b",
     "grade": false,
     "grade_id": "cell-f61de6336f6d75cc",
     "locked": true,
     "schema_version": 3,
     "solution": false,
     "task": false
    }
   },
   "outputs": [],
   "source": [
    "from graph import examples\n",
    "G = examples.parcours_directed()"
   ]
  },
  {
   "cell_type": "code",
   "execution_count": 10,
   "metadata": {
    "deletable": false,
    "editable": false,
    "nbgrader": {
     "cell_type": "code",
     "checksum": "8d68f3d8d7ab81f16f43042b4251b89c",
     "grade": true,
     "grade_id": "cell-8d83da87d56c871c",
     "locked": true,
     "points": 1,
     "schema_version": 3,
     "solution": false,
     "task": false
    }
   },
   "outputs": [],
   "source": [
    "assert parcours_en_largeur(G, \"H\") == {'H': 0, 'F': 1, 'G': 2}"
   ]
  },
  {
   "cell_type": "code",
   "execution_count": 11,
   "metadata": {
    "deletable": false,
    "editable": false,
    "nbgrader": {
     "cell_type": "code",
     "checksum": "201a810f58277d5efc93b9c5a73d9e27",
     "grade": true,
     "grade_id": "cell-1cefa7a59eae7cc6",
     "locked": true,
     "points": 1,
     "schema_version": 3,
     "solution": false,
     "task": false
    }
   },
   "outputs": [],
   "source": [
    "assert parcours_en_largeur(G, \"A\") == {'A': 0, 'B': 1, 'G': 1, 'F': 1, 'C': 2, 'H': 2, 'D': 3}"
   ]
  },
  {
   "cell_type": "markdown",
   "metadata": {
    "deletable": false,
    "editable": false,
    "nbgrader": {
     "cell_type": "markdown",
     "checksum": "f25e5fd56e918c90007cab6a58b30fc0",
     "grade": false,
     "grade_id": "cell-ae29bebcfa0eefba",
     "locked": true,
     "schema_version": 3,
     "solution": false,
     "task": false
    }
   },
   "source": [
    "3. Instrumentez votre code pour visualiser son exécution"
   ]
  },
  {
   "cell_type": "code",
   "execution_count": 12,
   "metadata": {},
   "outputs": [],
   "source": [
    "def parcours_visualisation(G, u):\n",
    "    \"\"\"\n",
    "    INPUT:\n",
    "    - 'G' - un graphe\n",
    "    - 'u' - un sommet du graphe\n",
    "    \n",
    "    OUTPUT: la liste des sommets `v` de `G`\n",
    "            tels qu'il existe un chemin de `u` à `v`\n",
    "    \"\"\"\n",
    "    distances = {u: 0} # L'ensemble des sommets déjà rencontrés\n",
    "    todo = [u]    # Une liste de sommets à traiter\n",
    "    player.player.reset(copy.deepcopy(locals()))\n",
    "    while todo:\n",
    "        # Invariants:\n",
    "        # - Si `v` est dans `distance`, alors il y a un chemin de `u` à `v`,\n",
    "        #   et distance[v] contient la distance de `u` à `v`;\n",
    "        # - Si `v` est dans `distance` et pas dans `todo`\n",
    "        #   alors tous les voisins de `v` sont dans dans `distance`\n",
    "        v = todo.pop()\n",
    "        # Observation des variables locales\n",
    "\n",
    "        player.set_value(copy.deepcopy(locals()))\n",
    "        for w in G.neighbors_out(v):\n",
    "            if w not in distances:\n",
    "                player.set_value(copy.deepcopy(locals()))\n",
    "                distances[w] = distances[v] + 1\n",
    "                todo.append(w)\n",
    "        v = None\n",
    "        player.set_value(copy.deepcopy(locals()))\n",
    "        \n",
    "    return distances "
   ]
  },
  {
   "cell_type": "markdown",
   "metadata": {
    "deletable": false,
    "editable": false,
    "nbgrader": {
     "cell_type": "markdown",
     "checksum": "d09fa9f7254bf21939ec5d7402f84c48",
     "grade": false,
     "grade_id": "cell-c825b936675348a7",
     "locked": true,
     "schema_version": 3,
     "solution": false,
     "task": false
    }
   },
   "source": [
    "**Exercice** Complexité\n",
    "\n",
    "Donner une borne de complexité pour l'algorithme `parcours_en_largeur`.\n",
    "\n",
    "Note: pour simplifier, nous avons utilisé une liste pour `todo`. Pour avoir une bonne complexité, il faudrait utiliser une *file* (fifo), typiquement implantée au moyen d'une liste chaînée et non un tableau comme dans les listes Python. Voir par exemple `queue.SimpleQueue`."
   ]
  },
  {
   "cell_type": "markdown",
   "metadata": {
    "deletable": false,
    "nbgrader": {
     "cell_type": "markdown",
     "checksum": "3dcb6cf3ccc5a13c71319c7471c3ddb1",
     "grade": true,
     "grade_id": "cell-1a5e4461ec87ced1",
     "locked": false,
     "points": 2,
     "schema_version": 3,
     "solution": true,
     "task": false
    }
   },
   "source": [
    "`un`=nombre de sommet u\n",
    "<br>\n",
    "`vn`=nombre d'arc \n",
    "<br>\n",
    "`G`=graphe donné en parametre\n",
    "<br>\n",
    "`SO`=sommet original est le sommet donné en argument duquel nous cherchons la liste des plus courts chemins  des sommets `v` de `G`\n",
    "            de`SO` à `v`\n",
    "<br>\n",
    "`todo`=Les sommets courants, sont les sommets auquel nous verifions tous les voisins\n",
    "<br>\n",
    "`C1`=Condition :Tant que tous les sommets ne sont pas marqués\n",
    "<br>\n",
    "Calculons $O(n)=$ complexité du pire cas\n",
    "<br>\n",
    "Tant que tous les sommets ne sont pas marqués :  dans le pire cas $O(un)$ (car un sommet est marqué au plus une fois):\n",
    "<br>\n",
    "    <li>nous supprimons le sommet courant de la liste : $O(1)$</li>\n",
    "    <li>nous parcourons tous les sommets voisins du sommet courant excepter les voisins déjà visité (+1 car dans le premier cas, dans le pire des cas nous visitons tous les voisins sans qu'aucun autre sommet ne soit marqué):  dans le pire cas $O(vn/un+1)$</li>\n",
    "    <li>Nous ajoutons la distance de tous les sommets voisins non marqué $O(1)$</li>\n",
    "    <li>Nous ajoutons tous les sommets voisins non marqué a `todo`$O(1)$</li>\n",
    "<br>\n",
    "donc nous avons pour complexité $n=un*(1*((vn/un)+1)*(1+1))$ d'ou $O(n)=vn+un$"
   ]
  },
  {
   "cell_type": "markdown",
   "metadata": {
    "deletable": false,
    "editable": false,
    "nbgrader": {
     "cell_type": "markdown",
     "checksum": "58354e9a7b406da964aa2ce63cd939c6",
     "grade": false,
     "grade_id": "cell-f3846db56cd75ff8",
     "locked": true,
     "schema_version": 3,
     "solution": false,
     "task": false
    }
   },
   "source": [
    "Bonus: chronométrez votre code sur des graphes de taille croissante afin de tracer une courbe de complexité pratique et vérifier empiriquement que votre code a la complexité voulue.\n",
    "\n",
    "**Indication**: vous pouvez par exemple utiliser les outils `time.time`, `%timit`, `timeit` ou [bleachermark](https://github.com/miguelmarco/bleachermark)."
   ]
  },
  {
   "cell_type": "markdown",
   "metadata": {
    "deletable": false,
    "editable": false,
    "nbgrader": {
     "cell_type": "markdown",
     "checksum": "39f88752120a977fa0c4a8c4130cfd72",
     "grade": false,
     "grade_id": "cell-4602f238ddb35643",
     "locked": true,
     "schema_version": 3,
     "solution": false,
     "task": false
    }
   },
   "source": [
    "**Exercice** Preuve de correction\n"
   ]
  },
  {
   "cell_type": "markdown",
   "metadata": {
    "deletable": false,
    "nbgrader": {
     "cell_type": "markdown",
     "checksum": "143b18d08bb8697c7e88bb9d7c82d330",
     "grade": true,
     "grade_id": "cell-f5da855a993a279c",
     "locked": false,
     "points": 2,
     "schema_version": 3,
     "solution": true,
     "task": false
    }
   },
   "source": [
    "YOUR ANSWER HERE"
   ]
  },
  {
   "cell_type": "markdown",
   "metadata": {},
   "source": [
    "## Conclusion\n",
    "\n",
    "Dans cette feuille, vous avez mené en toute autonomie l'implantation et l'étude d'un autre parcours de graphe pour mettre en pratique tout ce que nous avions vu dans la fiche précédente. Bravo!"
   ]
  },
  {
   "cell_type": "code",
   "execution_count": null,
   "metadata": {},
   "outputs": [],
   "source": []
  }
 ],
 "metadata": {
  "kernelspec": {
   "display_name": "Python 3",
   "language": "python",
   "name": "python3"
  },
  "language_info": {
   "codemirror_mode": {
    "name": "ipython",
    "version": 3
   },
   "file_extension": ".py",
   "mimetype": "text/x-python",
   "name": "python",
   "nbconvert_exporter": "python",
   "pygments_lexer": "ipython3",
   "version": "3.7.6"
  },
  "toc": {
   "base_numbering": 1,
   "nav_menu": {},
   "number_sections": true,
   "sideBar": true,
   "skip_h1_title": false,
   "title_cell": "Table of Contents",
   "title_sidebar": "Contents",
   "toc_cell": false,
   "toc_position": {},
   "toc_section_display": true,
   "toc_window_display": false
  },
  "varInspector": {
   "cols": {
    "lenName": 16,
    "lenType": 16,
    "lenVar": 40
   },
   "kernels_config": {
    "python": {
     "delete_cmd_postfix": "",
     "delete_cmd_prefix": "del ",
     "library": "var_list.py",
     "varRefreshCmd": "print(var_dic_list())"
    },
    "r": {
     "delete_cmd_postfix": ") ",
     "delete_cmd_prefix": "rm(",
     "library": "var_list.r",
     "varRefreshCmd": "cat(var_dic_list()) "
    }
   },
   "types_to_exclude": [
    "module",
    "function",
    "builtin_function_or_method",
    "instance",
    "_Feature"
   ],
   "window_display": false
  }
 },
 "nbformat": 4,
 "nbformat_minor": 4
}
