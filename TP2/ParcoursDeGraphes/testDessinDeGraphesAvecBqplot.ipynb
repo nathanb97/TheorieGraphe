{
 "cells": [
  {
   "cell_type": "markdown",
   "metadata": {},
   "source": [
    "# Tests de dessins de graphes avec bqplot"
   ]
  },
  {
   "cell_type": "code",
   "execution_count": null,
   "metadata": {},
   "outputs": [],
   "source": [
    "import networkx\n",
    "import numpy as np\n",
    "from bqplot import *\n",
    "import bqplot.marks\n",
    "from ipywidgets import Layout\n",
    "\n",
    "def Graph(vertices, edges):\n",
    "    G = networkx.Graph()\n",
    "    G.add_nodes_from(vertices)\n",
    "    G.add_weighted_edges_from(edges)\n",
    "    return G\n",
    "\n",
    "G = Graph(\n",
    "    vertices=list(range(10)),\n",
    "    edges = [\n",
    "      (0,1,87), (0,2,217), (0,4,173),\n",
    "      (1,5,80),\n",
    "      (2,6,186), (2,7,103),\n",
    "      (3,7,183),\n",
    "      (4,9,502),\n",
    "      (5,8,250),\n",
    "      (7,9,167),\n",
    "      (8,9,84) ])\n",
    "\n",
    "def show_graph(graph, fig=None):\n",
    "    nodes = graph.nodes()\n",
    "    edges = graph.edges()\n",
    "    node_data = [ str(i) for i in vertices ]\n",
    "    vertex_indices = { v: i for i,v in enumerate(vertices) }\n",
    "    link_data = [{'source': vertex_indices[s], \n",
    "                  'target': vertex_indices[t],\n",
    "                  #'value': l} for s,t,l in edges\n",
    "                 } for s, t in edges]\n",
    "\n",
    "    layout = networkx.spring_layout(graph)\n",
    "    xs = LinearScale()\n",
    "    ys = LinearScale()\n",
    "    x = [layout[node][0] for node in nodes]\n",
    "    y = [layout[node][1] for node in nodes]\n",
    "    \n",
    "    if fig is None:\n",
    "        fig_layout = Layout(width='600px', height='600px')\n",
    "        mark = bqplot.marks.Graph(node_data=node_data,\n",
    "                                  link_data=link_data,\n",
    "                                  link_type='line', directed=False,\n",
    "                                  scales={'x': xs, 'y': ys, }, x=x, y=y, \n",
    "                                  charge=-600,\n",
    "                                  colors=['orange'] * 7)\n",
    "        fig = bqplot.Figure(marks=[mark],\n",
    "                            layout=fig_layout)\n",
    "    else:\n",
    "        raise NotImplemented(\"coucou\")\n",
    "    return fig\n",
    "show_graph(G)"
   ]
  },
  {
   "cell_type": "code",
   "execution_count": null,
   "metadata": {},
   "outputs": [],
   "source": [
    "networkx.Graph.s"
   ]
  },
  {
   "cell_type": "code",
   "execution_count": null,
   "metadata": {},
   "outputs": [],
   "source": [
    "list(enumerate(['a','b']))"
   ]
  },
  {
   "cell_type": "code",
   "execution_count": null,
   "metadata": {},
   "outputs": [],
   "source": [
    "    graph = G\n",
    "    #node_data = list('ABCDEF')\n",
    "    link_data = [{'source':i,'target':j,'value':v} for i,j,v in graph[1]]\n",
    "    #node_data = list('ABCDEFGHIJ')\n",
    "    #node_data = list('012345678ABCDEFGHIJ')\n",
    "    node_data = [str(i) for i in graph[0]]\n",
    "    #link_data = [{'source': s, 'target': t} for s, t in np.random.randint(0, 7, (10, 2))]\n",
    "    layout = Layout(width='600px', height='600px')\n",
    "    mark = Graph(node_data=node_data,\n",
    "                  link_data=link_data,\n",
    "                  link_type='line',\n",
    "                  directed=False,\n",
    "                  charge=-600,colors=['orange'] * 7)\n",
    "    fig = Figure(marks=[mark],\n",
    "                 layout=layout)\n",
    "    fig"
   ]
  },
  {
   "cell_type": "code",
   "execution_count": null,
   "metadata": {},
   "outputs": [],
   "source": [
    "node_data"
   ]
  },
  {
   "cell_type": "code",
   "execution_count": null,
   "metadata": {},
   "outputs": [],
   "source": []
  },
  {
   "cell_type": "code",
   "execution_count": null,
   "metadata": {},
   "outputs": [],
   "source": [
    "fig_layout = Layout(width='960px', height='500px')\n",
    "node_data = list('ABCDEFG')\n",
    "link_data = [{'source': s, 'target': t} for s, t in np.random.randint(0, 7, (10, 2))]\n",
    "graph = Graph(node_data=node_data, link_data=link_data, charge=-600, colors=['orange'] * 7)\n",
    "Figure(marks=[graph], layout=fig_layout)"
   ]
  },
  {
   "cell_type": "code",
   "execution_count": null,
   "metadata": {},
   "outputs": [],
   "source": [
    "type(fig)"
   ]
  },
  {
   "cell_type": "code",
   "execution_count": null,
   "metadata": {},
   "outputs": [],
   "source": [
    "graph.link_data += [{'source': 0, 'target':8}]"
   ]
  },
  {
   "cell_type": "code",
   "execution_count": null,
   "metadata": {},
   "outputs": [],
   "source": []
  },
  {
   "cell_type": "code",
   "execution_count": null,
   "metadata": {},
   "outputs": [],
   "source": [
    "graph.y"
   ]
  },
  {
   "cell_type": "code",
   "execution_count": null,
   "metadata": {},
   "outputs": [],
   "source": [
    "type(graph.link_data)"
   ]
  },
  {
   "cell_type": "code",
   "execution_count": null,
   "metadata": {},
   "outputs": [],
   "source": [
    "graph.class_traits()"
   ]
  },
  {
   "cell_type": "code",
   "execution_count": null,
   "metadata": {},
   "outputs": [],
   "source": [
    "graph.apply_clip?"
   ]
  },
  {
   "cell_type": "code",
   "execution_count": null,
   "metadata": {},
   "outputs": [],
   "source": [
    "graph.notify_change?"
   ]
  },
  {
   "cell_type": "code",
   "execution_count": null,
   "metadata": {},
   "outputs": [],
   "source": [
    "from RushHour import RushHour"
   ]
  },
  {
   "cell_type": "code",
   "execution_count": null,
   "metadata": {},
   "outputs": [],
   "source": [
    "G = RushHour.solution(1, return_graph=True, verbeux=False)"
   ]
  },
  {
   "cell_type": "code",
   "execution_count": null,
   "metadata": {},
   "outputs": [],
   "source": [
    "len(G)"
   ]
  },
  {
   "cell_type": "code",
   "execution_count": null,
   "metadata": {},
   "outputs": [],
   "source": [
    "import numpy as np\n",
    "from bqplot import *\n",
    "from bqplot.marks import Graph\n",
    "from ipywidgets import Layout\n",
    "\n",
    "fig_layout = Layout(width='1200px', height='1200px')"
   ]
  },
  {
   "cell_type": "code",
   "execution_count": null,
   "metadata": {},
   "outputs": [],
   "source": [
    "sommets = G.keys()\n",
    "rev = {plateau:i  for i,plateau in enumerate(sommets)}"
   ]
  },
  {
   "cell_type": "code",
   "execution_count": null,
   "metadata": {},
   "outputs": [],
   "source": [
    "list(G.values())[1]"
   ]
  },
  {
   "cell_type": "code",
   "execution_count": null,
   "metadata": {},
   "outputs": [],
   "source": [
    "link_data = [{'source': rev[value[1]], 'target': rev[key], 'value': value[0]} for key,value in G.items() if value]"
   ]
  },
  {
   "cell_type": "code",
   "execution_count": null,
   "metadata": {},
   "outputs": [],
   "source": [
    "def node(plateau):\n",
    "    t = {'label': rev[plateau], 'tableau': plateau.tableau()}\n",
    "    t.update({i: plateau.tableau()[i] for i in range(6)})\n",
    "    return t"
   ]
  },
  {
   "cell_type": "code",
   "execution_count": null,
   "metadata": {},
   "outputs": [],
   "source": [
    "node_data = [node(plateau) for plateau in sommets]"
   ]
  },
  {
   "cell_type": "code",
   "execution_count": null,
   "metadata": {},
   "outputs": [],
   "source": [
    "graph = Graph(node_data=node_data, link_data=link_data,\n",
    "              link_type='line', directed=False)\n",
    "tooltip = Tooltip(fields=list(range(6))+['tableau'], show_labels=False)\n",
    "graph.tooltip = tooltip\n",
    "# Voir https://github.com/bloomberg/bqplot/blob/master/examples/Marks/Market%20Map.ipynb\n",
    "# pour comment mettre un widget comme tooltip et le mettre à jour\n",
    "Figure(marks=[graph], layout=fig_layout,interaction=PanZoom())"
   ]
  },
  {
   "cell_type": "code",
   "execution_count": null,
   "metadata": {},
   "outputs": [],
   "source": [
    "F = Figure(layout=fig_layout);F"
   ]
  },
  {
   "cell_type": "code",
   "execution_count": null,
   "metadata": {},
   "outputs": [],
   "source": [
    "F.marks"
   ]
  },
  {
   "cell_type": "code",
   "execution_count": null,
   "metadata": {},
   "outputs": [],
   "source": [
    "import bqplot"
   ]
  },
  {
   "cell_type": "code",
   "execution_count": null,
   "metadata": {},
   "outputs": [],
   "source": [
    "bqplot.marks."
   ]
  },
  {
   "cell_type": "code",
   "execution_count": null,
   "metadata": {},
   "outputs": [],
   "source": [
    "from bqplot import *\n",
    "sc_x = LinearScale(min=0,max=10)\n",
    "sc_y = LinearScale(min=0,max=10)\n",
    "\n",
    "line = Lines(x=[1,2,3], y=[3,1,2],scales={'x': sc_x, 'y': sc_y}, voiture=\"X\")\n",
    "F = Figure(marks=[line]); F"
   ]
  },
  {
   "cell_type": "code",
   "execution_count": null,
   "metadata": {},
   "outputs": [],
   "source": [
    "line.close_path = True\n",
    "line.fill = 'inside'"
   ]
  },
  {
   "cell_type": "code",
   "execution_count": null,
   "metadata": {},
   "outputs": [],
   "source": [
    "line.close"
   ]
  },
  {
   "cell_type": "code",
   "execution_count": null,
   "metadata": {},
   "outputs": [],
   "source": [
    "F.marks = [line]"
   ]
  },
  {
   "cell_type": "code",
   "execution_count": null,
   "metadata": {},
   "outputs": [],
   "source": [
    "line.colors = ['red']"
   ]
  },
  {
   "cell_type": "code",
   "execution_count": null,
   "metadata": {},
   "outputs": [],
   "source": [
    "line.voiture"
   ]
  },
  {
   "cell_type": "code",
   "execution_count": null,
   "metadata": {},
   "outputs": [],
   "source": [
    "line.fill = 'inside'"
   ]
  },
  {
   "cell_type": "code",
   "execution_count": null,
   "metadata": {},
   "outputs": [],
   "source": [
    "def f(line, event):\n",
    "    line.colors=['blue']\n",
    "line.on_click(f)"
   ]
  },
  {
   "cell_type": "code",
   "execution_count": null,
   "metadata": {},
   "outputs": [],
   "source": [
    "line.on_background_click?"
   ]
  },
  {
   "cell_type": "code",
   "execution_count": null,
   "metadata": {},
   "outputs": [],
   "source": [
    "line.on_element_click(f)"
   ]
  },
  {
   "cell_type": "code",
   "execution_count": null,
   "metadata": {},
   "outputs": [],
   "source": [
    "line.border"
   ]
  },
  {
   "cell_type": "code",
   "execution_count": null,
   "metadata": {},
   "outputs": [],
   "source": []
  }
 ],
 "metadata": {
  "kernelspec": {
   "display_name": "Python 3",
   "language": "python",
   "name": "python3"
  },
  "language_info": {
   "codemirror_mode": {
    "name": "ipython",
    "version": 3
   },
   "file_extension": ".py",
   "mimetype": "text/x-python",
   "name": "python",
   "nbconvert_exporter": "python",
   "pygments_lexer": "ipython3",
   "version": "3.8.2"
  },
  "toc": {
   "base_numbering": 1,
   "nav_menu": {},
   "number_sections": true,
   "sideBar": true,
   "skip_h1_title": false,
   "title_cell": "Table of Contents",
   "title_sidebar": "Contents",
   "toc_cell": false,
   "toc_position": {},
   "toc_section_display": true,
   "toc_window_display": false
  },
  "varInspector": {
   "cols": {
    "lenName": 16,
    "lenType": 16,
    "lenVar": 40
   },
   "kernels_config": {
    "python": {
     "delete_cmd_postfix": "",
     "delete_cmd_prefix": "del ",
     "library": "var_list.py",
     "varRefreshCmd": "print(var_dic_list())"
    },
    "r": {
     "delete_cmd_postfix": ") ",
     "delete_cmd_prefix": "rm(",
     "library": "var_list.r",
     "varRefreshCmd": "cat(var_dic_list()) "
    }
   },
   "types_to_exclude": [
    "module",
    "function",
    "builtin_function_or_method",
    "instance",
    "_Feature"
   ],
   "window_display": false
  }
 },
 "nbformat": 4,
 "nbformat_minor": 2
}
