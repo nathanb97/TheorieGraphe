{
 "cells": [
  {
   "cell_type": "markdown",
   "metadata": {
    "deletable": false,
    "editable": false,
    "nbgrader": {
     "cell_type": "markdown",
     "checksum": "3a8888c83f09ecb82c2ad8b442cfb2a0",
     "grade": false,
     "grade_id": "cell-28d494e048f3ca33",
     "locked": true,
     "schema_version": 3,
     "solution": false,
     "task": false
    }
   },
   "source": [
    "## Plus courts chemins, avec poids: l'[algorithme de Dijkstra](https://fr.wikipedia.org/wiki/Algorithme_de_Dijkstra)"
   ]
  },
  {
   "cell_type": "markdown",
   "metadata": {
    "deletable": false,
    "editable": false,
    "nbgrader": {
     "cell_type": "markdown",
     "checksum": "51fc4262268f534bfae308abcc4052b6",
     "grade": false,
     "grade_id": "cell-2418dd5b544980bf",
     "locked": true,
     "schema_version": 3,
     "solution": false,
     "task": false
    },
    "slideshow": {
     "slide_type": "slide"
    }
   },
   "source": [
    "On considère le graphe suivant qui modélise un réseau routier:\n",
    "<!-- By HB (Own work) [GFDL (http://www.gnu.org/copyleft/fdl.html) or CC BY-SA 3.0 (https://creativecommons.org/licenses/by-sa/3.0)], via Wikimedia Commons !-->\n",
    "<img src=\"DijkstraBis01.svg\">"
   ]
  },
  {
   "cell_type": "markdown",
   "metadata": {
    "deletable": false,
    "editable": false,
    "nbgrader": {
     "cell_type": "markdown",
     "checksum": "32c631358c34369d5626ccf66282b856",
     "grade": false,
     "grade_id": "cell-541e8093bec607c5",
     "locked": true,
     "schema_version": 3,
     "solution": false,
     "task": false
    }
   },
   "source": [
    "On souhaite calculer le plus court chemin entre deux sommets de ce graphe."
   ]
  },
  {
   "cell_type": "markdown",
   "metadata": {
    "deletable": false,
    "editable": false,
    "nbgrader": {
     "cell_type": "markdown",
     "checksum": "293b24a63cda615f4243f85792234eaf",
     "grade": false,
     "grade_id": "cell-e111cf0686add8e0",
     "locked": true,
     "schema_version": 3,
     "solution": false,
     "task": false
    }
   },
   "source": [
    "**Exercice**\n",
    "1. Implantez l'algorithme de Dijskstra"
   ]
  },
  {
   "cell_type": "code",
   "execution_count": 1,
   "metadata": {},
   "outputs": [
    {
     "data": {
      "text/plain": [
       "0"
      ]
     },
     "execution_count": 1,
     "metadata": {},
     "output_type": "execute_result"
    }
   ],
   "source": [
    "from graph import Graph, examples\n",
    "C3 = examples.C3()\n",
    "d = {s : float(\"inf\")  for s in C3.vertices()}\n",
    "d\n",
    "current_vertex = min(\n",
    "                C3.vertices(), key=lambda vertex: d[vertex])\n",
    "\n",
    "current_vertex"
   ]
  },
  {
   "cell_type": "code",
   "execution_count": 2,
   "metadata": {},
   "outputs": [
    {
     "data": {
      "text/plain": [
       "0"
      ]
     },
     "execution_count": 2,
     "metadata": {},
     "output_type": "execute_result"
    }
   ],
   "source": [
    "C3.vertices(),d\n",
    "key=lambda vertex: d[vertex]\n",
    "min(C3.vertices(),key=lambda vertex: d[vertex])"
   ]
  },
  {
   "cell_type": "code",
   "execution_count": 3,
   "metadata": {
    "deletable": false,
    "nbgrader": {
     "cell_type": "code",
     "checksum": "06ce5092a00467753f14dad66f47331f",
     "grade": true,
     "grade_id": "cell-b31db819a71cdffd",
     "locked": false,
     "points": 3,
     "schema_version": 3,
     "solution": true,
     "task": false
    }
   },
   "outputs": [],
   "source": [
    "def dijkstra(G, e):\n",
    "    \"\"\"\n",
    "    Renvoie un dictionnaire associant à chaque sommet sa distance depuis `e`\n",
    "    \"\"\"\n",
    "    sousgraphe=list(G.vertices())\n",
    "    d = {s : float(\"inf\")  for s in G.vertices()}\n",
    "    previous_vertices = { s: None for s in G.vertices()}\n",
    "    d[e]=0\n",
    "    while sousgraphe:\n",
    "        current_vertex = min(sousgraphe, key=lambda vertex: d[vertex])\n",
    "        if d[current_vertex] == float(\"inf\"):\n",
    "            break\n",
    "            \n",
    "        for neighbour in G.neighbors_out(current_vertex):\n",
    "            print(current_vertex,neighbour)\n",
    "            alternative_route = d[current_vertex] + G.get_edge_data(current_vertex,neighbour)['weight']\n",
    "            if alternative_route < d[neighbour]:\n",
    "                d[neighbour] = alternative_route\n",
    "                previous_vertices[neighbour] = current_vertex\n",
    "        sousgraphe.remove(current_vertex)\n",
    "        \n",
    "    return d        \n"
   ]
  },
  {
   "cell_type": "markdown",
   "metadata": {
    "deletable": false,
    "editable": false,
    "nbgrader": {
     "cell_type": "markdown",
     "checksum": "c422a2e7c328b92b667a9d3d4a7fb0e3",
     "grade": false,
     "grade_id": "cell-9052d311cb4ac13d",
     "locked": true,
     "schema_version": 3,
     "solution": false,
     "task": false
    }
   },
   "source": [
    "2. Appliquez cette fonction au graphe ci-dessus, et en déduire la distance entre `A` et `J`."
   ]
  },
  {
   "cell_type": "code",
   "execution_count": 4,
   "metadata": {
    "deletable": false,
    "editable": false,
    "nbgrader": {
     "cell_type": "code",
     "checksum": "a496651197da3c9bea017a280f0ef29e",
     "grade": false,
     "grade_id": "cell-932285cf25ec6af1",
     "locked": true,
     "schema_version": 3,
     "solution": false,
     "task": false
    }
   },
   "outputs": [
    {
     "data": {
      "application/vnd.jupyter.widget-view+json": {
       "model_id": "90f219a2f8ad464b8c716af1fa60aaf3",
       "version_major": 2,
       "version_minor": 0
      },
      "text/plain": [
       "Figure(fig_margin={'top': 60, 'bottom': 60, 'left': 60, 'right': 60}, layout=Layout(height='400px', width='400…"
      ]
     },
     "metadata": {},
     "output_type": "display_data"
    }
   ],
   "source": [
    "from graph import examples\n",
    "G = examples.dijkstra()\n",
    "G.show()"
   ]
  },
  {
   "cell_type": "code",
   "execution_count": 7,
   "metadata": {
    "deletable": false,
    "editable": false,
    "nbgrader": {
     "cell_type": "code",
     "checksum": "4ea82551939fde8022313bdea10ea6c5",
     "grade": false,
     "grade_id": "cell-f52c1bf66d323bc2",
     "locked": true,
     "schema_version": 3,
     "solution": false,
     "task": false
    }
   },
   "outputs": [
    {
     "name": "stdout",
     "output_type": "stream",
     "text": [
      "A B\n",
      "A C\n",
      "A E\n",
      "B A\n",
      "B F\n",
      "F B\n",
      "F I\n",
      "E A\n",
      "E J\n",
      "C A\n",
      "C G\n",
      "C H\n",
      "H C\n",
      "H D\n",
      "H J\n",
      "G C\n",
      "I F\n",
      "I J\n",
      "J E\n",
      "J H\n",
      "J I\n",
      "D H\n"
     ]
    },
    {
     "data": {
      "text/plain": [
       "{'A': 0,\n",
       " 'B': 87,\n",
       " 'C': 217,\n",
       " 'D': 503,\n",
       " 'E': 173,\n",
       " 'F': 167,\n",
       " 'G': 403,\n",
       " 'H': 320,\n",
       " 'I': 417,\n",
       " 'J': 487}"
      ]
     },
     "execution_count": 7,
     "metadata": {},
     "output_type": "execute_result"
    }
   ],
   "source": [
    "dijkstra(G, \"A\")"
   ]
  },
  {
   "cell_type": "code",
   "execution_count": 8,
   "metadata": {
    "deletable": false,
    "editable": false,
    "nbgrader": {
     "cell_type": "code",
     "checksum": "7f6862c11f72b32b8aee2c234bf141dc",
     "grade": true,
     "grade_id": "cell-0d543769776d9f6a",
     "locked": true,
     "points": 1,
     "schema_version": 3,
     "solution": false,
     "task": false
    }
   },
   "outputs": [
    {
     "name": "stdout",
     "output_type": "stream",
     "text": [
      "A B\n",
      "A C\n",
      "A E\n",
      "B A\n",
      "B F\n",
      "F B\n",
      "F I\n",
      "E A\n",
      "E J\n",
      "C A\n",
      "C G\n",
      "C H\n",
      "H C\n",
      "H D\n",
      "H J\n",
      "G C\n",
      "I F\n",
      "I J\n",
      "J E\n",
      "J H\n",
      "J I\n",
      "D H\n"
     ]
    }
   ],
   "source": [
    "assert dijkstra(G, \"A\")[\"A\"] == 0"
   ]
  },
  {
   "cell_type": "markdown",
   "metadata": {
    "deletable": false,
    "editable": false,
    "nbgrader": {
     "cell_type": "markdown",
     "checksum": "ec47e6b4c737c953b6dd29b52a656d49",
     "grade": false,
     "grade_id": "cell-73fa8b07519bc08b",
     "locked": true,
     "schema_version": 3,
     "solution": false,
     "task": false
    }
   },
   "source": [
    "3. (Bonus) Adapter la fonction précédente pour qu'elle prenne deux sommets `e` et `f` et renvoie un plus court chemin entre `e` et `f`."
   ]
  },
  {
   "cell_type": "code",
   "execution_count": 22,
   "metadata": {},
   "outputs": [],
   "source": [
    "from collections import deque\n",
    "def dijkstra_bonus(G, e,dest):\n",
    "    \"\"\"\n",
    "    Renvoie un dictionnaire associant à chaque sommet sa distance depuis `e`\n",
    "    \"\"\"\n",
    "    sousgraphe=list(G.vertices())\n",
    "    d = {s : float(\"inf\")  for s in G.vertices()}\n",
    "    previous_vertices = { s: None for s in G.vertices()}\n",
    "    d[e]=0\n",
    "    while sousgraphe:\n",
    "        current_vertex = min(sousgraphe, key=lambda vertex: d[vertex])\n",
    "        if d[current_vertex] == float(\"inf\"):\n",
    "            break\n",
    "            \n",
    "        for neighbour in G.neighbors_out(current_vertex):\n",
    "            alternative_route = d[current_vertex] + G.get_edge_data(current_vertex,neighbour)['weight']\n",
    "            if alternative_route < d[neighbour]:\n",
    "                d[neighbour] = alternative_route\n",
    "                previous_vertices[neighbour] = current_vertex\n",
    "        sousgraphe.remove(current_vertex)\n",
    "    current_vertex=dest\n",
    "    path=deque()\n",
    "    while previous_vertices[current_vertex] is not None:\n",
    "            path.appendleft(current_vertex)\n",
    "            current_vertex = previous_vertices[current_vertex]\n",
    "    if path:\n",
    "        path.appendleft(current_vertex)\n",
    "    return path,d[path[-1]]\n",
    "\n"
   ]
  },
  {
   "cell_type": "markdown",
   "metadata": {
    "deletable": false,
    "editable": false,
    "nbgrader": {
     "cell_type": "markdown",
     "checksum": "6378da0514a1e3a4a7fd6ef6ac7b079a",
     "grade": false,
     "grade_id": "cell-bc2add573b4d29c0",
     "locked": true,
     "schema_version": 3,
     "solution": false,
     "task": false
    }
   },
   "source": [
    "4. (Bonus) Instrumentez votre fonction pour en visualiser l'exécution."
   ]
  },
  {
   "cell_type": "code",
   "execution_count": 23,
   "metadata": {
    "deletable": false,
    "nbgrader": {
     "cell_type": "code",
     "checksum": "2ead436d6a067a26439ac3ad4025ed14",
     "grade": true,
     "grade_id": "cell-06c0e69a490a9644",
     "locked": false,
     "points": 1,
     "schema_version": 3,
     "solution": true,
     "task": false
    }
   },
   "outputs": [],
   "source": [
    "from collections import deque\n",
    "def dijkstra_bonus_visu(G, e,dest):\n",
    "    \"\"\"\n",
    "    Renvoie un dictionnaire associant à chaque sommet sa distance depuis `e`\n",
    "    \"\"\"\n",
    "    sousgraphe=list(G.vertices())\n",
    "    d = {s : float(\"inf\")  for s in G.vertices()}\n",
    "    previous_vertices = { s: None for s in G.vertices()}\n",
    "    d[e]=0\n",
    "    while sousgraphe:\n",
    "        current_vertex = min(sousgraphe, key=lambda vertex: d[vertex])\n",
    "        if d[current_vertex] == float(\"inf\"):\n",
    "            break\n",
    "            \n",
    "        for neighbour in G.neighbors_out(current_vertex):\n",
    "            alternative_route = d[current_vertex] + G.get_edge_data(current_vertex,neighbour)['weight']\n",
    "            if alternative_route < d[neighbour]:\n",
    "                d[neighbour] = alternative_route\n",
    "                previous_vertices[neighbour] = current_vertex\n",
    "        sousgraphe.remove(current_vertex)\n",
    "    current_vertex=dest\n",
    "    path=deque()\n",
    "    while previous_vertices[current_vertex] is not None:\n",
    "            print(current_vertex)\n",
    "            path.appendleft(current_vertex)\n",
    "            current_vertex = previous_vertices[current_vertex]\n",
    "    if path:\n",
    "        path.appendleft(current_vertex)\n",
    "    return path,d[path[-1]]\n",
    "\n"
   ]
  },
  {
   "cell_type": "markdown",
   "metadata": {
    "deletable": false,
    "editable": false,
    "nbgrader": {
     "cell_type": "markdown",
     "checksum": "9b1cc43e5d082da25119c17fe85040a0",
     "grade": false,
     "grade_id": "cell-712564125b629eea",
     "locked": true,
     "schema_version": 3,
     "solution": false,
     "task": false
    }
   },
   "source": [
    "## Problème 1: Le chemin le plus rapide en métro de Montgallet à Billancourt ?\n",
    "<center><img src=\"metro-paris.gif\" width=\"50%\"></center>\n",
    "\n",
    "1. Le fichier [metro_complet.txt](metro_complet.txt) contient la description d'un graphe modélisant le métro de Paris. Consultez son contenu pour en comprendre le format.\n",
    "2. Écrire une fonction qui lit le fichier et renvoie le graphe qu'il contient sous la forme d'un objet de type `Graph`.\n",
    "3. Utilisez la fonction `dijkstra` pour calculer un plus court chemin de Montgallet à Billancourt!"
   ]
  },
  {
   "cell_type": "code",
   "execution_count": 24,
   "metadata": {
    "deletable": false,
    "nbgrader": {
     "cell_type": "code",
     "checksum": "67681a29d729e5521a3183a30edc1fe5",
     "grade": true,
     "grade_id": "cell-7e01ead24612c65d",
     "locked": false,
     "points": 3,
     "schema_version": 3,
     "solution": true,
     "task": false
    }
   },
   "outputs": [
    {
     "name": "stderr",
     "output_type": "stream",
     "text": [
      "b'Skipping line 4: expected 2 fields, saw 3\\nSkipping line 5: expected 2 fields, saw 3\\nSkipping line 7: expected 2 fields, saw 3\\nSkipping line 10: expected 2 fields, saw 4\\nSkipping line 11: expected 2 fields, saw 4\\nSkipping line 12: expected 2 fields, saw 3\\nSkipping line 13: expected 2 fields, saw 4\\nSkipping line 14: expected 2 fields, saw 4\\nSkipping line 16: expected 2 fields, saw 3\\nSkipping line 17: expected 2 fields, saw 3\\nSkipping line 18: expected 2 fields, saw 4\\nSkipping line 22: expected 2 fields, saw 3\\nSkipping line 27: expected 2 fields, saw 4\\nSkipping line 31: expected 2 fields, saw 4\\nSkipping line 32: expected 2 fields, saw 4\\nSkipping line 35: expected 2 fields, saw 3\\nSkipping line 36: expected 2 fields, saw 3\\nSkipping line 39: expected 2 fields, saw 4\\nSkipping line 40: expected 2 fields, saw 10\\nSkipping line 44: expected 2 fields, saw 3\\nSkipping line 50: expected 2 fields, saw 3\\nSkipping line 51: expected 2 fields, saw 3\\nSkipping line 52: expected 2 fields, saw 3\\nSkipping line 53: expected 2 fields, saw 4\\nSkipping line 54: expected 2 fields, saw 4\\nSkipping line 55: expected 2 fields, saw 3\\nSkipping line 57: expected 2 fields, saw 3\\nSkipping line 58: expected 2 fields, saw 5\\nSkipping line 59: expected 2 fields, saw 5\\nSkipping line 60: expected 2 fields, saw 5\\nSkipping line 62: expected 2 fields, saw 5\\nSkipping line 63: expected 2 fields, saw 5\\nSkipping line 64: expected 2 fields, saw 3\\nSkipping line 66: expected 2 fields, saw 3\\nSkipping line 67: expected 2 fields, saw 3\\nSkipping line 68: expected 2 fields, saw 3\\nSkipping line 69: expected 2 fields, saw 4\\nSkipping line 77: expected 2 fields, saw 4\\nSkipping line 78: expected 2 fields, saw 3\\nSkipping line 84: expected 2 fields, saw 3\\nSkipping line 87: expected 2 fields, saw 3\\nSkipping line 91: expected 2 fields, saw 4\\nSkipping line 94: expected 2 fields, saw 5\\nSkipping line 98: expected 2 fields, saw 3\\nSkipping line 99: expected 2 fields, saw 3\\nSkipping line 104: expected 2 fields, saw 3\\nSkipping line 105: expected 2 fields, saw 5\\nSkipping line 110: expected 2 fields, saw 4\\nSkipping line 111: expected 2 fields, saw 3\\nSkipping line 112: expected 2 fields, saw 4\\nSkipping line 113: expected 2 fields, saw 4\\nSkipping line 114: expected 2 fields, saw 3\\nSkipping line 115: expected 2 fields, saw 4\\nSkipping line 120: expected 2 fields, saw 3\\nSkipping line 121: expected 2 fields, saw 3\\nSkipping line 122: expected 2 fields, saw 4\\nSkipping line 123: expected 2 fields, saw 4\\nSkipping line 124: expected 2 fields, saw 4\\nSkipping line 125: expected 2 fields, saw 4\\nSkipping line 126: expected 2 fields, saw 4\\nSkipping line 127: expected 2 fields, saw 4\\nSkipping line 128: expected 2 fields, saw 4\\nSkipping line 130: expected 2 fields, saw 3\\nSkipping line 133: expected 2 fields, saw 6\\nSkipping line 134: expected 2 fields, saw 3\\nSkipping line 135: expected 2 fields, saw 3\\nSkipping line 136: expected 2 fields, saw 3\\nSkipping line 138: expected 2 fields, saw 4\\nSkipping line 139: expected 2 fields, saw 4\\nSkipping line 143: expected 2 fields, saw 3\\nSkipping line 150: expected 2 fields, saw 3\\nSkipping line 154: expected 2 fields, saw 3\\nSkipping line 155: expected 2 fields, saw 6\\nSkipping line 156: expected 2 fields, saw 3\\nSkipping line 157: expected 2 fields, saw 5\\nSkipping line 158: expected 2 fields, saw 5\\nSkipping line 159: expected 2 fields, saw 5\\nSkipping line 160: expected 2 fields, saw 3\\nSkipping line 161: expected 2 fields, saw 3\\nSkipping line 162: expected 2 fields, saw 3\\nSkipping line 164: expected 2 fields, saw 3\\nSkipping line 165: expected 2 fields, saw 3\\nSkipping line 166: expected 2 fields, saw 3\\nSkipping line 167: expected 2 fields, saw 3\\nSkipping line 168: expected 2 fields, saw 3\\nSkipping line 169: expected 2 fields, saw 3\\nSkipping line 172: expected 2 fields, saw 3\\nSkipping line 173: expected 2 fields, saw 3\\nSkipping line 174: expected 2 fields, saw 3\\nSkipping line 176: expected 2 fields, saw 3\\nSkipping line 181: expected 2 fields, saw 3\\nSkipping line 182: expected 2 fields, saw 3\\nSkipping line 183: expected 2 fields, saw 4\\nSkipping line 184: expected 2 fields, saw 4\\nSkipping line 185: expected 2 fields, saw 4\\nSkipping line 186: expected 2 fields, saw 4\\nSkipping line 187: expected 2 fields, saw 3\\nSkipping line 188: expected 2 fields, saw 4\\nSkipping line 189: expected 2 fields, saw 3\\nSkipping line 190: expected 2 fields, saw 4\\nSkipping line 191: expected 2 fields, saw 4\\nSkipping line 194: expected 2 fields, saw 3\\nSkipping line 195: expected 2 fields, saw 3\\nSkipping line 196: expected 2 fields, saw 3\\nSkipping line 197: expected 2 fields, saw 3\\nSkipping line 198: expected 2 fields, saw 3\\nSkipping line 199: expected 2 fields, saw 4\\nSkipping line 200: expected 2 fields, saw 4\\nSkipping line 201: expected 2 fields, saw 4\\nSkipping line 202: expected 2 fields, saw 4\\nSkipping line 203: expected 2 fields, saw 3\\nSkipping line 209: expected 2 fields, saw 3\\nSkipping line 210: expected 2 fields, saw 3\\nSkipping line 211: expected 2 fields, saw 3\\nSkipping line 212: expected 2 fields, saw 3\\nSkipping line 220: expected 2 fields, saw 5\\nSkipping line 230: expected 2 fields, saw 6\\nSkipping line 231: expected 2 fields, saw 6\\nSkipping line 240: expected 2 fields, saw 3\\nSkipping line 243: expected 2 fields, saw 3\\nSkipping line 244: expected 2 fields, saw 3\\nSkipping line 245: expected 2 fields, saw 3\\nSkipping line 246: expected 2 fields, saw 3\\nSkipping line 247: expected 2 fields, saw 3\\nSkipping line 248: expected 2 fields, saw 4\\nSkipping line 249: expected 2 fields, saw 4\\nSkipping line 250: expected 2 fields, saw 4\\nSkipping line 251: expected 2 fields, saw 4\\nSkipping line 254: expected 2 fields, saw 5\\nSkipping line 255: expected 2 fields, saw 4\\nSkipping line 256: expected 2 fields, saw 4\\nSkipping line 259: expected 2 fields, saw 3\\nSkipping line 260: expected 2 fields, saw 3\\nSkipping line 261: expected 2 fields, saw 3\\nSkipping line 262: expected 2 fields, saw 3\\nSkipping line 263: expected 2 fields, saw 3\\nSkipping line 264: expected 2 fields, saw 3\\nSkipping line 265: expected 2 fields, saw 3\\nSkipping line 266: expected 2 fields, saw 4\\nSkipping line 267: expected 2 fields, saw 4\\nSkipping line 268: expected 2 fields, saw 4\\nSkipping line 269: expected 2 fields, saw 4\\nSkipping line 270: expected 2 fields, saw 4\\nSkipping line 271: expected 2 fields, saw 4\\nSkipping line 272: expected 2 fields, saw 4\\nSkipping line 273: expected 2 fields, saw 4\\nSkipping line 274: expected 2 fields, saw 4\\nSkipping line 275: expected 2 fields, saw 4\\nSkipping line 276: expected 2 fields, saw 4\\nSkipping line 277: expected 2 fields, saw 4\\nSkipping line 278: expected 2 fields, saw 4\\nSkipping line 279: expected 2 fields, saw 5\\nSkipping line 280: expected 2 fields, saw 5\\nSkipping line 281: expected 2 fields, saw 4\\nSkipping line 282: expected 2 fields, saw 4\\nSkipping line 287: expected 2 fields, saw 3\\nSkipping line 288: expected 2 fields, saw 3\\nSkipping line 290: expected 2 fields, saw 5\\nSkipping line 291: expected 2 fields, saw 5\\nSkipping line 292: expected 2 fields, saw 3\\nSkipping line 298: expected 2 fields, saw 3\\nSkipping line 299: expected 2 fields, saw 3\\nSkipping line 300: expected 2 fields, saw 3\\nSkipping line 301: expected 2 fields, saw 3\\nSkipping line 302: expected 2 fields, saw 3\\nSkipping line 306: expected 2 fields, saw 5\\nSkipping line 307: expected 2 fields, saw 5\\nSkipping line 308: expected 2 fields, saw 3\\nSkipping line 309: expected 2 fields, saw 5\\nSkipping line 310: expected 2 fields, saw 4\\nSkipping line 311: expected 2 fields, saw 4\\nSkipping line 312: expected 2 fields, saw 3\\nSkipping line 313: expected 2 fields, saw 3\\nSkipping line 321: expected 2 fields, saw 4\\nSkipping line 324: expected 2 fields, saw 3\\nSkipping line 331: expected 2 fields, saw 3\\nSkipping line 334: expected 2 fields, saw 4\\nSkipping line 335: expected 2 fields, saw 4\\nSkipping line 345: expected 2 fields, saw 3\\nSkipping line 346: expected 2 fields, saw 3\\nSkipping line 347: expected 2 fields, saw 3\\nSkipping line 348: expected 2 fields, saw 3\\nSkipping line 349: expected 2 fields, saw 3\\nSkipping line 350: expected 2 fields, saw 3\\nSkipping line 351: expected 2 fields, saw 3\\nSkipping line 356: expected 2 fields, saw 4\\nSkipping line 365: expected 2 fields, saw 3\\nSkipping line 366: expected 2 fields, saw 4\\nSkipping line 367: expected 2 fields, saw 4\\nSkipping line 368: expected 2 fields, saw 5\\nSkipping line 374: expected 2 fields, saw 3\\nSkipping line 375: expected 2 fields, saw 5\\nSkipping line 376: expected 2 fields, saw 3\\nSkipping line 377: expected 2 fields, saw 4\\nSkipping line 378: expected 2 fields, saw 3\\nSkipping line 380: expected 2 fields, saw 3\\nSkipping line 381: expected 2 fields, saw 3\\nSkipping line 382: expected 2 fields, saw 3\\nSkipping line 383: expected 2 fields, saw 3\\nSkipping line 384: expected 2 fields, saw 3\\nSkipping line 385: expected 2 fields, saw 3\\nSkipping line 386: expected 2 fields, saw 3\\nSkipping line 387: expected 2 fields, saw 3\\nSkipping line 388: expected 2 fields, saw 3\\nSkipping line 389: expected 2 fields, saw 3\\nSkipping line 390: expected 2 fields, saw 3\\nSkipping line 391: expected 2 fields, saw 3\\nSkipping line 392: expected 2 fields, saw 3\\nSkipping line 393: expected 2 fields, saw 3\\nSkipping line 394: expected 2 fields, saw 3\\nSkipping line 395: expected 2 fields, saw 3\\nSkipping line 396: expected 2 fields, saw 3\\nSkipping line 397: expected 2 fields, saw 3\\nSkipping line 398: expected 2 fields, saw 3\\nSkipping line 399: expected 2 fields, saw 3\\nSkipping line 400: expected 2 fields, saw 3\\nSkipping line 401: expected 2 fields, saw 3\\nSkipping line 402: expected 2 fields, saw 3\\nSkipping line 403: expected 2 fields, saw 3\\nSkipping line 404: expected 2 fields, saw 3\\nSkipping line 405: expected 2 fields, saw 3\\nSkipping line 406: expected 2 fields, saw 3\\nSkipping line 407: expected 2 fields, saw 3\\nSkipping line 408: expected 2 fields, saw 3\\nSkipping line 409: expected 2 fields, saw 3\\nSkipping line 410: expected 2 fields, saw 3\\nSkipping line 411: expected 2 fields, saw 3\\nSkipping line 412: expected 2 fields, saw 3\\nSkipping line 413: expected 2 fields, saw 3\\nSkipping line 414: expected 2 fields, saw 3\\nSkipping line 415: expected 2 fields, saw 3\\nSkipping line 416: expected 2 fields, saw 3\\nSkipping line 417: expected 2 fields, saw 3\\nSkipping line 418: expected 2 fields, saw 3\\nSkipping line 419: expected 2 fields, saw 3\\nSkipping line 420: expected 2 fields, saw 3\\nSkipping line 421: expected 2 fields, saw 3\\nSkipping line 422: expected 2 fields, saw 3\\nSkipping line 423: expected 2 fields, saw 3\\nSkipping line 424: expected 2 fields, saw 3\\nSkipping line 425: expected 2 fields, saw 3\\nSkipping line 426: expected 2 fields, saw 3\\nSkipping line 427: expected 2 fields, saw 3\\nSkipping line 428: expected 2 fields, saw 3\\nSkipping line 429: expected 2 fields, saw 3\\nSkipping line 430: expected 2 fields, saw 3\\nSkipping line 431: expected 2 fields, saw 3\\nSkipping line 432: expected 2 fields, saw 3\\nSkipping line 433: expected 2 fields, saw 3\\nSkipping line 434: expected 2 fields, saw 3\\nSkipping line 435: expected 2 fields, saw 3\\nSkipping line 436: expected 2 fields, saw 3\\nSkipping line 437: expected 2 fields, saw 3\\nSkipping line 438: expected 2 fields, saw 3\\nSkipping line 439: expected 2 fields, saw 3\\nSkipping line 440: expected 2 fields, saw 3\\nSkipping line 441: expected 2 fields, saw 3\\nSkipping line 442: expected 2 fields, saw 3\\nSkipping line 443: expected 2 fields, saw 3\\nSkipping line 444: expected 2 fields, saw 3\\nSkipping line 445: expected 2 fields, saw 3\\nSkipping line 446: expected 2 fields, saw 3\\nSkipping line 447: expected 2 fields, saw 3\\nSkipping line 448: expected 2 fields, saw 3\\nSkipping line 449: expected 2 fields, saw 3\\nSkipping line 450: expected 2 fields, saw 3\\nSkipping line 451: expected 2 fields, saw 3\\nSkipping line 452: expected 2 fields, saw 3\\nSkipping line 453: expected 2 fields, saw 3\\nSkipping line 454: expected 2 fields, saw 3\\nSkipping line 455: expected 2 fields, saw 3\\nSkipping line 456: expected 2 fields, saw 3\\nSkipping line 457: expected 2 fields, saw 3\\nSkipping line 458: expected 2 fields, saw 3\\nSkipping line 459: expected 2 fields, saw 3\\nSkipping line 460: expected 2 fields, saw 3\\nSkipping line 461: expected 2 fields, saw 3\\nSkipping line 462: expected 2 fields, saw 3\\nSkipping line 463: expected 2 fields, saw 3\\nSkipping line 464: expected 2 fields, saw 3\\nSkipping line 465: expected 2 fields, saw 3\\nSkipping line 466: expected 2 fields, saw 3\\nSkipping line 467: expected 2 fields, saw 3\\nSkipping line 468: expected 2 fields, saw 3\\nSkipping line 469: expected 2 fields, saw 3\\nSkipping line 470: expected 2 fields, saw 3\\nSkipping line 471: expected 2 fields, saw 3\\nSkipping line 472: expected 2 fields, saw 3\\nSkipping line 473: expected 2 fields, saw 3\\nSkipping line 474: expected 2 fields, saw 3\\nSkipping line 475: expected 2 fields, saw 3\\nSkipping line 476: expected 2 fields, saw 3\\nSkipping line 477: expected 2 fields, saw 3\\nSkipping line 478: expected 2 fields, saw 3\\nSkipping line 479: expected 2 fields, saw 3\\nSkipping line 480: expected 2 fields, saw 3\\nSkipping line 481: expected 2 fields, saw 3\\nSkipping line 482: expected 2 fields, saw 3\\nSkipping line 483: expected 2 fields, saw 3\\nSkipping line 484: expected 2 fields, saw 3\\nSkipping line 485: expected 2 fields, saw 3\\nSkipping line 486: expected 2 fields, saw 3\\nSkipping line 487: expected 2 fields, saw 3\\nSkipping line 488: expected 2 fields, saw 3\\nSkipping line 489: expected 2 fields, saw 3\\nSkipping line 490: expected 2 fields, saw 3\\nSkipping line 491: expected 2 fields, saw 3\\nSkipping line 492: expected 2 fields, saw 3\\nSkipping line 493: expected 2 fields, saw 3\\nSkipping line 494: expected 2 fields, saw 3\\nSkipping line 495: expected 2 fields, saw 3\\nSkipping line 496: expected 2 fields, saw 3\\nSkipping line 497: expected 2 fields, saw 3\\nSkipping line 498: expected 2 fields, saw 3\\nSkipping line 499: expected 2 fields, saw 3\\nSkipping line 500: expected 2 fields, saw 3\\nSkipping line 501: expected 2 fields, saw 3\\nSkipping line 502: expected 2 fields, saw 3\\nSkipping line 503: expected 2 fields, saw 3\\nSkipping line 504: expected 2 fields, saw 3\\nSkipping line 505: expected 2 fields, saw 3\\nSkipping line 506: expected 2 fields, saw 3\\nSkipping line 507: expected 2 fields, saw 3\\nSkipping line 508: expected 2 fields, saw 3\\nSkipping line 509: expected 2 fields, saw 3\\nSkipping line 510: expected 2 fields, saw 3\\nSkipping line 511: expected 2 fields, saw 3\\nSkipping line 512: expected 2 fields, saw 3\\nSkipping line 513: expected 2 fields, saw 3\\nSkipping line 514: expected 2 fields, saw 3\\nSkipping line 515: expected 2 fields, saw 3\\nSkipping line 516: expected 2 fields, saw 3\\nSkipping line 517: expected 2 fields, saw 3\\nSkipping line 518: expected 2 fields, saw 3\\nSkipping line 519: expected 2 fields, saw 3\\nSkipping line 520: expected 2 fields, saw 3\\nSkipping line 521: expected 2 fields, saw 3\\nSkipping line 522: expected 2 fields, saw 3\\nSkipping line 523: expected 2 fields, saw 3\\nSkipping line 524: expected 2 fields, saw 3\\nSkipping line 525: expected 2 fields, saw 3\\nSkipping line 526: expected 2 fields, saw 3\\nSkipping line 527: expected 2 fields, saw 3\\nSkipping line 528: expected 2 fields, saw 3\\nSkipping line 529: expected 2 fields, saw 3\\nSkipping line 530: expected 2 fields, saw 3\\nSkipping line 531: expected 2 fields, saw 3\\nSkipping line 532: expected 2 fields, saw 3\\nSkipping line 533: expected 2 fields, saw 3\\nSkipping line 534: expected 2 fields, saw 3\\nSkipping line 535: expected 2 fields, saw 3\\nSkipping line 536: expected 2 fields, saw 3\\nSkipping line 537: expected 2 fields, saw 3\\nSkipping line 538: expected 2 fields, saw 3\\nSkipping line 539: expected 2 fields, saw 3\\nSkipping line 540: expected 2 fields, saw 3\\nSkipping line 541: expected 2 fields, saw 3\\nSkipping line 542: expected 2 fields, saw 3\\nSkipping line 543: expected 2 fields, saw 3\\nSkipping line 544: expected 2 fields, saw 3\\nSkipping line 545: expected 2 fields, saw 3\\nSkipping line 546: expected 2 fields, saw 3\\nSkipping line 547: expected 2 fields, saw 3\\nSkipping line 548: expected 2 fields, saw 3\\nSkipping line 549: expected 2 fields, saw 3\\nSkipping line 550: expected 2 fields, saw 3\\nSkipping line 551: expected 2 fields, saw 3\\nSkipping line 552: expected 2 fields, saw 3\\nSkipping line 553: expected 2 fields, saw 3\\nSkipping line 554: expected 2 fields, saw 3\\nSkipping line 555: expected 2 fields, saw 3\\nSkipping line 556: expected 2 fields, saw 3\\nSkipping line 557: expected 2 fields, saw 3\\nSkipping line 558: expected 2 fields, saw 3\\nSkipping line 559: expected 2 fields, saw 3\\nSkipping line 560: expected 2 fields, saw 3\\nSkipping line 561: expected 2 fields, saw 3\\nSkipping line 562: expected 2 fields, saw 3\\nSkipping line 563: expected 2 fields, saw 3\\nSkipping line 564: expected 2 fields, saw 3\\nSkipping line 565: expected 2 fields, saw 3\\nSkipping line 566: expected 2 fields, saw 3\\nSkipping line 567: expected 2 fields, saw 3\\nSkipping line 568: expected 2 fields, saw 3\\nSkipping line 569: expected 2 fields, saw 3\\nSkipping line 570: expected 2 fields, saw 3\\nSkipping line 571: expected 2 fields, saw 3\\nSkipping line 572: expected 2 fields, saw 3\\nSkipping line 573: expected 2 fields, saw 3\\nSkipping line 574: expected 2 fields, saw 3\\nSkipping line 575: expected 2 fields, saw 3\\nSkipping line 576: expected 2 fields, saw 3\\nSkipping line 577: expected 2 fields, saw 3\\nSkipping line 578: expected 2 fields, saw 3\\nSkipping line 579: expected 2 fields, saw 3\\nSkipping line 580: expected 2 fields, saw 3\\nSkipping line 581: expected 2 fields, saw 3\\nSkipping line 582: expected 2 fields, saw 3\\nSkipping line 583: expected 2 fields, saw 3\\nSkipping line 584: expected 2 fields, saw 3\\nSkipping line 585: expected 2 fields, saw 3\\nSkipping line 586: expected 2 fields, saw 3\\nSkipping line 587: expected 2 fields, saw 3\\nSkipping line 588: expected 2 fields, saw 3\\nSkipping line 589: expected 2 fields, saw 3\\nSkipping line 590: expected 2 fields, saw 3\\nSkipping line 591: expected 2 fields, saw 3\\nSkipping line 592: expected 2 fields, saw 3\\nSkipping line 593: expected 2 fields, saw 3\\nSkipping line 594: expected 2 fields, saw 3\\nSkipping line 595: expected 2 fields, saw 3\\nSkipping line 596: expected 2 fields, saw 3\\nSkipping line 597: expected 2 fields, saw 3\\nSkipping line 598: expected 2 fields, saw 3\\nSkipping line 599: expected 2 fields, saw 3\\nSkipping line 600: expected 2 fields, saw 3\\nSkipping line 601: expected 2 fields, saw 3\\nSkipping line 602: expected 2 fields, saw 3\\nSkipping line 603: expected 2 fields, saw 3\\nSkipping line 604: expected 2 fields, saw 3\\nSkipping line 605: expected 2 fields, saw 3\\nSkipping line 606: expected 2 fields, saw 3\\nSkipping line 607: expected 2 fields, saw 3\\nSkipping line 608: expected 2 fields, saw 3\\nSkipping line 609: expected 2 fields, saw 3\\nSkipping line 610: expected 2 fields, saw 3\\nSkipping line 611: expected 2 fields, saw 3\\nSkipping line 612: expected 2 fields, saw 3\\nSkipping line 613: expected 2 fields, saw 3\\nSkipping line 614: expected 2 fields, saw 3\\nSkipping line 615: expected 2 fields, saw 3\\nSkipping line 616: expected 2 fields, saw 3\\nSkipping line 617: expected 2 fields, saw 3\\nSkipping line 618: expected 2 fields, saw 3\\nSkipping line 619: expected 2 fields, saw 3\\nSkipping line 620: expected 2 fields, saw 3\\nSkipping line 621: expected 2 fields, saw 3\\nSkipping line 622: expected 2 fields, saw 3\\nSkipping line 623: expected 2 fields, saw 3\\nSkipping line 624: expected 2 fields, saw 3\\nSkipping line 625: expected 2 fields, saw 3\\nSkipping line 626: expected 2 fields, saw 3\\nSkipping line 627: expected 2 fields, saw 3\\nSkipping line 628: expected 2 fields, saw 3\\nSkipping line 629: expected 2 fields, saw 3\\nSkipping line 630: expected 2 fields, saw 3\\nSkipping line 631: expected 2 fields, saw 3\\nSkipping line 632: expected 2 fields, saw 3\\nSkipping line 633: expected 2 fields, saw 3\\nSkipping line 634: expected 2 fields, saw 3\\nSkipping line 635: expected 2 fields, saw 3\\nSkipping line 636: expected 2 fields, saw 3\\nSkipping line 637: expected 2 fields, saw 3\\nSkipping line 638: expected 2 fields, saw 3\\nSkipping line 639: expected 2 fields, saw 3\\nSkipping line 640: expected 2 fields, saw 3\\nSkipping line 641: expected 2 fields, saw 3\\nSkipping line 642: expected 2 fields, saw 3\\nSkipping line 643: expected 2 fields, saw 3\\nSkipping line 644: expected 2 fields, saw 3\\nSkipping line 645: expected 2 fields, saw 3\\nSkipping line 646: expected 2 fields, saw 3\\nSkipping line 647: expected 2 fields, saw 3\\nSkipping line 648: expected 2 fields, saw 3\\nSkipping line 649: expected 2 fields, saw 3\\nSkipping line 650: expected 2 fields, saw 3\\nSkipping line 651: expected 2 fields, saw 3\\nSkipping line 652: expected 2 fields, saw 3\\nSkipping line 653: expected 2 fields, saw 3\\nSkipping line 654: expected 2 fields, saw 3\\nSkipping line 655: expected 2 fields, saw 3\\nSkipping line 656: expected 2 fields, saw 3\\nSkipping line 657: expected 2 fields, saw 3\\nSkipping line 658: expected 2 fields, saw 3\\nSkipping line 659: expected 2 fields, saw 3\\nSkipping line 660: expected 2 fields, saw 3\\nSkipping line 661: expected 2 fields, saw 3\\nSkipping line 662: expected 2 fields, saw 3\\nSkipping line 663: expected 2 fields, saw 3\\nSkipping line 664: expected 2 fields, saw 3\\nSkipping line 665: expected 2 fields, saw 3\\nSkipping line 666: expected 2 fields, saw 3\\nSkipping line 667: expected 2 fields, saw 3\\nSkipping line 668: expected 2 fields, saw 3\\nSkipping line 669: expected 2 fields, saw 3\\nSkipping line 670: expected 2 fields, saw 3\\nSkipping line 671: expected 2 fields, saw 3\\nSkipping line 672: expected 2 fields, saw 3\\nSkipping line 673: expected 2 fields, saw 3\\nSkipping line 674: expected 2 fields, saw 3\\nSkipping line 675: expected 2 fields, saw 3\\nSkipping line 676: expected 2 fields, saw 3\\nSkipping line 677: expected 2 fields, saw 3\\nSkipping line 678: expected 2 fields, saw 3\\nSkipping line 679: expected 2 fields, saw 3\\nSkipping line 680: expected 2 fields, saw 3\\nSkipping line 681: expected 2 fields, saw 3\\nSkipping line 682: expected 2 fields, saw 3\\nSkipping line 683: expected 2 fields, saw 3\\nSkipping line 684: expected 2 fields, saw 3\\nSkipping line 685: expected 2 fields, saw 3\\nSkipping line 686: expected 2 fields, saw 3\\nSkipping line 687: expected 2 fields, saw 3\\nSkipping line 688: expected 2 fields, saw 3\\nSkipping line 689: expected 2 fields, saw 3\\nSkipping line 690: expected 2 fields, saw 3\\nSkipping line 691: expected 2 fields, saw 3\\nSkipping line 692: expected 2 fields, saw 3\\nSkipping line 693: expected 2 fields, saw 3\\nSkipping line 694: expected 2 fields, saw 3\\nSkipping line 695: expected 2 fields, saw 3\\nSkipping line 696: expected 2 fields, saw 3\\nSkipping line 697: expected 2 fields, saw 3\\nSkipping line 698: expected 2 fields, saw 3\\nSkipping line 699: expected 2 fields, saw 3\\nSkipping line 700: expected 2 fields, saw 3\\nSkipping line 701: expected 2 fields, saw 3\\nSkipping line 702: expected 2 fields, saw 3\\nSkipping line 703: expected 2 fields, saw 3\\nSkipping line 704: expected 2 fields, saw 3\\nSkipping line 705: expected 2 fields, saw 3\\nSkipping line 706: expected 2 fields, saw 3\\nSkipping line 707: expected 2 fields, saw 3\\nSkipping line 708: expected 2 fields, saw 3\\nSkipping line 709: expected 2 fields, saw 3\\nSkipping line 710: expected 2 fields, saw 3\\nSkipping line 711: expected 2 fields, saw 3\\nSkipping line 712: expected 2 fields, saw 3\\nSkipping line 713: expected 2 fields, saw 3\\nSkipping line 714: expected 2 fields, saw 3\\nSkipping line 715: expected 2 fields, saw 3\\nSkipping line 716: expected 2 fields, saw 3\\nSkipping line 717: expected 2 fields, saw 3\\nSkipping line 718: expected 2 fields, saw 3\\nSkipping line 719: expected 2 fields, saw 3\\nSkipping line 720: expected 2 fields, saw 3\\nSkipping line 721: expected 2 fields, saw 3\\nSkipping line 722: expected 2 fields, saw 3\\nSkipping line 723: expected 2 fields, saw 3\\nSkipping line 724: expected 2 fields, saw 3\\nSkipping line 725: expected 2 fields, saw 3\\nSkipping line 726: expected 2 fields, saw 3\\nSkipping line 727: expected 2 fields, saw 3\\nSkipping line 728: expected 2 fields, saw 3\\nSkipping line 729: expected 2 fields, saw 3\\nSkipping line 730: expected 2 fields, saw 3\\nSkipping line 731: expected 2 fields, saw 3\\nSkipping line 732: expected 2 fields, saw 3\\nSkipping line 733: expected 2 fields, saw 3\\nSkipping line 734: expected 2 fields, saw 3\\nSkipping line 735: expected 2 fields, saw 3\\nSkipping line 736: expected 2 fields, saw 3\\nSkipping line 737: expected 2 fields, saw 3\\nSkipping line 738: expected 2 fields, saw 3\\nSkipping line 739: expected 2 fields, saw 3\\nSkipping line 740: expected 2 fields, saw 3\\nSkipping line 741: expected 2 fields, saw 3\\nSkipping line 742: expected 2 fields, saw 3\\nSkipping line 743: expected 2 fields, saw 3\\nSkipping line 744: expected 2 fields, saw 3\\nSkipping line 745: expected 2 fields, saw 3\\nSkipping line 746: expected 2 fields, saw 3\\nSkipping line 747: expected 2 fields, saw 3\\nSkipping line 748: expected 2 fields, saw 3\\nSkipping line 749: expected 2 fields, saw 3\\nSkipping line 750: expected 2 fields, saw 3\\nSkipping line 751: expected 2 fields, saw 3\\nSkipping line 752: expected 2 fields, saw 3\\nSkipping line 753: expected 2 fields, saw 3\\nSkipping line 754: expected 2 fields, saw 3\\nSkipping line 755: expected 2 fields, saw 3\\nSkipping line 757: expected 2 fields, saw 3\\nSkipping line 758: expected 2 fields, saw 3\\nSkipping line 759: expected 2 fields, saw 3\\nSkipping line 760: expected 2 fields, saw 3\\nSkipping line 761: expected 2 fields, saw 3\\nSkipping line 762: expected 2 fields, saw 3\\nSkipping line 763: expected 2 fields, saw 3\\nSkipping line 764: expected 2 fields, saw 3\\nSkipping line 765: expected 2 fields, saw 3\\nSkipping line 766: expected 2 fields, saw 3\\nSkipping line 767: expected 2 fields, saw 3\\nSkipping line 768: expected 2 fields, saw 3\\nSkipping line 769: expected 2 fields, saw 3\\nSkipping line 770: expected 2 fields, saw 3\\nSkipping line 771: expected 2 fields, saw 3\\nSkipping line 772: expected 2 fields, saw 3\\nSkipping line 773: expected 2 fields, saw 3\\nSkipping line 774: expected 2 fields, saw 3\\nSkipping line 775: expected 2 fields, saw 3\\nSkipping line 776: expected 2 fields, saw 3\\nSkipping line 777: expected 2 fields, saw 3\\nSkipping line 778: expected 2 fields, saw 3\\nSkipping line 779: expected 2 fields, saw 3\\nSkipping line 780: expected 2 fields, saw 3\\nSkipping line 781: expected 2 fields, saw 3\\nSkipping line 782: expected 2 fields, saw 3\\nSkipping line 783: expected 2 fields, saw 3\\nSkipping line 784: expected 2 fields, saw 3\\nSkipping line 785: expected 2 fields, saw 3\\nSkipping line 786: expected 2 fields, saw 3\\nSkipping line 787: expected 2 fields, saw 3\\nSkipping line 788: expected 2 fields, saw 3\\nSkipping line 789: expected 2 fields, saw 3\\nSkipping line 790: expected 2 fields, saw 3\\nSkipping line 791: expected 2 fields, saw 3\\nSkipping line 792: expected 2 fields, saw 3\\nSkipping line 793: expected 2 fields, saw 3\\nSkipping line 794: expected 2 fields, saw 3\\nSkipping line 795: expected 2 fields, saw 3\\nSkipping line 796: expected 2 fields, saw 3\\nSkipping line 797: expected 2 fields, saw 3\\nSkipping line 798: expected 2 fields, saw 3\\nSkipping line 799: expected 2 fields, saw 3\\nSkipping line 800: expected 2 fields, saw 3\\nSkipping line 801: expected 2 fields, saw 3\\nSkipping line 802: expected 2 fields, saw 3\\nSkipping line 803: expected 2 fields, saw 3\\nSkipping line 804: expected 2 fields, saw 3\\nSkipping line 805: expected 2 fields, saw 3\\nSkipping line 806: expected 2 fields, saw 3\\nSkipping line 807: expected 2 fields, saw 3\\nSkipping line 808: expected 2 fields, saw 3\\nSkipping line 809: expected 2 fields, saw 3\\nSkipping line 810: expected 2 fields, saw 3\\nSkipping line 811: expected 2 fields, saw 3\\nSkipping line 812: expected 2 fields, saw 3\\nSkipping line 813: expected 2 fields, saw 3\\nSkipping line 814: expected 2 fields, saw 3\\nSkipping line 815: expected 2 fields, saw 3\\nSkipping line 816: expected 2 fields, saw 3\\nSkipping line 817: expected 2 fields, saw 3\\nSkipping line 818: expected 2 fields, saw 3\\nSkipping line 819: expected 2 fields, saw 3\\nSkipping line 820: expected 2 fields, saw 3\\nSkipping line 821: expected 2 fields, saw 3\\nSkipping line 822: expected 2 fields, saw 3\\nSkipping line 823: expected 2 fields, saw 3\\nSkipping line 824: expected 2 fields, saw 3\\nSkipping line 825: expected 2 fields, saw 3\\nSkipping line 826: expected 2 fields, saw 3\\nSkipping line 827: expected 2 fields, saw 3\\nSkipping line 828: expected 2 fields, saw 3\\nSkipping line 829: expected 2 fields, saw 3\\nSkipping line 830: expected 2 fields, saw 3\\nSkipping line 831: expected 2 fields, saw 3\\nSkipping line 832: expected 2 fields, saw 3\\nSkipping line 833: expected 2 fields, saw 3\\nSkipping line 834: expected 2 fields, saw 3\\nSkipping line 835: expected 2 fields, saw 3\\nSkipping line 836: expected 2 fields, saw 3\\nSkipping line 837: expected 2 fields, saw 3\\nSkipping line 838: expected 2 fields, saw 3\\nSkipping line 839: expected 2 fields, saw 3\\nSkipping line 840: expected 2 fields, saw 3\\nSkipping line 841: expected 2 fields, saw 3\\nSkipping line 842: expected 2 fields, saw 3\\nSkipping line 843: expected 2 fields, saw 3\\nSkipping line 844: expected 2 fields, saw 3\\nSkipping line 845: expected 2 fields, saw 3\\nSkipping line 846: expected 2 fields, saw 3\\nSkipping line 847: expected 2 fields, saw 3\\nSkipping line 848: expected 2 fields, saw 3\\nSkipping line 849: expected 2 fields, saw 3\\nSkipping line 850: expected 2 fields, saw 3\\nSkipping line 851: expected 2 fields, saw 3\\nSkipping line 852: expected 2 fields, saw 3\\nSkipping line 853: expected 2 fields, saw 3\\nSkipping line 854: expected 2 fields, saw 3\\nSkipping line 855: expected 2 fields, saw 3\\nSkipping line 856: expected 2 fields, saw 3\\nSkipping line 857: expected 2 fields, saw 3\\nSkipping line 858: expected 2 fields, saw 3\\nSkipping line 859: expected 2 fields, saw 3\\nSkipping line 860: expected 2 fields, saw 3\\nSkipping line 861: expected 2 fields, saw 3\\nSkipping line 862: expected 2 fields, saw 3\\nSkipping line 863: expected 2 fields, saw 3\\nSkipping line 864: expected 2 fields, saw 3\\nSkipping line 865: expected 2 fields, saw 3\\nSkipping line 866: expected 2 fields, saw 3\\nSkipping line 867: expected 2 fields, saw 3\\nSkipping line 868: expected 2 fields, saw 3\\nSkipping line 869: expected 2 fields, saw 3\\nSkipping line 870: expected 2 fields, saw 3\\nSkipping line 871: expected 2 fields, saw 3\\nSkipping line 872: expected 2 fields, saw 3\\nSkipping line 873: expected 2 fields, saw 3\\nSkipping line 874: expected 2 fields, saw 3\\nSkipping line 875: expected 2 fields, saw 3\\nSkipping line 876: expected 2 fields, saw 3\\nSkipping line 877: expected 2 fields, saw 3\\nSkipping line 878: expected 2 fields, saw 3\\nSkipping line 879: expected 2 fields, saw 3\\nSkipping line 880: expected 2 fields, saw 3\\nSkipping line 881: expected 2 fields, saw 3\\nSkipping line 882: expected 2 fields, saw 3\\nSkipping line 883: expected 2 fields, saw 3\\nSkipping line 884: expected 2 fields, saw 3\\nSkipping line 885: expected 2 fields, saw 3\\nSkipping line 886: expected 2 fields, saw 3\\nSkipping line 887: expected 2 fields, saw 3\\nSkipping line 888: expected 2 fields, saw 3\\nSkipping line 889: expected 2 fields, saw 3\\nSkipping line 890: expected 2 fields, saw 3\\nSkipping line 891: expected 2 fields, saw 3\\nSkipping line 892: expected 2 fields, saw 3\\nSkipping line 893: expected 2 fields, saw 3\\nSkipping line 894: expected 2 fields, saw 3\\nSkipping line 895: expected 2 fields, saw 3\\nSkipping line 896: expected 2 fields, saw 3\\nSkipping line 897: expected 2 fields, saw 3\\nSkipping line 898: expected 2 fields, saw 3\\nSkipping line 899: expected 2 fields, saw 3\\nSkipping line 900: expected 2 fields, saw 3\\nSkipping line 901: expected 2 fields, saw 3\\nSkipping line 902: expected 2 fields, saw 3\\nSkipping line 903: expected 2 fields, saw 3\\nSkipping line 904: expected 2 fields, saw 3\\nSkipping line 905: expected 2 fields, saw 3\\nSkipping line 906: expected 2 fields, saw 3\\nSkipping line 907: expected 2 fields, saw 3\\nSkipping line 908: expected 2 fields, saw 3\\nSkipping line 909: expected 2 fields, saw 3\\nSkipping line 910: expected 2 fields, saw 3\\nSkipping line 911: expected 2 fields, saw 3\\nSkipping line 912: expected 2 fields, saw 3\\nSkipping line 913: expected 2 fields, saw 3\\nSkipping line 914: expected 2 fields, saw 3\\nSkipping line 915: expected 2 fields, saw 3\\nSkipping line 916: expected 2 fields, saw 3\\nSkipping line 917: expected 2 fields, saw 3\\nSkipping line 918: expected 2 fields, saw 3\\nSkipping line 919: expected 2 fields, saw 3\\nSkipping line 920: expected 2 fields, saw 3\\nSkipping line 921: expected 2 fields, saw 3\\nSkipping line 922: expected 2 fields, saw 3\\nSkipping line 923: expected 2 fields, saw 3\\nSkipping line 924: expected 2 fields, saw 3\\nSkipping line 925: expected 2 fields, saw 3\\nSkipping line 926: expected 2 fields, saw 3\\nSkipping line 927: expected 2 fields, saw 3\\nSkipping line 928: expected 2 fields, saw 3\\nSkipping line 929: expected 2 fields, saw 3\\nSkipping line 930: expected 2 fields, saw 3\\nSkipping line 931: expected 2 fields, saw 3\\nSkipping line 932: expected 2 fields, saw 3\\nSkipping line 933: expected 2 fields, saw 3\\nSkipping line 934: expected 2 fields, saw 3\\nSkipping line 935: expected 2 fields, saw 3\\nSkipping line 936: expected 2 fields, saw 3\\nSkipping line 937: expected 2 fields, saw 3\\nSkipping line 938: expected 2 fields, saw 3\\nSkipping line 939: expected 2 fields, saw 3\\nSkipping line 940: expected 2 fields, saw 3\\nSkipping line 941: expected 2 fields, saw 3\\nSkipping line 942: expected 2 fields, saw 3\\nSkipping line 943: expected 2 fields, saw 3\\nSkipping line 944: expected 2 fields, saw 3\\nSkipping line 945: expected 2 fields, saw 3\\nSkipping line 946: expected 2 fields, saw 3\\nSkipping line 947: expected 2 fields, saw 3\\nSkipping line 948: expected 2 fields, saw 3\\nSkipping line 949: expected 2 fields, saw 3\\nSkipping line 950: expected 2 fields, saw 3\\nSkipping line 951: expected 2 fields, saw 3\\nSkipping line 952: expected 2 fields, saw 3\\nSkipping line 953: expected 2 fields, saw 3\\nSkipping line 954: expected 2 fields, saw 3\\nSkipping line 955: expected 2 fields, saw 3\\nSkipping line 956: expected 2 fields, saw 3\\nSkipping line 957: expected 2 fields, saw 3\\nSkipping line 958: expected 2 fields, saw 3\\nSkipping line 959: expected 2 fields, saw 3\\nSkipping line 960: expected 2 fields, saw 3\\nSkipping line 961: expected 2 fields, saw 3\\nSkipping line 962: expected 2 fields, saw 3\\nSkipping line 963: expected 2 fields, saw 3\\nSkipping line 964: expected 2 fields, saw 3\\nSkipping line 965: expected 2 fields, saw 3\\nSkipping line 966: expected 2 fields, saw 3\\nSkipping line 967: expected 2 fields, saw 3\\nSkipping line 968: expected 2 fields, saw 3\\nSkipping line 969: expected 2 fields, saw 3\\nSkipping line 970: expected 2 fields, saw 3\\nSkipping line 971: expected 2 fields, saw 3\\nSkipping line 972: expected 2 fields, saw 3\\nSkipping line 973: expected 2 fields, saw 3\\nSkipping line 974: expected 2 fields, saw 3\\nSkipping line 975: expected 2 fields, saw 3\\nSkipping line 976: expected 2 fields, saw 3\\nSkipping line 977: expected 2 fields, saw 3\\nSkipping line 978: expected 2 fields, saw 3\\nSkipping line 979: expected 2 fields, saw 3\\nSkipping line 980: expected 2 fields, saw 3\\nSkipping line 981: expected 2 fields, saw 3\\nSkipping line 982: expected 2 fields, saw 3\\nSkipping line 983: expected 2 fields, saw 3\\nSkipping line 984: expected 2 fields, saw 3\\nSkipping line 985: expected 2 fields, saw 3\\nSkipping line 986: expected 2 fields, saw 3\\nSkipping line 987: expected 2 fields, saw 3\\nSkipping line 988: expected 2 fields, saw 3\\nSkipping line 989: expected 2 fields, saw 3\\nSkipping line 990: expected 2 fields, saw 3\\nSkipping line 991: expected 2 fields, saw 3\\nSkipping line 992: expected 2 fields, saw 3\\nSkipping line 993: expected 2 fields, saw 3\\nSkipping line 994: expected 2 fields, saw 3\\nSkipping line 995: expected 2 fields, saw 3\\nSkipping line 996: expected 2 fields, saw 3\\nSkipping line 997: expected 2 fields, saw 3\\nSkipping line 998: expected 2 fields, saw 3\\nSkipping line 999: expected 2 fields, saw 3\\nSkipping line 1000: expected 2 fields, saw 3\\nSkipping line 1001: expected 2 fields, saw 3\\nSkipping line 1002: expected 2 fields, saw 3\\nSkipping line 1003: expected 2 fields, saw 3\\nSkipping line 1004: expected 2 fields, saw 3\\nSkipping line 1005: expected 2 fields, saw 3\\nSkipping line 1006: expected 2 fields, saw 3\\nSkipping line 1007: expected 2 fields, saw 3\\nSkipping line 1008: expected 2 fields, saw 3\\nSkipping line 1009: expected 2 fields, saw 3\\nSkipping line 1010: expected 2 fields, saw 3\\nSkipping line 1011: expected 2 fields, saw 3\\nSkipping line 1012: expected 2 fields, saw 3\\nSkipping line 1013: expected 2 fields, saw 3\\nSkipping line 1014: expected 2 fields, saw 3\\nSkipping line 1015: expected 2 fields, saw 3\\nSkipping line 1016: expected 2 fields, saw 3\\nSkipping line 1017: expected 2 fields, saw 3\\nSkipping line 1018: expected 2 fields, saw 3\\nSkipping line 1019: expected 2 fields, saw 3\\nSkipping line 1020: expected 2 fields, saw 3\\nSkipping line 1021: expected 2 fields, saw 3\\nSkipping line 1022: expected 2 fields, saw 3\\nSkipping line 1023: expected 2 fields, saw 3\\nSkipping line 1024: expected 2 fields, saw 3\\nSkipping line 1025: expected 2 fields, saw 3\\nSkipping line 1026: expected 2 fields, saw 3\\nSkipping line 1027: expected 2 fields, saw 3\\nSkipping line 1028: expected 2 fields, saw 3\\nSkipping line 1029: expected 2 fields, saw 3\\nSkipping line 1030: expected 2 fields, saw 3\\nSkipping line 1031: expected 2 fields, saw 3\\nSkipping line 1032: expected 2 fields, saw 3\\nSkipping line 1033: expected 2 fields, saw 3\\nSkipping line 1034: expected 2 fields, saw 3\\nSkipping line 1035: expected 2 fields, saw 3\\nSkipping line 1036: expected 2 fields, saw 3\\nSkipping line 1037: expected 2 fields, saw 3\\nSkipping line 1038: expected 2 fields, saw 3\\nSkipping line 1039: expected 2 fields, saw 3\\nSkipping line 1040: expected 2 fields, saw 3\\nSkipping line 1041: expected 2 fields, saw 3\\nSkipping line 1042: expected 2 fields, saw 3\\nSkipping line 1043: expected 2 fields, saw 3\\nSkipping line 1044: expected 2 fields, saw 3\\nSkipping line 1045: expected 2 fields, saw 3\\nSkipping line 1046: expected 2 fields, saw 3\\nSkipping line 1047: expected 2 fields, saw 3\\nSkipping line 1048: expected 2 fields, saw 3\\nSkipping line 1049: expected 2 fields, saw 3\\nSkipping line 1050: expected 2 fields, saw 3\\nSkipping line 1051: expected 2 fields, saw 3\\nSkipping line 1052: expected 2 fields, saw 3\\nSkipping line 1053: expected 2 fields, saw 3\\nSkipping line 1054: expected 2 fields, saw 3\\nSkipping line 1055: expected 2 fields, saw 3\\nSkipping line 1056: expected 2 fields, saw 3\\nSkipping line 1057: expected 2 fields, saw 3\\nSkipping line 1058: expected 2 fields, saw 3\\nSkipping line 1059: expected 2 fields, saw 3\\nSkipping line 1060: expected 2 fields, saw 3\\nSkipping line 1061: expected 2 fields, saw 3\\nSkipping line 1062: expected 2 fields, saw 3\\nSkipping line 1063: expected 2 fields, saw 3\\nSkipping line 1064: expected 2 fields, saw 3\\nSkipping line 1065: expected 2 fields, saw 3\\nSkipping line 1066: expected 2 fields, saw 3\\nSkipping line 1067: expected 2 fields, saw 3\\nSkipping line 1068: expected 2 fields, saw 3\\nSkipping line 1069: expected 2 fields, saw 3\\nSkipping line 1070: expected 2 fields, saw 3\\nSkipping line 1071: expected 2 fields, saw 3\\nSkipping line 1072: expected 2 fields, saw 3\\nSkipping line 1073: expected 2 fields, saw 3\\nSkipping line 1074: expected 2 fields, saw 3\\nSkipping line 1075: expected 2 fields, saw 3\\nSkipping line 1076: expected 2 fields, saw 3\\nSkipping line 1077: expected 2 fields, saw 3\\nSkipping line 1078: expected 2 fields, saw 3\\nSkipping line 1079: expected 2 fields, saw 3\\nSkipping line 1080: expected 2 fields, saw 3\\nSkipping line 1081: expected 2 fields, saw 3\\nSkipping line 1082: expected 2 fields, saw 3\\nSkipping line 1083: expected 2 fields, saw 3\\nSkipping line 1084: expected 2 fields, saw 3\\nSkipping line 1085: expected 2 fields, saw 3\\nSkipping line 1086: expected 2 fields, saw 3\\nSkipping line 1087: expected 2 fields, saw 3\\nSkipping line 1088: expected 2 fields, saw 3\\nSkipping line 1089: expected 2 fields, saw 3\\nSkipping line 1090: expected 2 fields, saw 3\\nSkipping line 1091: expected 2 fields, saw 3\\nSkipping line 1092: expected 2 fields, saw 3\\nSkipping line 1093: expected 2 fields, saw 3\\nSkipping line 1094: expected 2 fields, saw 3\\nSkipping line 1095: expected 2 fields, saw 3\\nSkipping line 1096: expected 2 fields, saw 3\\nSkipping line 1097: expected 2 fields, saw 3\\nSkipping line 1098: expected 2 fields, saw 3\\nSkipping line 1099: expected 2 fields, saw 3\\nSkipping line 1100: expected 2 fields, saw 3\\nSkipping line 1101: expected 2 fields, saw 3\\nSkipping line 1102: expected 2 fields, saw 3\\nSkipping line 1103: expected 2 fields, saw 3\\nSkipping line 1104: expected 2 fields, saw 3\\nSkipping line 1105: expected 2 fields, saw 3\\nSkipping line 1106: expected 2 fields, saw 3\\nSkipping line 1107: expected 2 fields, saw 3\\nSkipping line 1108: expected 2 fields, saw 3\\nSkipping line 1109: expected 2 fields, saw 3\\nSkipping line 1110: expected 2 fields, saw 3\\nSkipping line 1111: expected 2 fields, saw 3\\nSkipping line 1112: expected 2 fields, saw 3\\nSkipping line 1113: expected 2 fields, saw 3\\nSkipping line 1114: expected 2 fields, saw 3\\nSkipping line 1115: expected 2 fields, saw 3\\nSkipping line 1116: expected 2 fields, saw 3\\nSkipping line 1117: expected 2 fields, saw 3\\nSkipping line 1118: expected 2 fields, saw 3\\nSkipping line 1119: expected 2 fields, saw 3\\nSkipping line 1120: expected 2 fields, saw 3\\nSkipping line 1121: expected 2 fields, saw 3\\nSkipping line 1122: expected 2 fields, saw 3\\nSkipping line 1123: expected 2 fields, saw 3\\nSkipping line 1124: expected 2 fields, saw 3\\nSkipping line 1125: expected 2 fields, saw 3\\nSkipping line 1126: expected 2 fields, saw 3\\nSkipping line 1127: expected 2 fields, saw 3\\nSkipping line 1128: expected 2 fields, saw 3\\nSkipping line 1129: expected 2 fields, saw 3\\nSkipping line 1130: expected 2 fields, saw 3\\nSkipping line 1131: expected 2 fields, saw 3\\nSkipping line 1132: expected 2 fields, saw 3\\nSkipping line 1133: expected 2 fields, saw 3\\nSkipping line 1134: expected 2 fields, saw 3\\nSkipping line 1135: expected 2 fields, saw 3\\nSkipping line 1136: expected 2 fields, saw 3\\nSkipping line 1137: expected 2 fields, saw 3\\nSkipping line 1138: expected 2 fields, saw 3\\nSkipping line 1139: expected 2 fields, saw 3\\nSkipping line 1140: expected 2 fields, saw 3\\nSkipping line 1141: expected 2 fields, saw 3\\nSkipping line 1142: expected 2 fields, saw 3\\nSkipping line 1143: expected 2 fields, saw 3\\nSkipping line 1144: expected 2 fields, saw 3\\nSkipping line 1145: expected 2 fields, saw 3\\nSkipping line 1146: expected 2 fields, saw 3\\nSkipping line 1147: expected 2 fields, saw 3\\nSkipping line 1148: expected 2 fields, saw 3\\nSkipping line 1149: expected 2 fields, saw 3\\nSkipping line 1150: expected 2 fields, saw 3\\nSkipping line 1151: expected 2 fields, saw 3\\nSkipping line 1152: expected 2 fields, saw 3\\nSkipping line 1153: expected 2 fields, saw 3\\nSkipping line 1154: expected 2 fields, saw 3\\nSkipping line 1155: expected 2 fields, saw 3\\nSkipping line 1156: expected 2 fields, saw 3\\nSkipping line 1157: expected 2 fields, saw 3\\nSkipping line 1158: expected 2 fields, saw 3\\nSkipping line 1159: expected 2 fields, saw 3\\nSkipping line 1160: expected 2 fields, saw 3\\nSkipping line 1161: expected 2 fields, saw 3\\nSkipping line 1162: expected 2 fields, saw 3\\nSkipping line 1163: expected 2 fields, saw 3\\nSkipping line 1164: expected 2 fields, saw 3\\nSkipping line 1165: expected 2 fields, saw 3\\nSkipping line 1166: expected 2 fields, saw 3\\nSkipping line 1167: expected 2 fields, saw 3\\nSkipping line 1168: expected 2 fields, saw 3\\nSkipping line 1169: expected 2 fields, saw 3\\nSkipping line 1170: expected 2 fields, saw 3\\nSkipping line 1171: expected 2 fields, saw 3\\nSkipping line 1172: expected 2 fields, saw 3\\nSkipping line 1173: expected 2 fields, saw 3\\nSkipping line 1174: expected 2 fields, saw 3\\nSkipping line 1175: expected 2 fields, saw 3\\nSkipping line 1176: expected 2 fields, saw 3\\nSkipping line 1177: expected 2 fields, saw 3\\nSkipping line 1178: expected 2 fields, saw 3\\nSkipping line 1179: expected 2 fields, saw 3\\nSkipping line 1180: expected 2 fields, saw 3\\nSkipping line 1181: expected 2 fields, saw 3\\nSkipping line 1182: expected 2 fields, saw 3\\nSkipping line 1183: expected 2 fields, saw 3\\nSkipping line 1184: expected 2 fields, saw 3\\nSkipping line 1185: expected 2 fields, saw 3\\nSkipping line 1186: expected 2 fields, saw 3\\nSkipping line 1187: expected 2 fields, saw 3\\nSkipping line 1188: expected 2 fields, saw 3\\nSkipping line 1189: expected 2 fields, saw 3\\nSkipping line 1190: expected 2 fields, saw 3\\nSkipping line 1191: expected 2 fields, saw 3\\nSkipping line 1192: expected 2 fields, saw 3\\nSkipping line 1193: expected 2 fields, saw 3\\nSkipping line 1194: expected 2 fields, saw 3\\nSkipping line 1195: expected 2 fields, saw 3\\nSkipping line 1196: expected 2 fields, saw 3\\nSkipping line 1197: expected 2 fields, saw 3\\nSkipping line 1198: expected 2 fields, saw 3\\nSkipping line 1199: expected 2 fields, saw 3\\nSkipping line 1200: expected 2 fields, saw 3\\nSkipping line 1201: expected 2 fields, saw 3\\nSkipping line 1202: expected 2 fields, saw 3\\nSkipping line 1203: expected 2 fields, saw 3\\nSkipping line 1204: expected 2 fields, saw 3\\nSkipping line 1205: expected 2 fields, saw 3\\nSkipping line 1206: expected 2 fields, saw 3\\nSkipping line 1207: expected 2 fields, saw 3\\nSkipping line 1208: expected 2 fields, saw 3\\nSkipping line 1209: expected 2 fields, saw 3\\nSkipping line 1210: expected 2 fields, saw 3\\nSkipping line 1211: expected 2 fields, saw 3\\nSkipping line 1212: expected 2 fields, saw 3\\nSkipping line 1213: expected 2 fields, saw 3\\nSkipping line 1214: expected 2 fields, saw 3\\nSkipping line 1215: expected 2 fields, saw 3\\nSkipping line 1216: expected 2 fields, saw 3\\nSkipping line 1217: expected 2 fields, saw 3\\nSkipping line 1218: expected 2 fields, saw 3\\nSkipping line 1219: expected 2 fields, saw 3\\nSkipping line 1220: expected 2 fields, saw 3\\nSkipping line 1221: expected 2 fields, saw 3\\nSkipping line 1222: expected 2 fields, saw 3\\nSkipping line 1223: expected 2 fields, saw 3\\nSkipping line 1224: expected 2 fields, saw 3\\nSkipping line 1225: expected 2 fields, saw 3\\nSkipping line 1226: expected 2 fields, saw 3\\nSkipping line 1227: expected 2 fields, saw 3\\nSkipping line 1228: expected 2 fields, saw 3\\nSkipping line 1229: expected 2 fields, saw 3\\nSkipping line 1230: expected 2 fields, saw 3\\nSkipping line 1231: expected 2 fields, saw 3\\nSkipping line 1232: expected 2 fields, saw 3\\nSkipping line 1233: expected 2 fields, saw 3\\nSkipping line 1234: expected 2 fields, saw 3\\nSkipping line 1235: expected 2 fields, saw 3\\nSkipping line 1236: expected 2 fields, saw 3\\nSkipping line 1237: expected 2 fields, saw 3\\nSkipping line 1238: expected 2 fields, saw 3\\nSkipping line 1239: expected 2 fields, saw 3\\nSkipping line 1240: expected 2 fields, saw 3\\nSkipping line 1241: expected 2 fields, saw 3\\nSkipping line 1242: expected 2 fields, saw 3\\nSkipping line 1243: expected 2 fields, saw 3\\nSkipping line 1244: expected 2 fields, saw 3\\nSkipping line 1245: expected 2 fields, saw 3\\nSkipping line 1246: expected 2 fields, saw 3\\nSkipping line 1247: expected 2 fields, saw 3\\nSkipping line 1248: expected 2 fields, saw 3\\nSkipping line 1249: expected 2 fields, saw 3\\nSkipping line 1250: expected 2 fields, saw 3\\nSkipping line 1251: expected 2 fields, saw 3\\nSkipping line 1252: expected 2 fields, saw 3\\nSkipping line 1253: expected 2 fields, saw 3\\nSkipping line 1254: expected 2 fields, saw 3\\nSkipping line 1255: expected 2 fields, saw 3\\nSkipping line 1256: expected 2 fields, saw 3\\nSkipping line 1257: expected 2 fields, saw 3\\nSkipping line 1258: expected 2 fields, saw 3\\nSkipping line 1259: expected 2 fields, saw 3\\nSkipping line 1260: expected 2 fields, saw 3\\nSkipping line 1261: expected 2 fields, saw 3\\nSkipping line 1262: expected 2 fields, saw 3\\nSkipping line 1263: expected 2 fields, saw 3\\nSkipping line 1264: expected 2 fields, saw 3\\nSkipping line 1265: expected 2 fields, saw 3\\nSkipping line 1266: expected 2 fields, saw 3\\nSkipping line 1267: expected 2 fields, saw 3\\nSkipping line 1268: expected 2 fields, saw 3\\nSkipping line 1269: expected 2 fields, saw 3\\nSkipping line 1270: expected 2 fields, saw 3\\nSkipping line 1271: expected 2 fields, saw 3\\nSkipping line 1272: expected 2 fields, saw 3\\nSkipping line 1273: expected 2 fields, saw 3\\nSkipping line 1274: expected 2 fields, saw 3\\nSkipping line 1275: expected 2 fields, saw 3\\nSkipping line 1276: expected 2 fields, saw 3\\nSkipping line 1277: expected 2 fields, saw 3\\nSkipping line 1278: expected 2 fields, saw 3\\nSkipping line 1279: expected 2 fields, saw 3\\nSkipping line 1280: expected 2 fields, saw 3\\nSkipping line 1281: expected 2 fields, saw 3\\nSkipping line 1282: expected 2 fields, saw 3\\nSkipping line 1283: expected 2 fields, saw 3\\nSkipping line 1284: expected 2 fields, saw 3\\nSkipping line 1285: expected 2 fields, saw 3\\nSkipping line 1286: expected 2 fields, saw 3\\nSkipping line 1287: expected 2 fields, saw 3\\nSkipping line 1288: expected 2 fields, saw 3\\nSkipping line 1289: expected 2 fields, saw 3\\nSkipping line 1290: expected 2 fields, saw 3\\nSkipping line 1291: expected 2 fields, saw 3\\nSkipping line 1292: expected 2 fields, saw 3\\nSkipping line 1293: expected 2 fields, saw 3\\nSkipping line 1294: expected 2 fields, saw 3\\nSkipping line 1295: expected 2 fields, saw 3\\nSkipping line 1296: expected 2 fields, saw 3\\nSkipping line 1297: expected 2 fields, saw 3\\nSkipping line 1298: expected 2 fields, saw 3\\nSkipping line 1299: expected 2 fields, saw 3\\nSkipping line 1300: expected 2 fields, saw 3\\nSkipping line 1301: expected 2 fields, saw 3\\nSkipping line 1302: expected 2 fields, saw 3\\nSkipping line 1303: expected 2 fields, saw 3\\nSkipping line 1304: expected 2 fields, saw 3\\nSkipping line 1305: expected 2 fields, saw 3\\nSkipping line 1306: expected 2 fields, saw 3\\nSkipping line 1307: expected 2 fields, saw 3\\nSkipping line 1308: expected 2 fields, saw 3\\nSkipping line 1309: expected 2 fields, saw 3\\nSkipping line 1310: expected 2 fields, saw 3\\nSkipping line 1311: expected 2 fields, saw 3\\nSkipping line 1312: expected 2 fields, saw 3\\nSkipping line 1313: expected 2 fields, saw 3\\nSkipping line 1314: expected 2 fields, saw 3\\nSkipping line 1315: expected 2 fields, saw 3\\nSkipping line 1316: expected 2 fields, saw 3\\nSkipping line 1317: expected 2 fields, saw 3\\nSkipping line 1318: expected 2 fields, saw 3\\nSkipping line 1319: expected 2 fields, saw 3\\nSkipping line 1320: expected 2 fields, saw 3\\nSkipping line 1321: expected 2 fields, saw 3\\nSkipping line 1322: expected 2 fields, saw 3\\nSkipping line 1323: expected 2 fields, saw 3\\nSkipping line 1324: expected 2 fields, saw 3\\nSkipping line 1325: expected 2 fields, saw 3\\nSkipping line 1326: expected 2 fields, saw 3\\nSkipping line 1327: expected 2 fields, saw 3\\nSkipping line 1328: expected 2 fields, saw 3\\nSkipping line 1329: expected 2 fields, saw 3\\nSkipping line 1330: expected 2 fields, saw 3\\nSkipping line 1331: expected 2 fields, saw 3\\nSkipping line 1332: expected 2 fields, saw 3\\nSkipping line 1333: expected 2 fields, saw 3\\nSkipping line 1334: expected 2 fields, saw 3\\nSkipping line 1335: expected 2 fields, saw 3\\nSkipping line 1336: expected 2 fields, saw 3\\nSkipping line 1337: expected 2 fields, saw 3\\nSkipping line 1338: expected 2 fields, saw 3\\nSkipping line 1339: expected 2 fields, saw 3\\nSkipping line 1340: expected 2 fields, saw 3\\nSkipping line 1341: expected 2 fields, saw 3\\nSkipping line 1342: expected 2 fields, saw 3\\nSkipping line 1343: expected 2 fields, saw 3\\nSkipping line 1344: expected 2 fields, saw 3\\nSkipping line 1345: expected 2 fields, saw 3\\nSkipping line 1346: expected 2 fields, saw 3\\nSkipping line 1347: expected 2 fields, saw 3\\nSkipping line 1348: expected 2 fields, saw 3\\nSkipping line 1349: expected 2 fields, saw 3\\nSkipping line 1350: expected 2 fields, saw 3\\nSkipping line 1351: expected 2 fields, saw 3\\nSkipping line 1352: expected 2 fields, saw 3\\nSkipping line 1353: expected 2 fields, saw 3\\nSkipping line 1354: expected 2 fields, saw 3\\nSkipping line 1355: expected 2 fields, saw 3\\nSkipping line 1356: expected 2 fields, saw 3\\nSkipping line 1357: expected 2 fields, saw 3\\nSkipping line 1358: expected 2 fields, saw 3\\nSkipping line 1359: expected 2 fields, saw 3\\nSkipping line 1360: expected 2 fields, saw 3\\nSkipping line 1361: expected 2 fields, saw 3\\nSkipping line 1362: expected 2 fields, saw 3\\nSkipping line 1363: expected 2 fields, saw 3\\nSkipping line 1364: expected 2 fields, saw 3\\nSkipping line 1365: expected 2 fields, saw 3\\nSkipping line 1366: expected 2 fields, saw 3\\nSkipping line 1367: expected 2 fields, saw 3\\nSkipping line 1368: expected 2 fields, saw 3\\nSkipping line 1369: expected 2 fields, saw 3\\nSkipping line 1370: expected 2 fields, saw 3\\nSkipping line 1371: expected 2 fields, saw 3\\nSkipping line 1372: expected 2 fields, saw 3\\nSkipping line 1373: expected 2 fields, saw 3\\nSkipping line 1374: expected 2 fields, saw 3\\nSkipping line 1375: expected 2 fields, saw 3\\nSkipping line 1376: expected 2 fields, saw 3\\nSkipping line 1377: expected 2 fields, saw 3\\nSkipping line 1378: expected 2 fields, saw 3\\nSkipping line 1379: expected 2 fields, saw 3\\nSkipping line 1380: expected 2 fields, saw 3\\nSkipping line 1381: expected 2 fields, saw 3\\nSkipping line 1382: expected 2 fields, saw 3\\nSkipping line 1383: expected 2 fields, saw 3\\nSkipping line 1384: expected 2 fields, saw 3\\nSkipping line 1385: expected 2 fields, saw 3\\nSkipping line 1386: expected 2 fields, saw 3\\nSkipping line 1387: expected 2 fields, saw 3\\nSkipping line 1388: expected 2 fields, saw 3\\nSkipping line 1389: expected 2 fields, saw 3\\nSkipping line 1390: expected 2 fields, saw 3\\nSkipping line 1391: expected 2 fields, saw 3\\nSkipping line 1392: expected 2 fields, saw 3\\nSkipping line 1393: expected 2 fields, saw 3\\nSkipping line 1394: expected 2 fields, saw 3\\nSkipping line 1395: expected 2 fields, saw 3\\nSkipping line 1396: expected 2 fields, saw 3\\nSkipping line 1397: expected 2 fields, saw 3\\nSkipping line 1398: expected 2 fields, saw 3\\nSkipping line 1399: expected 2 fields, saw 3\\nSkipping line 1400: expected 2 fields, saw 3\\nSkipping line 1401: expected 2 fields, saw 3\\nSkipping line 1402: expected 2 fields, saw 3\\nSkipping line 1403: expected 2 fields, saw 3\\nSkipping line 1404: expected 2 fields, saw 3\\nSkipping line 1405: expected 2 fields, saw 3\\nSkipping line 1406: expected 2 fields, saw 3\\nSkipping line 1407: expected 2 fields, saw 3\\nSkipping line 1408: expected 2 fields, saw 3\\nSkipping line 1409: expected 2 fields, saw 3\\nSkipping line 1410: expected 2 fields, saw 3\\nSkipping line 1411: expected 2 fields, saw 3\\nSkipping line 1412: expected 2 fields, saw 3\\nSkipping line 1413: expected 2 fields, saw 3\\nSkipping line 1414: expected 2 fields, saw 3\\nSkipping line 1415: expected 2 fields, saw 3\\nSkipping line 1416: expected 2 fields, saw 3\\nSkipping line 1417: expected 2 fields, saw 3\\nSkipping line 1418: expected 2 fields, saw 3\\nSkipping line 1419: expected 2 fields, saw 3\\nSkipping line 1420: expected 2 fields, saw 3\\nSkipping line 1421: expected 2 fields, saw 3\\nSkipping line 1422: expected 2 fields, saw 3\\nSkipping line 1423: expected 2 fields, saw 3\\nSkipping line 1424: expected 2 fields, saw 3\\nSkipping line 1425: expected 2 fields, saw 3\\nSkipping line 1426: expected 2 fields, saw 3\\nSkipping line 1427: expected 2 fields, saw 3\\nSkipping line 1428: expected 2 fields, saw 3\\nSkipping line 1429: expected 2 fields, saw 3\\nSkipping line 1430: expected 2 fields, saw 3\\nSkipping line 1431: expected 2 fields, saw 3\\nSkipping line 1432: expected 2 fields, saw 3\\nSkipping line 1433: expected 2 fields, saw 3\\nSkipping line 1434: expected 2 fields, saw 3\\nSkipping line 1435: expected 2 fields, saw 3\\nSkipping line 1436: expected 2 fields, saw 3\\nSkipping line 1437: expected 2 fields, saw 3\\nSkipping line 1438: expected 2 fields, saw 3\\nSkipping line 1439: expected 2 fields, saw 3\\nSkipping line 1440: expected 2 fields, saw 3\\nSkipping line 1441: expected 2 fields, saw 3\\nSkipping line 1442: expected 2 fields, saw 3\\nSkipping line 1443: expected 2 fields, saw 3\\nSkipping line 1444: expected 2 fields, saw 3\\nSkipping line 1445: expected 2 fields, saw 3\\nSkipping line 1446: expected 2 fields, saw 3\\nSkipping line 1447: expected 2 fields, saw 3\\nSkipping line 1448: expected 2 fields, saw 3\\nSkipping line 1449: expected 2 fields, saw 3\\nSkipping line 1450: expected 2 fields, saw 3\\nSkipping line 1451: expected 2 fields, saw 3\\nSkipping line 1452: expected 2 fields, saw 3\\nSkipping line 1453: expected 2 fields, saw 3\\nSkipping line 1454: expected 2 fields, saw 3\\nSkipping line 1455: expected 2 fields, saw 3\\nSkipping line 1456: expected 2 fields, saw 3\\nSkipping line 1457: expected 2 fields, saw 3\\nSkipping line 1458: expected 2 fields, saw 3\\nSkipping line 1459: expected 2 fields, saw 3\\nSkipping line 1460: expected 2 fields, saw 3\\nSkipping line 1461: expected 2 fields, saw 3\\nSkipping line 1462: expected 2 fields, saw 3\\nSkipping line 1463: expected 2 fields, saw 3\\nSkipping line 1464: expected 2 fields, saw 3\\nSkipping line 1465: expected 2 fields, saw 3\\nSkipping line 1466: expected 2 fields, saw 3\\nSkipping line 1467: expected 2 fields, saw 3\\nSkipping line 1468: expected 2 fields, saw 3\\nSkipping line 1469: expected 2 fields, saw 3\\nSkipping line 1470: expected 2 fields, saw 3\\nSkipping line 1471: expected 2 fields, saw 3\\nSkipping line 1472: expected 2 fields, saw 3\\nSkipping line 1473: expected 2 fields, saw 3\\nSkipping line 1474: expected 2 fields, saw 3\\nSkipping line 1475: expected 2 fields, saw 3\\nSkipping line 1476: expected 2 fields, saw 3\\nSkipping line 1477: expected 2 fields, saw 3\\nSkipping line 1478: expected 2 fields, saw 3\\nSkipping line 1479: expected 2 fields, saw 3\\nSkipping line 1480: expected 2 fields, saw 3\\nSkipping line 1481: expected 2 fields, saw 3\\nSkipping line 1482: expected 2 fields, saw 3\\nSkipping line 1483: expected 2 fields, saw 3\\nSkipping line 1484: expected 2 fields, saw 3\\nSkipping line 1485: expected 2 fields, saw 3\\nSkipping line 1486: expected 2 fields, saw 3\\nSkipping line 1487: expected 2 fields, saw 3\\nSkipping line 1488: expected 2 fields, saw 3\\nSkipping line 1489: expected 2 fields, saw 3\\nSkipping line 1490: expected 2 fields, saw 3\\nSkipping line 1491: expected 2 fields, saw 3\\nSkipping line 1492: expected 2 fields, saw 3\\nSkipping line 1493: expected 2 fields, saw 3\\nSkipping line 1494: expected 2 fields, saw 3\\nSkipping line 1495: expected 2 fields, saw 3\\nSkipping line 1496: expected 2 fields, saw 3\\nSkipping line 1497: expected 2 fields, saw 3\\nSkipping line 1498: expected 2 fields, saw 3\\nSkipping line 1499: expected 2 fields, saw 3\\nSkipping line 1500: expected 2 fields, saw 3\\nSkipping line 1501: expected 2 fields, saw 3\\nSkipping line 1502: expected 2 fields, saw 3\\nSkipping line 1503: expected 2 fields, saw 3\\nSkipping line 1504: expected 2 fields, saw 3\\nSkipping line 1505: expected 2 fields, saw 3\\nSkipping line 1506: expected 2 fields, saw 3\\nSkipping line 1507: expected 2 fields, saw 3\\nSkipping line 1508: expected 2 fields, saw 3\\nSkipping line 1509: expected 2 fields, saw 3\\nSkipping line 1510: expected 2 fields, saw 3\\nSkipping line 1511: expected 2 fields, saw 3\\nSkipping line 1512: expected 2 fields, saw 3\\nSkipping line 1513: expected 2 fields, saw 3\\nSkipping line 1514: expected 2 fields, saw 3\\nSkipping line 1515: expected 2 fields, saw 3\\nSkipping line 1516: expected 2 fields, saw 3\\nSkipping line 1517: expected 2 fields, saw 3\\nSkipping line 1518: expected 2 fields, saw 3\\nSkipping line 1519: expected 2 fields, saw 3\\nSkipping line 1520: expected 2 fields, saw 3\\nSkipping line 1521: expected 2 fields, saw 3\\nSkipping line 1522: expected 2 fields, saw 3\\nSkipping line 1523: expected 2 fields, saw 3\\nSkipping line 1524: expected 2 fields, saw 3\\nSkipping line 1525: expected 2 fields, saw 3\\nSkipping line 1526: expected 2 fields, saw 3\\nSkipping line 1527: expected 2 fields, saw 3\\nSkipping line 1528: expected 2 fields, saw 3\\nSkipping line 1529: expected 2 fields, saw 3\\nSkipping line 1530: expected 2 fields, saw 3\\nSkipping line 1531: expected 2 fields, saw 3\\nSkipping line 1532: expected 2 fields, saw 3\\nSkipping line 1533: expected 2 fields, saw 3\\nSkipping line 1534: expected 2 fields, saw 3\\nSkipping line 1535: expected 2 fields, saw 3\\nSkipping line 1536: expected 2 fields, saw 3\\nSkipping line 1537: expected 2 fields, saw 3\\nSkipping line 1538: expected 2 fields, saw 3\\nSkipping line 1539: expected 2 fields, saw 3\\nSkipping line 1540: expected 2 fields, saw 3\\nSkipping line 1541: expected 2 fields, saw 3\\nSkipping line 1542: expected 2 fields, saw 3\\nSkipping line 1543: expected 2 fields, saw 3\\nSkipping line 1544: expected 2 fields, saw 3\\nSkipping line 1545: expected 2 fields, saw 3\\nSkipping line 1546: expected 2 fields, saw 3\\nSkipping line 1547: expected 2 fields, saw 3\\nSkipping line 1548: expected 2 fields, saw 3\\nSkipping line 1549: expected 2 fields, saw 3\\nSkipping line 1550: expected 2 fields, saw 3\\nSkipping line 1551: expected 2 fields, saw 3\\nSkipping line 1552: expected 2 fields, saw 3\\nSkipping line 1553: expected 2 fields, saw 3\\nSkipping line 1554: expected 2 fields, saw 3\\nSkipping line 1555: expected 2 fields, saw 3\\nSkipping line 1556: expected 2 fields, saw 3\\nSkipping line 1557: expected 2 fields, saw 3\\nSkipping line 1558: expected 2 fields, saw 3\\nSkipping line 1559: expected 2 fields, saw 3\\nSkipping line 1560: expected 2 fields, saw 3\\nSkipping line 1561: expected 2 fields, saw 3\\nSkipping line 1562: expected 2 fields, saw 3\\nSkipping line 1563: expected 2 fields, saw 3\\nSkipping line 1564: expected 2 fields, saw 3\\nSkipping line 1565: expected 2 fields, saw 3\\nSkipping line 1566: expected 2 fields, saw 3\\nSkipping line 1567: expected 2 fields, saw 3\\nSkipping line 1568: expected 2 fields, saw 3\\nSkipping line 1569: expected 2 fields, saw 3\\nSkipping line 1570: expected 2 fields, saw 3\\nSkipping line 1571: expected 2 fields, saw 3\\nSkipping line 1572: expected 2 fields, saw 3\\nSkipping line 1573: expected 2 fields, saw 3\\nSkipping line 1574: expected 2 fields, saw 3\\nSkipping line 1575: expected 2 fields, saw 3\\nSkipping line 1576: expected 2 fields, saw 3\\nSkipping line 1577: expected 2 fields, saw 3\\nSkipping line 1578: expected 2 fields, saw 3\\nSkipping line 1579: expected 2 fields, saw 3\\nSkipping line 1580: expected 2 fields, saw 3\\nSkipping line 1581: expected 2 fields, saw 3\\nSkipping line 1582: expected 2 fields, saw 3\\nSkipping line 1583: expected 2 fields, saw 3\\nSkipping line 1584: expected 2 fields, saw 3\\nSkipping line 1585: expected 2 fields, saw 3\\nSkipping line 1586: expected 2 fields, saw 3\\nSkipping line 1587: expected 2 fields, saw 3\\nSkipping line 1588: expected 2 fields, saw 3\\nSkipping line 1589: expected 2 fields, saw 3\\nSkipping line 1590: expected 2 fields, saw 3\\nSkipping line 1591: expected 2 fields, saw 3\\nSkipping line 1592: expected 2 fields, saw 3\\nSkipping line 1593: expected 2 fields, saw 3\\nSkipping line 1594: expected 2 fields, saw 3\\nSkipping line 1595: expected 2 fields, saw 3\\nSkipping line 1596: expected 2 fields, saw 3\\nSkipping line 1597: expected 2 fields, saw 3\\nSkipping line 1598: expected 2 fields, saw 3\\nSkipping line 1599: expected 2 fields, saw 3\\nSkipping line 1600: expected 2 fields, saw 3\\nSkipping line 1601: expected 2 fields, saw 3\\nSkipping line 1602: expected 2 fields, saw 3\\nSkipping line 1603: expected 2 fields, saw 3\\nSkipping line 1604: expected 2 fields, saw 3\\nSkipping line 1605: expected 2 fields, saw 3\\nSkipping line 1606: expected 2 fields, saw 3\\nSkipping line 1607: expected 2 fields, saw 3\\nSkipping line 1608: expected 2 fields, saw 3\\nSkipping line 1609: expected 2 fields, saw 3\\nSkipping line 1610: expected 2 fields, saw 3\\nSkipping line 1611: expected 2 fields, saw 3\\nSkipping line 1612: expected 2 fields, saw 3\\nSkipping line 1613: expected 2 fields, saw 3\\nSkipping line 1614: expected 2 fields, saw 3\\nSkipping line 1615: expected 2 fields, saw 3\\nSkipping line 1616: expected 2 fields, saw 3\\nSkipping line 1617: expected 2 fields, saw 3\\nSkipping line 1618: expected 2 fields, saw 3\\nSkipping line 1619: expected 2 fields, saw 3\\nSkipping line 1620: expected 2 fields, saw 3\\nSkipping line 1621: expected 2 fields, saw 3\\nSkipping line 1622: expected 2 fields, saw 3\\nSkipping line 1623: expected 2 fields, saw 3\\nSkipping line 1624: expected 2 fields, saw 3\\nSkipping line 1625: expected 2 fields, saw 3\\nSkipping line 1626: expected 2 fields, saw 3\\nSkipping line 1627: expected 2 fields, saw 3\\nSkipping line 1628: expected 2 fields, saw 3\\nSkipping line 1629: expected 2 fields, saw 3\\nSkipping line 1630: expected 2 fields, saw 3\\nSkipping line 1631: expected 2 fields, saw 3\\nSkipping line 1632: expected 2 fields, saw 3\\nSkipping line 1633: expected 2 fields, saw 3\\nSkipping line 1634: expected 2 fields, saw 3\\nSkipping line 1635: expected 2 fields, saw 3\\nSkipping line 1636: expected 2 fields, saw 3\\nSkipping line 1637: expected 2 fields, saw 3\\nSkipping line 1638: expected 2 fields, saw 3\\nSkipping line 1639: expected 2 fields, saw 3\\nSkipping line 1640: expected 2 fields, saw 3\\nSkipping line 1641: expected 2 fields, saw 3\\nSkipping line 1642: expected 2 fields, saw 3\\nSkipping line 1643: expected 2 fields, saw 3\\nSkipping line 1644: expected 2 fields, saw 3\\nSkipping line 1645: expected 2 fields, saw 3\\nSkipping line 1646: expected 2 fields, saw 3\\nSkipping line 1647: expected 2 fields, saw 3\\nSkipping line 1648: expected 2 fields, saw 3\\nSkipping line 1649: expected 2 fields, saw 3\\nSkipping line 1650: expected 2 fields, saw 3\\nSkipping line 1651: expected 2 fields, saw 3\\nSkipping line 1652: expected 2 fields, saw 3\\nSkipping line 1653: expected 2 fields, saw 3\\nSkipping line 1654: expected 2 fields, saw 3\\nSkipping line 1655: expected 2 fields, saw 3\\nSkipping line 1656: expected 2 fields, saw 3\\nSkipping line 1657: expected 2 fields, saw 3\\nSkipping line 1658: expected 2 fields, saw 3\\nSkipping line 1659: expected 2 fields, saw 3\\nSkipping line 1660: expected 2 fields, saw 3\\nSkipping line 1661: expected 2 fields, saw 3\\nSkipping line 1662: expected 2 fields, saw 3\\nSkipping line 1663: expected 2 fields, saw 3\\nSkipping line 1664: expected 2 fields, saw 3\\nSkipping line 1665: expected 2 fields, saw 3\\nSkipping line 1666: expected 2 fields, saw 3\\nSkipping line 1667: expected 2 fields, saw 3\\nSkipping line 1668: expected 2 fields, saw 3\\nSkipping line 1669: expected 2 fields, saw 3\\nSkipping line 1670: expected 2 fields, saw 3\\nSkipping line 1671: expected 2 fields, saw 3\\nSkipping line 1672: expected 2 fields, saw 3\\nSkipping line 1673: expected 2 fields, saw 3\\nSkipping line 1674: expected 2 fields, saw 3\\nSkipping line 1675: expected 2 fields, saw 3\\nSkipping line 1676: expected 2 fields, saw 3\\nSkipping line 1677: expected 2 fields, saw 3\\nSkipping line 1678: expected 2 fields, saw 3\\nSkipping line 1679: expected 2 fields, saw 3\\nSkipping line 1680: expected 2 fields, saw 3\\nSkipping line 1681: expected 2 fields, saw 3\\nSkipping line 1682: expected 2 fields, saw 3\\nSkipping line 1683: expected 2 fields, saw 3\\nSkipping line 1684: expected 2 fields, saw 3\\nSkipping line 1685: expected 2 fields, saw 3\\nSkipping line 1686: expected 2 fields, saw 3\\nSkipping line 1687: expected 2 fields, saw 3\\nSkipping line 1688: expected 2 fields, saw 3\\nSkipping line 1689: expected 2 fields, saw 3\\n'\n"
     ]
    },
    {
     "data": {
      "text/html": [
       "<div>\n",
       "<style scoped>\n",
       "    .dataframe tbody tr th:only-of-type {\n",
       "        vertical-align: middle;\n",
       "    }\n",
       "\n",
       "    .dataframe tbody tr th {\n",
       "        vertical-align: top;\n",
       "    }\n",
       "\n",
       "    .dataframe thead th {\n",
       "        text-align: right;\n",
       "    }\n",
       "</style>\n",
       "<table border=\"1\" class=\"dataframe\">\n",
       "  <thead>\n",
       "    <tr style=\"text-align: right;\">\n",
       "      <th></th>\n",
       "      <th>0</th>\n",
       "      <th>1</th>\n",
       "    </tr>\n",
       "  </thead>\n",
       "  <tbody>\n",
       "    <tr>\n",
       "      <th>0</th>\n",
       "      <td>376</td>\n",
       "      <td>932</td>\n",
       "    </tr>\n",
       "    <tr>\n",
       "      <th>1</th>\n",
       "      <td>noms</td>\n",
       "      <td>sommets</td>\n",
       "    </tr>\n",
       "    <tr>\n",
       "      <th>2</th>\n",
       "      <td>0000</td>\n",
       "      <td>Abbesses</td>\n",
       "    </tr>\n",
       "    <tr>\n",
       "      <th>3</th>\n",
       "      <td>0003</td>\n",
       "      <td>Alésia</td>\n",
       "    </tr>\n",
       "    <tr>\n",
       "      <th>4</th>\n",
       "      <td>0005</td>\n",
       "      <td>Anvers</td>\n",
       "    </tr>\n",
       "    <tr>\n",
       "      <th>...</th>\n",
       "      <td>...</td>\n",
       "      <td>...</td>\n",
       "    </tr>\n",
       "    <tr>\n",
       "      <th>180</th>\n",
       "      <td>0368</td>\n",
       "      <td>Volontaires</td>\n",
       "    </tr>\n",
       "    <tr>\n",
       "      <th>181</th>\n",
       "      <td>0369</td>\n",
       "      <td>Voltaire</td>\n",
       "    </tr>\n",
       "    <tr>\n",
       "      <th>182</th>\n",
       "      <td>0370</td>\n",
       "      <td>Wagram</td>\n",
       "    </tr>\n",
       "    <tr>\n",
       "      <th>183</th>\n",
       "      <td>coord</td>\n",
       "      <td>sommets</td>\n",
       "    </tr>\n",
       "    <tr>\n",
       "      <th>184</th>\n",
       "      <td>arcs</td>\n",
       "      <td>values</td>\n",
       "    </tr>\n",
       "  </tbody>\n",
       "</table>\n",
       "<p>185 rows × 2 columns</p>\n",
       "</div>"
      ],
      "text/plain": [
       "         0            1\n",
       "0      376          932\n",
       "1     noms      sommets\n",
       "2     0000     Abbesses\n",
       "3     0003       Alésia\n",
       "4     0005       Anvers\n",
       "..     ...          ...\n",
       "180   0368  Volontaires\n",
       "181   0369     Voltaire\n",
       "182   0370       Wagram\n",
       "183  coord      sommets\n",
       "184   arcs       values\n",
       "\n",
       "[185 rows x 2 columns]"
      ]
     },
     "execution_count": 24,
     "metadata": {},
     "output_type": "execute_result"
    }
   ],
   "source": [
    "import pandas as pd\n",
    "pd.read_csv(\"./metro_complet.txt\",sep=\" \",error_bad_lines=False,header=None)"
   ]
  },
  {
   "cell_type": "code",
   "execution_count": 25,
   "metadata": {},
   "outputs": [
    {
     "data": {
      "text/html": [
       "<div>\n",
       "<style scoped>\n",
       "    .dataframe tbody tr th:only-of-type {\n",
       "        vertical-align: middle;\n",
       "    }\n",
       "\n",
       "    .dataframe tbody tr th {\n",
       "        vertical-align: top;\n",
       "    }\n",
       "\n",
       "    .dataframe thead th {\n",
       "        text-align: right;\n",
       "    }\n",
       "</style>\n",
       "<table border=\"1\" class=\"dataframe\">\n",
       "  <thead>\n",
       "    <tr style=\"text-align: right;\">\n",
       "      <th></th>\n",
       "      <th>commune</th>\n",
       "      <th>index</th>\n",
       "    </tr>\n",
       "  </thead>\n",
       "  <tbody>\n",
       "    <tr>\n",
       "      <th>2</th>\n",
       "      <td>Abbesses</td>\n",
       "      <td>0</td>\n",
       "    </tr>\n",
       "    <tr>\n",
       "      <th>3</th>\n",
       "      <td>Dumas</td>\n",
       "      <td>1</td>\n",
       "    </tr>\n",
       "    <tr>\n",
       "      <th>4</th>\n",
       "      <td>Marceau</td>\n",
       "      <td>2</td>\n",
       "    </tr>\n",
       "    <tr>\n",
       "      <th>5</th>\n",
       "      <td>Alésia</td>\n",
       "      <td>3</td>\n",
       "    </tr>\n",
       "    <tr>\n",
       "      <th>6</th>\n",
       "      <td>France</td>\n",
       "      <td>4</td>\n",
       "    </tr>\n",
       "    <tr>\n",
       "      <th>...</th>\n",
       "      <td>...</td>\n",
       "      <td>...</td>\n",
       "    </tr>\n",
       "    <tr>\n",
       "      <th>373</th>\n",
       "      <td>Militaire</td>\n",
       "      <td>371</td>\n",
       "    </tr>\n",
       "    <tr>\n",
       "      <th>374</th>\n",
       "      <td>Maisons-Alfort</td>\n",
       "      <td>372</td>\n",
       "    </tr>\n",
       "    <tr>\n",
       "      <th>375</th>\n",
       "      <td>d'Auteuil</td>\n",
       "      <td>373</td>\n",
       "    </tr>\n",
       "    <tr>\n",
       "      <th>376</th>\n",
       "      <td>Pantin</td>\n",
       "      <td>374</td>\n",
       "    </tr>\n",
       "    <tr>\n",
       "      <th>377</th>\n",
       "      <td>Marcel</td>\n",
       "      <td>375</td>\n",
       "    </tr>\n",
       "  </tbody>\n",
       "</table>\n",
       "<p>376 rows × 2 columns</p>\n",
       "</div>"
      ],
      "text/plain": [
       "            commune index\n",
       "2          Abbesses     0\n",
       "3             Dumas     1\n",
       "4           Marceau     2\n",
       "5            Alésia     3\n",
       "6            France     4\n",
       "..              ...   ...\n",
       "373       Militaire   371\n",
       "374  Maisons-Alfort   372\n",
       "375       d'Auteuil   373\n",
       "376          Pantin   374\n",
       "377          Marcel   375\n",
       "\n",
       "[376 rows x 2 columns]"
      ]
     },
     "execution_count": 25,
     "metadata": {},
     "output_type": "execute_result"
    }
   ],
   "source": [
    "file1 = open('./metro_complet.txt', 'r') \n",
    "\n",
    "Lines = file1.read() \n",
    "df=pd.DataFrame()\n",
    "l=Lines.split(\"\\n\")\n",
    "cpt=0\n",
    "while l:\n",
    "    cpt+=1\n",
    "    i=l.pop(0)\n",
    "    if i == \"coord sommets\":\n",
    "        break\n",
    "    #print(i)\n",
    "    df=df.append({\"index\":i.rsplit(\" \")[0],\"commune\":i.rsplit(\" \")[-1] },ignore_index=True)\n",
    "cpt=0\n",
    "df2=pd.DataFrame()\n",
    "while l:\n",
    "    cpt+=1\n",
    "    i=l.pop(0)\n",
    "    \n",
    "    if i == \"arcs values\":\n",
    "        #print(i)\n",
    "        break\n",
    "    #print(i)\n",
    "    df2=df2.append({\"index\":i.split(\" \")[0],\"coord\":i.split(\" \")[1],\"sommets\":i.split(\" \")[2] },ignore_index=True)\n",
    "df3=pd.DataFrame()\n",
    "while l:\n",
    "    cpt+=1\n",
    "    i=l.pop(0)\n",
    "    if i ==\"\":\n",
    "        break\n",
    "    \n",
    "    #print(i)\n",
    "    df3=df3.append({\"sommet2\":i.split(\" \")[0],\"sommet3\":i.split(\" \")[1],\"value\":i.split(\" \")[2] },ignore_index=True)\n",
    "\n",
    "    \n",
    "\n",
    "#df3\n",
    "df=df.drop([0,1])\n",
    "df[\"index\"]=df[\"index\"].apply(lambda x : str(int(x)))\n",
    "df"
   ]
  },
  {
   "cell_type": "code",
   "execution_count": 26,
   "metadata": {},
   "outputs": [],
   "source": [
    "import numpy as np\n",
    "df4=df3.copy()\n",
    "df4[\"fusion\"]=df4.apply(lambda x : sorted([x[\"sommet2\"],x[\"sommet3\"]]),axis=1)\n",
    "df4[\"fusion\"]=df4[\"fusion\"].apply(lambda x : str(x[0])+\" \"+str(x[1]))\n",
    "df4=df4.drop_duplicates(subset=[\"fusion\"])\n",
    "#df.loc[df[\"commune\"]==\"Fayette\",\"index\"].values[0]\n",
    "#df.loc[df[\"commune\"]==\"Billancourt\",\"index\"].values[0]\n",
    "edges=list(df4.apply(lambda x : (x[\"sommet2\"],x[\"sommet3\"],int(float(x[\"value\"]))),axis=1))\n",
    "vertices=list(df[\"index\"])"
   ]
  },
  {
   "cell_type": "code",
   "execution_count": 27,
   "metadata": {},
   "outputs": [],
   "source": [
    "from graph_networkx import Graph, examples\n",
    "G=Graph(vertices,edges=edges,directed=False)\n"
   ]
  },
  {
   "cell_type": "code",
   "execution_count": 28,
   "metadata": {},
   "outputs": [
    {
     "data": {
      "application/vnd.jupyter.widget-view+json": {
       "model_id": "b809539138a442119c51441703e4ad63",
       "version_major": 2,
       "version_minor": 0
      },
      "text/plain": [
       "Figure(fig_margin={'top': 60, 'bottom': 60, 'left': 60, 'right': 60}, layout=Layout(height='400px', width='400…"
      ]
     },
     "metadata": {},
     "output_type": "display_data"
    }
   ],
   "source": [
    "G.show()"
   ]
  },
  {
   "cell_type": "code",
   "execution_count": 29,
   "metadata": {},
   "outputs": [
    {
     "data": {
      "text/plain": [
       "(['Montgallet',\n",
       "  'Diderot',\n",
       "  'Faidherbe-Chaligny',\n",
       "  'Rollin',\n",
       "  'Bastille',\n",
       "  'Bastille',\n",
       "  'Marais',\n",
       "  'Ville',\n",
       "  'Châtelet',\n",
       "  'Rivoli',\n",
       "  'Louvre',\n",
       "  'Tuileries',\n",
       "  'Concorde',\n",
       "  'Clémenceau',\n",
       "  'Roosevelt',\n",
       "  'Roosevelt',\n",
       "  'Marceau',\n",
       "  'Iéna',\n",
       "  'Trocadéro',\n",
       "  'Pompe',\n",
       "  'Muette',\n",
       "  'Ranelagh',\n",
       "  'Jasmin',\n",
       "  'Auteuil',\n",
       "  'Molitor',\n",
       "  'Exelmans',\n",
       "  'Saint-Cloud',\n",
       "  'Sembat',\n",
       "  'Billancourt'],\n",
       " 1488)"
      ]
     },
     "execution_count": 29,
     "metadata": {},
     "output_type": "execute_result"
    }
   ],
   "source": [
    "def metro(depart,dest):\n",
    "    \n",
    "    dep=df.loc[df[\"commune\"]==depart,\"index\"].values[0]\n",
    "    des=df.loc[df[\"commune\"]==dest,\"index\"].values[0]\n",
    "    res=dijkstra_bonus(G, dep,des)\n",
    "    l=[df.loc[df[\"index\"]==i,\"commune\"].values[0] for i in res[0]]\n",
    "\n",
    "\n",
    "    \n",
    "    return l,res[1]\n",
    "\n",
    "metro(\"Montgallet\",\"Billancourt\")"
   ]
  },
  {
   "cell_type": "code",
   "execution_count": 30,
   "metadata": {},
   "outputs": [
    {
     "name": "stdout",
     "output_type": "stream",
     "text": [
      "59\n",
      "60\n",
      "[923, 803]\n"
     ]
    },
    {
     "data": {
      "text/plain": [
       "(['Fayette',\n",
       "  'Caumartin',\n",
       "  'Saint-Augustin',\n",
       "  'Miromesnil',\n",
       "  'Roule',\n",
       "  'Roosevelt',\n",
       "  'Marceau',\n",
       "  'Iéna',\n",
       "  'Trocadéro',\n",
       "  'Pompe',\n",
       "  'Muette',\n",
       "  'Ranelagh',\n",
       "  'Jasmin',\n",
       "  'Auteuil',\n",
       "  'Molitor',\n",
       "  'Exelmans',\n",
       "  'Saint-Cloud',\n",
       "  'Sembat',\n",
       "  'Billancourt'],\n",
       " 803)"
      ]
     },
     "execution_count": 30,
     "metadata": {},
     "output_type": "execute_result"
    }
   ],
   "source": [
    "def metro_depart_plusieur(depart,dest):\n",
    "    des=df.loc[df[\"commune\"]==dest,\"index\"].values[0]\n",
    "    dep=df.loc[df[\"commune\"]==depart,\"index\"].values\n",
    "\n",
    "    tmp= []\n",
    "    tmp2=[]\n",
    "    cpt=0\n",
    "    for i in dep:\n",
    "        print(i)\n",
    "        \n",
    "        res=dijkstra_bonus(G, i,des)\n",
    "        tmp.append(res)\n",
    "        tmp2.append(res[1])\n",
    "        cpt+=1\n",
    "    index = tmp2.index(min(tmp2))\n",
    "    res=tmp[index]\n",
    "    print(tmp2)\n",
    "    \n",
    "        \n",
    "    \n",
    "    l=[df.loc[df[\"index\"]==i,\"commune\"].values[0] for i in res[0]]\n",
    "\n",
    "\n",
    "    \n",
    "    return l,res[1]\n",
    "\n",
    "metro_depart_plusieur(\"Fayette\",\"Billancourt\")"
   ]
  },
  {
   "cell_type": "code",
   "execution_count": 31,
   "metadata": {},
   "outputs": [
    {
     "name": "stdout",
     "output_type": "stream",
     "text": [
      "59 13\n",
      "59 14\n",
      "60 13\n",
      "60 14\n",
      "[575, 455, 655, 535]\n"
     ]
    },
    {
     "data": {
      "text/plain": [
       "(['Fayette',\n",
       "  'Peletier',\n",
       "  'Cadet',\n",
       "  'Poissonnière',\n",
       "  \"l'Est\",\n",
       "  \"l'Est\",\n",
       "  'Nord',\n",
       "  'Rochechouart'],\n",
       " 455)"
      ]
     },
     "execution_count": 31,
     "metadata": {},
     "output_type": "execute_result"
    }
   ],
   "source": [
    "def metro_depart_arrive_plusieur(depart,dest):\n",
    "    des=df.loc[df[\"commune\"]==dest,\"index\"].values\n",
    "    dep=df.loc[df[\"commune\"]==depart,\"index\"].values\n",
    "\n",
    "    tmp= []\n",
    "    tmp2=[]\n",
    "    cpt=0\n",
    "    for i in dep:\n",
    "        for j in des:\n",
    "        \n",
    "            print(i,j)\n",
    "\n",
    "            res=dijkstra_bonus(G, i,j)\n",
    "            tmp.append(res)\n",
    "            tmp2.append(res[1])\n",
    "            cpt+=1\n",
    "    index = tmp2.index(min(tmp2))\n",
    "    res=tmp[index]\n",
    "    print(tmp2)\n",
    "    \n",
    "        \n",
    "    \n",
    "    l=[df.loc[df[\"index\"]==i,\"commune\"].values[0] for i in res[0]]\n",
    "\n",
    "\n",
    "    \n",
    "    return l,res[1]\n",
    "\n",
    "metro_depart_arrive_plusieur(\"Fayette\",\"Rochechouart\")"
   ]
  },
  {
   "cell_type": "code",
   "execution_count": null,
   "metadata": {},
   "outputs": [],
   "source": []
  },
  {
   "cell_type": "code",
   "execution_count": null,
   "metadata": {},
   "outputs": [],
   "source": []
  }
 ],
 "metadata": {
  "kernelspec": {
   "display_name": "Python 3",
   "language": "python",
   "name": "python3"
  },
  "language_info": {
   "codemirror_mode": {
    "name": "ipython",
    "version": 3
   },
   "file_extension": ".py",
   "mimetype": "text/x-python",
   "name": "python",
   "nbconvert_exporter": "python",
   "pygments_lexer": "ipython3",
   "version": "3.7.6"
  },
  "toc": {
   "base_numbering": 1,
   "nav_menu": {},
   "number_sections": true,
   "sideBar": true,
   "skip_h1_title": false,
   "title_cell": "Table of Contents",
   "title_sidebar": "Contents",
   "toc_cell": false,
   "toc_position": {},
   "toc_section_display": true,
   "toc_window_display": false
  },
  "varInspector": {
   "cols": {
    "lenName": 16,
    "lenType": 16,
    "lenVar": 40
   },
   "kernels_config": {
    "python": {
     "delete_cmd_postfix": "",
     "delete_cmd_prefix": "del ",
     "library": "var_list.py",
     "varRefreshCmd": "print(var_dic_list())"
    },
    "r": {
     "delete_cmd_postfix": ") ",
     "delete_cmd_prefix": "rm(",
     "library": "var_list.r",
     "varRefreshCmd": "cat(var_dic_list()) "
    }
   },
   "types_to_exclude": [
    "module",
    "function",
    "builtin_function_or_method",
    "instance",
    "_Feature"
   ],
   "window_display": false
  }
 },
 "nbformat": 4,
 "nbformat_minor": 4
}
