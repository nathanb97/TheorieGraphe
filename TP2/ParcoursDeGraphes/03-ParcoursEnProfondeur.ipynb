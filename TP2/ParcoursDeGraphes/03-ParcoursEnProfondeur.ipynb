{
 "cells": [
  {
   "cell_type": "markdown",
   "metadata": {
    "deletable": false,
    "editable": false,
    "nbgrader": {
     "cell_type": "markdown",
     "checksum": "39aa947ca2ab816d551f808fa9fa52cc",
     "grade": false,
     "grade_id": "cell-916f6e1be3f587ad",
     "locked": true,
     "points": 3,
     "schema_version": 3,
     "solution": false,
     "task": true
    },
    "slideshow": {
     "slide_type": "subslide"
    }
   },
   "source": [
    "## [Parcours en profondeur](https://fr.wikipedia.org/wiki/Algorithme_de_parcours_en_profondeur)\n",
    "\n",
    "Dans cette feuille, nous étudierons ce qu'il advient lorsque l'on remplace la file `todo` de notre algorithme de parcours en largeur par une pile.\n",
    "\n",
    "Implanter l'algorithme de parcours en profondeur par une fonction récursive comme sur la page wikipedia, et comparer les résultats des deux algorithmes sur quelques exemples bien choisis."
   ]
  },
  {
   "cell_type": "code",
   "execution_count": 1,
   "metadata": {},
   "outputs": [],
   "source": [
    "from graph import Graph, examples\n",
    "C3 = examples.C3()\n",
    "#parcours_en_largeur(C3, 0)"
   ]
  },
  {
   "cell_type": "code",
   "execution_count": 2,
   "metadata": {},
   "outputs": [
    {
     "name": "stdout",
     "output_type": "stream",
     "text": [
      "Parcours de C3\n",
      "0\n",
      "1\n",
      "2\n",
      "Parcours de T3\n",
      "0\n",
      "1\n",
      "2\n",
      "Parcours de G\n",
      "A\n",
      "B\n",
      "C\n",
      "D\n",
      "H\n",
      "F\n",
      "G\n",
      "E\n"
     ]
    }
   ],
   "source": [
    "\n",
    "def explorer(graphe,sommet):\n",
    "    marque[sommet] = 1\n",
    "    print(sommet)\n",
    "    for k in graphe.neighbors_out(sommet):\n",
    "        if k not in marque:\n",
    "            explorer(graphe,k)\n",
    "def parcoursProfondeur(graphe):\n",
    "    global marque\n",
    "    marque = {}\n",
    "    for s in graphe.vertices():\n",
    "        if s  not in marque:\n",
    "            explorer(graphe,s)\n",
    "\n",
    "C3 = examples.C3()\n",
    "print(\"Parcours de C3\")\n",
    "parcoursProfondeur(C3)\n",
    "print(\"Parcours de T3\")\n",
    "T3 = examples.T3()\n",
    "parcoursProfondeur(T3)\n",
    "print(\"Parcours de G\")\n",
    "G = examples.parcours_directed()\n",
    "parcoursProfondeur(G)\n"
   ]
  },
  {
   "cell_type": "code",
   "execution_count": null,
   "metadata": {},
   "outputs": [],
   "source": []
  }
 ],
 "metadata": {
  "kernelspec": {
   "display_name": "Python 3",
   "language": "python",
   "name": "python3"
  },
  "language_info": {
   "codemirror_mode": {
    "name": "ipython",
    "version": 3
   },
   "file_extension": ".py",
   "mimetype": "text/x-python",
   "name": "python",
   "nbconvert_exporter": "python",
   "pygments_lexer": "ipython3",
   "version": "3.7.6"
  },
  "toc": {
   "base_numbering": 1,
   "nav_menu": {},
   "number_sections": true,
   "sideBar": true,
   "skip_h1_title": false,
   "title_cell": "Table of Contents",
   "title_sidebar": "Contents",
   "toc_cell": false,
   "toc_position": {},
   "toc_section_display": true,
   "toc_window_display": false
  },
  "varInspector": {
   "cols": {
    "lenName": 16,
    "lenType": 16,
    "lenVar": 40
   },
   "kernels_config": {
    "python": {
     "delete_cmd_postfix": "",
     "delete_cmd_prefix": "del ",
     "library": "var_list.py",
     "varRefreshCmd": "print(var_dic_list())"
    },
    "r": {
     "delete_cmd_postfix": ") ",
     "delete_cmd_prefix": "rm(",
     "library": "var_list.r",
     "varRefreshCmd": "cat(var_dic_list()) "
    }
   },
   "types_to_exclude": [
    "module",
    "function",
    "builtin_function_or_method",
    "instance",
    "_Feature"
   ],
   "window_display": false
  }
 },
 "nbformat": 4,
 "nbformat_minor": 4
}
