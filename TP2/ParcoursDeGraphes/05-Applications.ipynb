{
 "cells": [
  {
   "cell_type": "markdown",
   "metadata": {
    "deletable": false,
    "editable": false,
    "nbgrader": {
     "cell_type": "markdown",
     "checksum": "e1ca35f96e5c4f104595b0ba48fda2ea",
     "grade": false,
     "grade_id": "cell-7fa94557a9528c30",
     "locked": true,
     "schema_version": 3,
     "solution": false,
     "task": false
    }
   },
   "source": [
    "# Applications"
   ]
  },
  {
   "cell_type": "markdown",
   "metadata": {
    "deletable": false,
    "editable": false,
    "nbgrader": {
     "cell_type": "markdown",
     "checksum": "57d7bfa2939260a132e6db778d0921f4",
     "grade": false,
     "grade_id": "cell-0bf805f0964bb953",
     "locked": true,
     "schema_version": 3,
     "solution": false,
     "task": false
    }
   },
   "source": [
    "## Composantes connexes\n",
    "Soit $G$ un graphe non orienté. La composante connexe d'un sommet $s$ de $G$ est l'ensemble des sommets atteignables depuis $s$ en suivant un chemin dans $G$."
   ]
  },
  {
   "cell_type": "markdown",
   "metadata": {
    "deletable": false,
    "editable": false,
    "nbgrader": {
     "cell_type": "markdown",
     "checksum": "c02bfb32f1b13a9c8f17fbf72bb42878",
     "grade": false,
     "grade_id": "cell-e6440dd43c4d8889",
     "locked": true,
     "schema_version": 3,
     "solution": false,
     "task": false
    }
   },
   "source": [
    "**Exercice**\n",
    "1. Décrire un algorithme pour calculer toutes les composantes connexes d'un graphe non orienté\n",
    "2. (Bonus) Implanter cet algorithme et visualiser son exécution"
   ]
  },
  {
   "cell_type": "markdown",
   "metadata": {
    "deletable": false,
    "nbgrader": {
     "cell_type": "markdown",
     "checksum": "a67eedf3c68bdf5069509273c742f389",
     "grade": true,
     "grade_id": "cell-7edc9912d649c82e",
     "locked": false,
     "points": 2,
     "schema_version": 3,
     "solution": true,
     "task": false
    }
   },
   "source": [
    "### 1°)\n",
    "Le parcours en profondeur permet d'avoir une composante connexe d'un sommet s d'un graphe.\n",
    "### 2°)\n"
   ]
  },
  {
   "cell_type": "code",
   "execution_count": 1,
   "metadata": {},
   "outputs": [
    {
     "name": "stdout",
     "output_type": "stream",
     "text": [
      "H\n",
      "C\n",
      "A\n",
      "B\n",
      "F\n",
      "I\n",
      "J\n",
      "E\n",
      "G\n",
      "D\n"
     ]
    }
   ],
   "source": [
    "from graph import Graph, examples\n",
    "C3 = examples.dijkstra()\n",
    "def explorer(graphe,sommet):\n",
    "    marque[sommet] = 1\n",
    "    print(sommet)\n",
    "    for k in graphe.neighbors_out(sommet):\n",
    "        if k not in marque:\n",
    "            explorer(graphe,k)\n",
    "    return marque\n",
    "\n",
    "def Affcomposanteconnexe(graphe,sommet):\n",
    "    global marque\n",
    "    marque = {}\n",
    "    for s in graphe.neighbors_out(sommet):\n",
    "        if s not in marque:\n",
    "            explorer(graphe,s)\n",
    "Affcomposanteconnexe(C3, \"D\")\n"
   ]
  },
  {
   "cell_type": "code",
   "execution_count": 2,
   "metadata": {},
   "outputs": [
    {
     "data": {
      "text/plain": [
       "('A', 'B', 'C', 'D', 'E', 'F', 'G', 'H', 'I', 'J')"
      ]
     },
     "execution_count": 2,
     "metadata": {},
     "output_type": "execute_result"
    }
   ],
   "source": [
    "C3.vertices()"
   ]
  },
  {
   "cell_type": "code",
   "execution_count": 3,
   "metadata": {},
   "outputs": [
    {
     "data": {
      "application/vnd.jupyter.widget-view+json": {
       "model_id": "bfcdf92c278a4f11ac0173d3e5cef1f7",
       "version_major": 2,
       "version_minor": 0
      },
      "text/plain": [
       "Figure(fig_margin={'top': 60, 'bottom': 60, 'left': 60, 'right': 60}, layout=Layout(height='400px', width='400…"
      ]
     },
     "metadata": {},
     "output_type": "display_data"
    }
   ],
   "source": [
    "C3.show()"
   ]
  },
  {
   "cell_type": "markdown",
   "metadata": {
    "deletable": false,
    "editable": false,
    "nbgrader": {
     "cell_type": "markdown",
     "checksum": "2c402bc596f9c6a3c36d6e43ddaa23ab",
     "grade": false,
     "grade_id": "cell-42d362e08da6e54f",
     "locked": true,
     "schema_version": 3,
     "solution": false,
     "task": false
    }
   },
   "source": [
    "## Généralisation\n",
    "\n",
    "**Exercice**:\n",
    "\n",
    "1. Généraliser la fonction `parcours` de la fiche [01-ParcoursDeGraphe.ipynb](01-ParcoursDeGraphe.ipynb) pour qu'elle prenne en argument la *fonction de voisinage* du graphe plutôt que le graphe lui-même."
   ]
  },
  {
   "cell_type": "code",
   "execution_count": 8,
   "metadata": {
    "deletable": false,
    "nbgrader": {
     "cell_type": "code",
     "checksum": "d854cb47b574d5376dc79d7092fb4c5a",
     "grade": false,
     "grade_id": "cell-203cbf9059dad7fa",
     "locked": false,
     "schema_version": 3,
     "solution": true,
     "task": false
    }
   },
   "outputs": [],
   "source": [
    "def parcours_fonction(neighbors_out, u):\n",
    "    marked = {u} # L'ensemble des sommets déjà rencontrés\n",
    "    todo   = {u} # L'ensemble des sommets déjà rencontrés, mais pas encore traités\n",
    "    \n",
    "    while todo:\n",
    "        # Invariants:\n",
    "        # - Si `v` est dans `marked`, alors il y a un chemin de `u` à `v`\n",
    "        # - Si `v` est dans `marked` et pas dans `todo`\n",
    "        #   alors tous les voisins de `v` sont dans dans `marked`\n",
    "        v = todo.pop()\n",
    "        for w in neighbors_out(v):\n",
    "            if w not in marked:\n",
    "                marked.add(w)\n",
    "                todo.add(w)\n",
    "    return marked\n"
   ]
  },
  {
   "cell_type": "markdown",
   "metadata": {
    "deletable": false,
    "editable": false,
    "nbgrader": {
     "cell_type": "markdown",
     "checksum": "fc7b0298a761ae8837b8a00c8d265498",
     "grade": false,
     "grade_id": "cell-035bdd195a5c981c",
     "locked": true,
     "schema_version": 3,
     "solution": false,
     "task": false
    }
   },
   "source": [
    "2. Testez votre fonction sur l'exemple suivant.  \n",
    "   **Indication**: étant donné un graphe `G` tel que implanté précédément, la fonction `voisins` requise par `distance` peut être construite comme suit:"
   ]
  },
  {
   "cell_type": "code",
   "execution_count": 9,
   "metadata": {
    "deletable": false,
    "editable": false,
    "nbgrader": {
     "cell_type": "code",
     "checksum": "a42d4e38ca718e7233132c2a6daeaea7",
     "grade": false,
     "grade_id": "cell-8c06644285f181e9",
     "locked": true,
     "schema_version": 3,
     "solution": false,
     "task": false
    }
   },
   "outputs": [],
   "source": [
    "from graph import examples\n",
    "G = examples.parcours_directed()\n",
    "voisins = G.neighbors_out"
   ]
  },
  {
   "cell_type": "code",
   "execution_count": 10,
   "metadata": {
    "deletable": false,
    "editable": false,
    "nbgrader": {
     "cell_type": "code",
     "checksum": "39c8e1a1631b46bbbab4d2018a148059",
     "grade": true,
     "grade_id": "cell-c0385743a593b35c",
     "locked": true,
     "points": 1,
     "schema_version": 3,
     "solution": false,
     "task": false
    }
   },
   "outputs": [],
   "source": [
    "assert parcours_fonction(voisins, 'D') == {'D', 'F', 'G', 'H'}"
   ]
  },
  {
   "cell_type": "markdown",
   "metadata": {
    "deletable": false,
    "editable": false,
    "nbgrader": {
     "cell_type": "markdown",
     "checksum": "90330a5531918591dce76048c8906986",
     "grade": false,
     "grade_id": "cell-710d5a14b2c7464c",
     "locked": true,
     "schema_version": 3,
     "solution": false,
     "task": false
    }
   },
   "source": [
    "2. Reprenez de même tous les tests de la fiche 01 avec votre nouvelle fonction"
   ]
  },
  {
   "cell_type": "code",
   "execution_count": 11,
   "metadata": {},
   "outputs": [],
   "source": [
    "H = examples.disconnected()\n",
    "H=H.neighbors_out\n",
    "assert sorted(parcours_fonction(H, 1)) == [1, 2, 5]\n",
    "assert sorted(parcours_fonction(H, 3)) == [3, 4]\n",
    "H = examples.cours_1_G()\n",
    "H=H.neighbors_out\n",
    "\n",
    "assert sorted(parcours_fonction(H, 3)) == [0, 1, 2, 3, 4, 5]\n",
    "H = examples.cours_1_reseau()\n",
    "G = examples.parcours_directed()\n",
    "\n",
    "G=G.neighbors_out\n",
    "assert parcours_fonction(G, \"B\") == {'B', 'C', 'D', 'F', 'G', 'H'}\n",
    "assert parcours_fonction(G, \"A\") == {'A', 'B', 'C', 'D', 'F', 'G', 'H'}"
   ]
  },
  {
   "cell_type": "markdown",
   "metadata": {
    "deletable": false,
    "editable": false,
    "nbgrader": {
     "cell_type": "markdown",
     "checksum": "a6945c3deb4e4ca66369f2f53204b833",
     "grade": false,
     "grade_id": "cell-762972522930912c",
     "locked": true,
     "schema_version": 3,
     "solution": false,
     "task": false
    }
   },
   "source": [
    "## Application: ensembles définis récursivement\n",
    "De nombreux ensembles mathématiques sont définis en donnant quelques éléments initiaux, puis en applicant récursivement un processus permettant de produire de nouveaux éléments à partir d'éléments déjà présents. Par exemple, l'ensemble des entiers naturels est construit à partir de $0$ et de la fonction successeur $x \\mapsto x+1$."
   ]
  },
  {
   "cell_type": "markdown",
   "metadata": {
    "deletable": false,
    "editable": false,
    "nbgrader": {
     "cell_type": "markdown",
     "checksum": "cbca65202ae74c22f9240f26e8dccf8b",
     "grade": false,
     "grade_id": "cell-2aa4625a03b106d8",
     "locked": true,
     "schema_version": 3,
     "solution": false,
     "task": false
    },
    "slideshow": {
     "slide_type": "subslide"
    }
   },
   "source": [
    "**Définition:**\n",
    "\n",
    "Soit $E$ un ensemble, $R\\subset E$ un sous ensemble fini, et $f$ une fonction associant à chaque élément de $E$ un sous-ensemble fini de $E$. L'ensemble $f$ défini récursivement par $R$ et $f$ est le plus petit sous-ensemble de $E$ contenant $R$ et *stable* par $f$: si $e\\in F$ alors $f(e)\\subset F$."
   ]
  },
  {
   "cell_type": "markdown",
   "metadata": {
    "deletable": false,
    "editable": false,
    "nbgrader": {
     "cell_type": "markdown",
     "checksum": "adc27573896f58c2f56dda0ae711f507",
     "grade": false,
     "grade_id": "cell-d00c1b613f9e6da2",
     "locked": true,
     "points": 2,
     "schema_version": 3,
     "solution": false,
     "task": true
    },
    "slideshow": {
     "slide_type": "subslide"
    }
   },
   "source": [
    "**Exercice**\n",
    "\n",
    "Décrire les ensembles définis récursivement obtenus dans chacun des cas suivants:\n",
    "- $E=\\mathbb N$, $R=\\{1\\}$, $f(e) = \\{ e + 2 \\}$"
   ]
  },
  {
   "cell_type": "markdown",
   "metadata": {},
   "source": [
    "e=\\{1\\} un sous ensemble de E<br>\n",
    "f(1)=(1+2)= $3\\subset E$<br>\n",
    "f(3)=5<br>\n",
    ".<br>\n",
    ".<br>\n",
    ".<br>\n",
    "f(n)=n+2<br>\n",
    "Represente nombre impair<br>\n",
    "(Chemin des sommets de nombre impair.)\n",
    "\n"
   ]
  },
  {
   "cell_type": "markdown",
   "metadata": {},
   "source": []
  },
  {
   "cell_type": "markdown",
   "metadata": {
    "deletable": false,
    "editable": false,
    "nbgrader": {
     "cell_type": "markdown",
     "checksum": "6e79eae62eebb1373e366aa7a05f932e",
     "grade": false,
     "grade_id": "cell-f933b4edc1e0ea1c",
     "locked": true,
     "schema_version": 3,
     "solution": false,
     "task": false
    },
    "slideshow": {
     "slide_type": "subslide"
    }
   },
   "source": [
    "- $E=\\mathbb N$, $R=\\{1\\}$, $f(e) = \\{ 2e, e+3 \\}$"
   ]
  },
  {
   "cell_type": "code",
   "execution_count": 12,
   "metadata": {},
   "outputs": [
    {
     "ename": "SyntaxError",
     "evalue": "invalid syntax (<ipython-input-12-a3a557965a19>, line 4)",
     "output_type": "error",
     "traceback": [
      "\u001b[0;36m  File \u001b[0;32m\"<ipython-input-12-a3a557965a19>\"\u001b[0;36m, line \u001b[0;32m4\u001b[0m\n\u001b[0;31m    Cela represente les chiffre N a part les multiple de 3\u001b[0m\n\u001b[0m                  ^\u001b[0m\n\u001b[0;31mSyntaxError\u001b[0m\u001b[0;31m:\u001b[0m invalid syntax\n"
     ]
    }
   ],
   "source": [
    "f(1)={2,4}\n",
    "f(2)={4,5}----f(4)={8,7}\n",
    "f(4)={8,7}----f(5)={10,8}----f(6)={12,9}----f(4)={8,7}\n",
    "Cela represente les chiffre N a part les multiple de 3"
   ]
  },
  {
   "cell_type": "markdown",
   "metadata": {},
   "source": []
  },
  {
   "cell_type": "markdown",
   "metadata": {
    "deletable": false,
    "editable": false,
    "nbgrader": {
     "cell_type": "markdown",
     "checksum": "6ce0acf77084052746a0534d183bfe83",
     "grade": false,
     "grade_id": "cell-80d54c24985d2670",
     "locked": true,
     "schema_version": 3,
     "solution": false,
     "task": false
    },
    "slideshow": {
     "slide_type": "subslide"
    }
   },
   "source": [
    "- $E$: listes, $R=\\{()\\}$, $f(u)$: rajouter $0$ ou $1$ à la fin du $u$"
   ]
  },
  {
   "cell_type": "code",
   "execution_count": 13,
   "metadata": {},
   "outputs": [
    {
     "ename": "SyntaxError",
     "evalue": "invalid token (<ipython-input-13-c5996a6877af>, line 1)",
     "output_type": "error",
     "traceback": [
      "\u001b[0;36m  File \u001b[0;32m\"<ipython-input-13-c5996a6877af>\"\u001b[0;36m, line \u001b[0;32m1\u001b[0m\n\u001b[0;31m    f()={0ou 1}\u001b[0m\n\u001b[0m          ^\u001b[0m\n\u001b[0;31mSyntaxError\u001b[0m\u001b[0;31m:\u001b[0m invalid token\n"
     ]
    }
   ],
   "source": [
    "f()={0ou 1}\n",
    "f(0)={01ou 00}----f(1)={10 ou 01}\n",
    "Cela represente toutes les combinaisons du code binaire."
   ]
  },
  {
   "cell_type": "markdown",
   "metadata": {},
   "source": []
  },
  {
   "cell_type": "markdown",
   "metadata": {
    "deletable": false,
    "editable": false,
    "nbgrader": {
     "cell_type": "markdown",
     "checksum": "20aaa9bc3c2caa27cea7d91dad7e3f3b",
     "grade": false,
     "grade_id": "cell-50d84a473d6803b6",
     "locked": true,
     "schema_version": 3,
     "solution": false,
     "task": false
    },
    "slideshow": {
     "slide_type": "subslide"
    }
   },
   "source": [
    "- $E$: listes, $R=\\{(1,2,3,2,1)\\}$, $f(u)$: supprimer la première ou dernière lettre de $u$"
   ]
  },
  {
   "cell_type": "code",
   "execution_count": 14,
   "metadata": {},
   "outputs": [],
   "source": [
    "def f(l):\n",
    "    if(l==[]):\n",
    "        return\n",
    "    print(l)\n",
    "    l1=l.copy()\n",
    "    l2=l.copy()\n",
    "    l1.pop(0)\n",
    "    l2.pop(-1)\n",
    "    f(l1)\n",
    "    f(l2)\n"
   ]
  },
  {
   "cell_type": "code",
   "execution_count": 15,
   "metadata": {},
   "outputs": [
    {
     "ename": "SyntaxError",
     "evalue": "invalid syntax (<ipython-input-15-c91ee2596e91>, line 1)",
     "output_type": "error",
     "traceback": [
      "\u001b[0;36m  File \u001b[0;32m\"<ipython-input-15-c91ee2596e91>\"\u001b[0;36m, line \u001b[0;32m1\u001b[0m\n\u001b[0;31m    f((1,2,3,2,1))={(2,3,2,1)ou(1,2,3,2) }\u001b[0m\n\u001b[0m                              ^\u001b[0m\n\u001b[0;31mSyntaxError\u001b[0m\u001b[0;31m:\u001b[0m invalid syntax\n"
     ]
    }
   ],
   "source": [
    "f((1,2,3,2,1))={(2,3,2,1)ou(1,2,3,2) }\n",
    "f((2,3,2,1))={(2,3,2)ou(3,2,1) }----f(1,2,3,2)={(2,3,2) ou (1,2,3)}"
   ]
  },
  {
   "cell_type": "markdown",
   "metadata": {},
   "source": [
    "Cela represente les nombres (1,2,3,2,1) dans le meme ordre mais avec n'importe quel de ces nombres<br>\n",
    "Ex:<br>\n",
    "1.2.3.2.1<br>\n",
    "1.2.3.2<br>\n",
    "1.2.3<br>\n",
    "1.2<br>\n",
    "1<br>\n",
    "\n"
   ]
  },
  {
   "cell_type": "markdown",
   "metadata": {},
   "source": []
  },
  {
   "cell_type": "code",
   "execution_count": 16,
   "metadata": {},
   "outputs": [
    {
     "data": {
      "text/plain": [
       "[[1, 1, 1, 1, 1, 1],\n",
       " [2, 1, 1, 1, 1],\n",
       " [1, 2, 1, 1, 1],\n",
       " [1, 1, 2, 1, 1],\n",
       " [1, 1, 1, 2, 1],\n",
       " [1, 1, 1, 1, 2],\n",
       " [3, 1, 1, 1],\n",
       " [2, 2, 1, 1],\n",
       " [2, 1, 2, 1],\n",
       " [2, 1, 1, 2],\n",
       " [1, 3, 1, 1],\n",
       " [1, 2, 2, 1],\n",
       " [1, 2, 1, 2],\n",
       " [1, 1, 3, 1],\n",
       " [1, 1, 2, 2],\n",
       " [1, 1, 1, 3],\n",
       " [4, 1, 1],\n",
       " [3, 2, 1],\n",
       " [3, 1, 2],\n",
       " [2, 3, 1],\n",
       " [2, 2, 2],\n",
       " [2, 1, 3],\n",
       " [1, 4, 1],\n",
       " [1, 3, 2],\n",
       " [1, 2, 3],\n",
       " [1, 1, 4],\n",
       " [5, 1],\n",
       " [4, 2],\n",
       " [3, 3],\n",
       " [2, 4],\n",
       " [1, 5],\n",
       " [6]]"
      ]
     },
     "execution_count": 16,
     "metadata": {},
     "output_type": "execute_result"
    }
   ],
   "source": [
    "def f(l):\n",
    "    res=[]\n",
    "    for j in range(0,len(l)):\n",
    "        if(j+1>=len(l)):\n",
    "            break\n",
    "        new=l.copy()\n",
    "        new[j]+=new[j+1]\n",
    "        new.pop(j+1)\n",
    "        #print(\"new=\",new,\"res\",res)\n",
    "        if new not in res:\n",
    "\n",
    "            res.append(new)\n",
    "    return res\n",
    "def frecur(l):\n",
    "    #print(l,\"\\n\\n\\n\")\n",
    "    res=[]\n",
    "    for i in l:\n",
    "        #print(\"i=\",i,\"res\",res,\"fi\",f(i))\n",
    "        fi=f(i)\n",
    "        der=fi[-1]\n",
    "        j=0\n",
    "        while j<len(fi):\n",
    "            if fi[j] in res:\n",
    "                #print(\"diiiiidifii\",fi[j],res)\n",
    "                fi.pop(j)\n",
    "            j+=1\n",
    "        \n",
    "\n",
    "            \n",
    "        res+=fi\n",
    "    if len(res[0])==1:\n",
    "        return res\n",
    "    fi=frecur(res)\n",
    "    j=0\n",
    "    \n",
    "    while j<len(fi):\n",
    "        if fi[j] in res:\n",
    "            fi.pop(j)\n",
    "        j+=1\n",
    "    res=res+fi\n",
    "    d=[]\n",
    "    i=0\n",
    "    while i<len(res):\n",
    "        if res[i] not in d:\n",
    "            d.append(res[i])\n",
    "        i+=1\n",
    "        \n",
    "    return d\n",
    "def C_n(l):\n",
    "    return l+frecur(l)\n",
    "l=f([[1,1,1,1,1]])\n",
    "C_n([[1,1,1,1,1,1]])"
   ]
  },
  {
   "cell_type": "markdown",
   "metadata": {},
   "source": []
  },
  {
   "cell_type": "markdown",
   "metadata": {
    "deletable": false,
    "editable": false,
    "nbgrader": {
     "cell_type": "markdown",
     "checksum": "c5b1ed41608ab4f65a516468bb0de780",
     "grade": false,
     "grade_id": "cell-87e84eed2d08ea7e",
     "locked": true,
     "schema_version": 3,
     "solution": false,
     "task": false
    },
    "slideshow": {
     "slide_type": "subslide"
    }
   },
   "source": [
    "**Exercice**"
   ]
  },
  {
   "cell_type": "markdown",
   "metadata": {
    "deletable": false,
    "editable": false,
    "nbgrader": {
     "cell_type": "markdown",
     "checksum": "6d60ce38c045b0e89a94564e7d71ac90",
     "grade": false,
     "grade_id": "cell-08700a3e88cf3428",
     "locked": true,
     "schema_version": 3,
     "solution": false,
     "task": false
    }
   },
   "source": [
    "Soit $C_n$ l'ensemble récursivement défini par:\n",
    "- $R=\\{ (\\underbrace{1,1,\\cdots,1}_n)\\}$\n",
    "- $f$ qui a une liste associe toute les listes obtenues en regroupant et sommant deux entrées consécutives<br>\n",
    "Par exemple, $f((2,3,1,1)) = \\{(5,1,1), (2,4,1), (2,3,2)\\}$"
   ]
  },
  {
   "cell_type": "markdown",
   "metadata": {
    "deletable": false,
    "editable": false,
    "nbgrader": {
     "cell_type": "markdown",
     "checksum": "61e21b4cd0faaa4a129c2354934dc58b",
     "grade": false,
     "grade_id": "cell-55b16a3d76390cbb",
     "locked": true,
     "schema_version": 3,
     "solution": false,
     "task": false
    }
   },
   "source": [
    "- Calculer à la main les **quatre** éléments de $C_3$, sans oublier $(4)$!\n",
    "- Calculer avec la machine tous les éléments de $C_6$.\n",
    "- Combien y en a t'il?\n",
    "\n",
    "- Même chose pour $C_1,C_2,C_3,C_4,C_5$.\n",
    "- Que conjecturez vous?\n",
    "- Pouvez vous le prouver?"
   ]
  },
  {
   "cell_type": "markdown",
   "metadata": {
    "deletable": false,
    "nbgrader": {
     "cell_type": "markdown",
     "checksum": "ed37ee81d38e7d24c6ceaf8ade1addc3",
     "grade": true,
     "grade_id": "cell-a16f2358ab641611",
     "locked": false,
     "points": 2,
     "schema_version": 3,
     "solution": true,
     "task": false
    }
   },
   "source": [
    "YOUR ANSWER HERE"
   ]
  },
  {
   "cell_type": "markdown",
   "metadata": {
    "deletable": false,
    "editable": false,
    "nbgrader": {
     "cell_type": "markdown",
     "checksum": "3cae93e9b4d8f17083111e89058f309f",
     "grade": false,
     "grade_id": "cell-c619ca94679e9fbb",
     "locked": true,
     "schema_version": 3,
     "solution": false,
     "task": false
    }
   },
   "source": [
    "**Exercice** (bonus)\n",
    "Une *permutation* est une liste d'entiers telle que, si $n$ est sa longueur, alors tous les entiers de $1$ à $n$ apparaissent exactement une fois. Décrire l'ensemble des permutations comme un ensemble énuméré. Utiliser cela pour lister toutes les permutations de longueur $n\\leq 6$"
   ]
  },
  {
   "cell_type": "markdown",
   "metadata": {
    "deletable": false,
    "nbgrader": {
     "cell_type": "markdown",
     "checksum": "a61c445d6a4530d5f08fc1ff487f5b7d",
     "grade": true,
     "grade_id": "cell-629cf4c8130929e4",
     "locked": false,
     "points": 1,
     "schema_version": 3,
     "solution": true,
     "task": false
    }
   },
   "source": [
    "YOUR ANSWER HERE"
   ]
  },
  {
   "cell_type": "code",
   "execution_count": 17,
   "metadata": {},
   "outputs": [
    {
     "ename": "SyntaxError",
     "evalue": "invalid character in identifier (<ipython-input-17-0cc1b1640a16>, line 1)",
     "output_type": "error",
     "traceback": [
      "\u001b[0;36m  File \u001b[0;32m\"<ipython-input-17-0cc1b1640a16>\"\u001b[0;36m, line \u001b[0;32m1\u001b[0m\n\u001b[0;31m    1°)Calculer à la main les quatre éléments de  𝐶3 , sans oublier  (4) !\u001b[0m\n\u001b[0m     ^\u001b[0m\n\u001b[0;31mSyntaxError\u001b[0m\u001b[0;31m:\u001b[0m invalid character in identifier\n"
     ]
    }
   ],
   "source": [
    "1°)Calculer à la main les quatre éléments de  𝐶3 , sans oublier  (4) !\n",
    "[[2, 1], [1, 2]]\n",
    "[2, 1]=[3]\n",
    "[1, 2]=[3]\n",
    "=[[2, 1], [1, 2],[3],[3]]\n",
    "\n",
    "2°)\n",
    "[[1, 1, 1, 1, 1, 1],\n",
    " [2, 1, 1, 1, 1],\n",
    " [1, 2, 1, 1, 1],\n",
    " [1, 1, 2, 1, 1],\n",
    " [1, 1, 1, 2, 1],\n",
    " [1, 1, 1, 1, 2],\n",
    " [3, 1, 1, 1],\n",
    " [2, 2, 1, 1],\n",
    " [2, 1, 2, 1],\n",
    " [2, 1, 1, 2],\n",
    " [1, 3, 1, 1],\n",
    " [1, 2, 2, 1],\n",
    " [1, 2, 1, 2],\n",
    " [1, 1, 3, 1],\n",
    " [1, 1, 2, 2],\n",
    " [1, 1, 1, 3],\n",
    " [4, 1, 1],\n",
    " [3, 2, 1],\n",
    " [3, 1, 2],\n",
    " [2, 3, 1],\n",
    " [2, 2, 2],\n",
    " [2, 1, 3],\n",
    " [1, 4, 1],\n",
    " [1, 3, 2],\n",
    " [1, 2, 3],\n",
    " [1, 1, 4],\n",
    " [5, 1],\n",
    " [4, 2],\n",
    " [3, 3],\n",
    " [2, 4],\n",
    " [1, 5],\n",
    " [6]]"
   ]
  },
  {
   "cell_type": "code",
   "execution_count": 18,
   "metadata": {},
   "outputs": [
    {
     "ename": "SyntaxError",
     "evalue": "invalid character in identifier (<ipython-input-18-20d12d8e9684>, line 1)",
     "output_type": "error",
     "traceback": [
      "\u001b[0;36m  File \u001b[0;32m\"<ipython-input-18-20d12d8e9684>\"\u001b[0;36m, line \u001b[0;32m1\u001b[0m\n\u001b[0;31m    3°) Il y en a 32 en comptant les doublons\u001b[0m\n\u001b[0m     ^\u001b[0m\n\u001b[0;31mSyntaxError\u001b[0m\u001b[0;31m:\u001b[0m invalid character in identifier\n"
     ]
    }
   ],
   "source": [
    "3°) Il y en a 32 en comptant les doublons"
   ]
  },
  {
   "cell_type": "code",
   "execution_count": 19,
   "metadata": {},
   "outputs": [
    {
     "name": "stdout",
     "output_type": "stream",
     "text": [
      "i= 2 len= 2\n",
      "i= 3 len= 4\n",
      "i= 4 len= 8\n",
      "i= 5 len= 16\n"
     ]
    }
   ],
   "source": [
    "#4°)\n",
    "for i in range(2,6):\n",
    "    print(\"i=\",i,\"len=\",len(C_n([[1]*i])))"
   ]
  },
  {
   "cell_type": "code",
   "execution_count": 20,
   "metadata": {},
   "outputs": [],
   "source": [
    "#5°)p(n)=Que cela tend toujours vers une liste [n]"
   ]
  },
  {
   "cell_type": "markdown",
   "metadata": {},
   "source": [
    "#6°)\n",
    "Demontrons par recurrence:<br>\n",
    "p(n)=[n]<br>\n",
    "[]\n",
    "n=0<br>\n",
    "Somme liste vide =0<br>\n",
    "HR= pn vrai pour un certain n<br>\n",
    "Montrons pour pn+1<br>\n",
    "\n",
    "Heridité:<br>\n",
    "f(1,...,1,1)<br>\n",
    "par HR f(1,...1,1) des n premier 1 =n<br>\n",
    "donc f(1,...1,1)=f(n,1)par HR<br>\n",
    "Par definition de f nous avons f(n,1)=[n+1] <br>\n",
    "D'ou P(n+1) vrai =[n+1]<br>\n",
    "\n",
    "Conclusion:<br>\n",
    "Par récurrence, la propriété est vraie pour tout n.<br>\n",
    "\n",
    "\n"
   ]
  },
  {
   "cell_type": "code",
   "execution_count": null,
   "metadata": {},
   "outputs": [],
   "source": []
  },
  {
   "cell_type": "code",
   "execution_count": null,
   "metadata": {},
   "outputs": [],
   "source": []
  },
  {
   "cell_type": "code",
   "execution_count": null,
   "metadata": {},
   "outputs": [],
   "source": []
  }
 ],
 "metadata": {
  "kernelspec": {
   "display_name": "Python 3",
   "language": "python",
   "name": "python3"
  },
  "language_info": {
   "codemirror_mode": {
    "name": "ipython",
    "version": 3
   },
   "file_extension": ".py",
   "mimetype": "text/x-python",
   "name": "python",
   "nbconvert_exporter": "python",
   "pygments_lexer": "ipython3",
   "version": "3.7.6"
  },
  "toc": {
   "base_numbering": 1,
   "nav_menu": {},
   "number_sections": true,
   "sideBar": true,
   "skip_h1_title": false,
   "title_cell": "Table of Contents",
   "title_sidebar": "Contents",
   "toc_cell": false,
   "toc_position": {},
   "toc_section_display": true,
   "toc_window_display": false
  },
  "varInspector": {
   "cols": {
    "lenName": 16,
    "lenType": 16,
    "lenVar": 40
   },
   "kernels_config": {
    "python": {
     "delete_cmd_postfix": "",
     "delete_cmd_prefix": "del ",
     "library": "var_list.py",
     "varRefreshCmd": "print(var_dic_list())"
    },
    "r": {
     "delete_cmd_postfix": ") ",
     "delete_cmd_prefix": "rm(",
     "library": "var_list.r",
     "varRefreshCmd": "cat(var_dic_list()) "
    }
   },
   "types_to_exclude": [
    "module",
    "function",
    "builtin_function_or_method",
    "instance",
    "_Feature"
   ],
   "window_display": false
  }
 },
 "nbformat": 4,
 "nbformat_minor": 4
}
